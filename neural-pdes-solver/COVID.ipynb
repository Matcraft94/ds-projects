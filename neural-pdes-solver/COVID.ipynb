{
 "cells": [
  {
   "cell_type": "markdown",
   "metadata": {},
   "source": [
    "# CODIV-19"
   ]
  },
  {
   "cell_type": "code",
   "execution_count": 1,
   "metadata": {},
   "outputs": [
    {
     "name": "stderr",
     "output_type": "stream",
     "text": [
      "c:\\Users\\mated\\anaconda3\\envs\\torch_win39\\lib\\site-packages\\tqdm\\auto.py:21: TqdmWarning: IProgress not found. Please update jupyter and ipywidgets. See https://ipywidgets.readthedocs.io/en/stable/user_install.html\n",
      "  from .autonotebook import tqdm as notebook_tqdm\n"
     ]
    }
   ],
   "source": [
    "import numpy as np\n",
    "import pandas as pd\n",
    "from scipy.integrate import odeint\n",
    "import torch\n",
    "import pyro\n",
    "import pyro.distributions as dist\n",
    "from pyro.optim import Adam\n",
    "from pyro.infer import SVI, Trace_ELBO\n",
    "import pyro.poutine as poutine\n",
    "from pyro.distributions import constraints"
   ]
  },
  {
   "cell_type": "code",
   "execution_count": 2,
   "metadata": {},
   "outputs": [],
   "source": [
    "def sir_step(S, I, R, beta, gamma, N):\n",
    "    dS = -beta * S * I / N\n",
    "    dI = beta * S * I / N - gamma * I\n",
    "    dR = gamma * I\n",
    "    next_S = S + dS\n",
    "    next_I = I + dI\n",
    "    next_R = R + dR\n",
    "    return next_S, next_I, next_R"
   ]
  },
  {
   "cell_type": "code",
   "execution_count": 3,
   "metadata": {},
   "outputs": [],
   "source": [
    "# Define the SIR differential equations\n",
    "def sir_model(y, t, beta, gamma):\n",
    "    S, I, R = y\n",
    "    dSdt = -beta * S * I\n",
    "    dIdt = beta * S * I - gamma * I\n",
    "    dRdt = gamma * I\n",
    "    return [dSdt, dIdt, dRdt]"
   ]
  },
  {
   "cell_type": "code",
   "execution_count": 4,
   "metadata": {},
   "outputs": [],
   "source": [
    "# def sir_model_modified(susceptible, infected, recovered):\n",
    "#     # Prior distributions for the parameters\n",
    "#     beta = pyro.sample(\"beta\", dist.Beta(2, 2))\n",
    "#     gamma = pyro.sample(\"gamma\", dist.Beta(2, 2))\n",
    "    \n",
    "#     # Initial conditions\n",
    "#     S, I, R = susceptible[0], infected[0], recovered[0]\n",
    "#     N = S + I + R\n",
    "\n",
    "#     # We'll use these lists to store our predictions at each time step\n",
    "#     S_pred = [S]\n",
    "#     I_pred = [I]\n",
    "#     R_pred = [R]\n",
    "    \n",
    "#     # Loop over the observed data, predicting the next value using the previous value\n",
    "#     # and the ODE solver.\n",
    "#     for t in range(1, len(susceptible)):\n",
    "#         next_S, next_I, next_R = sir_step(S, I, R, beta, gamma, N)\n",
    "#         S_pred.append(next_S)\n",
    "#         I_pred.append(next_I)\n",
    "#         R_pred.append(next_R)\n",
    "        \n",
    "#         S = next_S\n",
    "#         I = next_I\n",
    "#         R = next_R\n",
    "        \n",
    "#     # Convert lists to tensors\n",
    "#     S_pred = torch.stack(S_pred)\n",
    "#     I_pred = torch.stack(I_pred)\n",
    "#     R_pred = torch.stack(R_pred)\n",
    "    \n",
    "#     # Condition on the observed data\n",
    "#     pyro.sample(\"obs_S\", dist.Normal(S_pred, 10), obs=susceptible)\n",
    "#     pyro.sample(\"obs_I\", dist.Normal(I_pred, 10), obs=infected)\n",
    "#     pyro.sample(\"obs_R\", dist.Normal(R_pred, 10), obs=recovered)"
   ]
  },
  {
   "cell_type": "code",
   "execution_count": 5,
   "metadata": {},
   "outputs": [],
   "source": [
    "# Integrate the SIR equations over the time grid using given parameters\n",
    "def sir_solution(y0, t, beta, gamma):\n",
    "    # Ensure tensors are detached from the current graph\n",
    "    t_np = t.detach().numpy()\n",
    "    y0_np = [y.detach().numpy() for y in y0]\n",
    "    beta_np = beta.detach().numpy()\n",
    "    gamma_np = gamma.detach().numpy()\n",
    "    return odeint(sir_model, y0_np, t_np, args=(beta_np, gamma_np))"
   ]
  },
  {
   "cell_type": "code",
   "execution_count": 6,
   "metadata": {},
   "outputs": [],
   "source": [
    "def model(susceptible, infected, recovered):\n",
    "    # Use wider bounds for priors\n",
    "    beta = pyro.sample(\"beta\", dist.Uniform(0.05, 0.5))\n",
    "    gamma = pyro.sample(\"gamma\", dist.Uniform(0.05, 0.5))\n",
    "    \n",
    "    # Initial conditions\n",
    "    S0, I0, R0 = susceptible[0], infected[0], recovered[0]\n",
    "    N = S0 + I0 + R0\n",
    "    \n",
    "    # Predictions\n",
    "    S, I, R = S0, I0, R0\n",
    "    S_pred = [S0]\n",
    "    I_pred = [I0]\n",
    "    R_pred = [R0]\n",
    "    \n",
    "    for _ in range(1, len(susceptible)):\n",
    "        dS = -beta * S * I / N\n",
    "        dI = beta * S * I / N - gamma * I\n",
    "        dR = gamma * I\n",
    "        \n",
    "        S = torch.clamp(S + dS, min=0.0)\n",
    "        I = torch.clamp(I + dI, min=0.0)\n",
    "        R = torch.clamp(R + dR, min=0.0)\n",
    "        \n",
    "        S_pred.append(S)\n",
    "        I_pred.append(I)\n",
    "        R_pred.append(R)\n",
    "    \n",
    "    S_pred = torch.stack(S_pred)\n",
    "    I_pred = torch.stack(I_pred)\n",
    "    R_pred = torch.stack(R_pred)\n",
    "    \n",
    "    # Observations with larger noise scale\n",
    "    with pyro.plate(\"data\", len(susceptible)):\n",
    "        pyro.sample(\"obs_S\", dist.Normal(S_pred, 1000.0), obs=susceptible)\n",
    "        pyro.sample(\"obs_I\", dist.Normal(I_pred, 1000.0), obs=infected)\n",
    "        pyro.sample(\"obs_R\", dist.Normal(R_pred, 1000.0), obs=recovered)"
   ]
  },
  {
   "cell_type": "code",
   "execution_count": 7,
   "metadata": {},
   "outputs": [],
   "source": [
    "# Load the data\n",
    "us_daily_data = pd.read_csv(\"data/covid/us_covid19_daily.csv\")"
   ]
  },
  {
   "cell_type": "code",
   "execution_count": 8,
   "metadata": {},
   "outputs": [],
   "source": [
    "# Convert date columns to datetime format\n",
    "us_daily_data['date'] = pd.to_datetime(us_daily_data['date'], format=\"%Y%m%d\")"
   ]
  },
  {
   "cell_type": "code",
   "execution_count": 9,
   "metadata": {},
   "outputs": [],
   "source": [
    "# Extract relevant columns for SIR modeling\n",
    "sir_data = us_daily_data[['date', 'positive', 'death']].sort_values(by='date').reset_index(drop=True)"
   ]
  },
  {
   "cell_type": "code",
   "execution_count": 10,
   "metadata": {},
   "outputs": [
    {
     "name": "stderr",
     "output_type": "stream",
     "text": [
      "C:\\Users\\mated\\AppData\\Local\\Temp\\ipykernel_34376\\2596338286.py:4: FutureWarning: A value is trying to be set on a copy of a DataFrame or Series through chained assignment using an inplace method.\n",
      "The behavior will change in pandas 3.0. This inplace method will never work because the intermediate object on which we are setting values always behaves as a copy.\n",
      "\n",
      "For example, when doing 'df[col].method(value, inplace=True)', try using 'df.method({col: value}, inplace=True)' or df[col] = df[col].method(value) instead, to perform the operation inplace on the original object.\n",
      "\n",
      "\n",
      "  sir_data['recovered'].fillna(0, inplace=True)\n"
     ]
    }
   ],
   "source": [
    "# Calculate the number of recovered individuals\n",
    "recovery_delay = 14\n",
    "sir_data['recovered'] = sir_data['positive'].shift(recovery_delay) - sir_data['death'].shift(recovery_delay)\n",
    "sir_data['recovered'].fillna(0, inplace=True)"
   ]
  },
  {
   "cell_type": "code",
   "execution_count": 11,
   "metadata": {},
   "outputs": [
    {
     "name": "stderr",
     "output_type": "stream",
     "text": [
      "C:\\Users\\mated\\AppData\\Local\\Temp\\ipykernel_34376\\3317233652.py:2: FutureWarning: A value is trying to be set on a copy of a DataFrame or Series through chained assignment using an inplace method.\n",
      "The behavior will change in pandas 3.0. This inplace method will never work because the intermediate object on which we are setting values always behaves as a copy.\n",
      "\n",
      "For example, when doing 'df[col].method(value, inplace=True)', try using 'df.method({col: value}, inplace=True)' or df[col] = df[col].method(value) instead, to perform the operation inplace on the original object.\n",
      "\n",
      "\n",
      "  sir_data['death'].fillna(0, inplace=True)\n"
     ]
    }
   ],
   "source": [
    "# Fill with 0 the missing values of deaths\n",
    "sir_data['death'].fillna(0, inplace=True)"
   ]
  },
  {
   "cell_type": "code",
   "execution_count": 12,
   "metadata": {},
   "outputs": [],
   "source": [
    "# For simplicity, we'll consider the entire US population as susceptible initially\n",
    "us_population = 328_200_000  # US population estimate\n",
    "sir_data['susceptible'] = us_population - sir_data['positive'] - sir_data['recovered']"
   ]
  },
  {
   "cell_type": "code",
   "execution_count": 13,
   "metadata": {},
   "outputs": [],
   "source": [
    "# Convert data to PyTorch tensors\n",
    "susceptible_t = torch.tensor(sir_data['susceptible'].values, dtype=torch.float)\n",
    "infected_t = torch.tensor(sir_data['positive'].values, dtype=torch.float)\n",
    "recovered_t = torch.tensor(sir_data['recovered'].values, dtype=torch.float)"
   ]
  },
  {
   "cell_type": "code",
   "execution_count": 14,
   "metadata": {},
   "outputs": [],
   "source": [
    "# Run inference using Pyro\n",
    "from pyro.infer import SVI, Trace_ELBO\n",
    "from pyro.optim import Adam"
   ]
  },
  {
   "cell_type": "code",
   "execution_count": 15,
   "metadata": {},
   "outputs": [],
   "source": [
    "# # Define the guide function\n",
    "# def guide(susceptible, infected, recovered):\n",
    "#     beta_loc = pyro.param('beta_loc', torch.tensor(0.5), constraint=dist.constraints.positive)\n",
    "#     beta_scale = pyro.param('beta_scale', torch.tensor(0.2), constraint=dist.constraints.positive)\n",
    "#     gamma_loc = pyro.param('gamma_loc', torch.tensor(0.5), constraint=dist.constraints.positive)\n",
    "#     gamma_scale = pyro.param('gamma_scale', torch.tensor(0.2), constraint=dist.constraints.positive)\n",
    "    \n",
    "#     beta = pyro.sample(\"beta\", dist.Normal(beta_loc, beta_scale))\n",
    "#     gamma = pyro.sample(\"gamma\", dist.Normal(gamma_loc, gamma_scale))"
   ]
  },
  {
   "cell_type": "code",
   "execution_count": 16,
   "metadata": {},
   "outputs": [],
   "source": [
    "def guide(susceptible, infected, recovered):\n",
    "    # Use sigmoid to ensure parameters stay in valid range\n",
    "    beta_loc = pyro.param('beta_loc', \n",
    "                         torch.tensor(0.2),\n",
    "                         constraint=dist.constraints.interval(0.05, 0.5))\n",
    "    gamma_loc = pyro.param('gamma_loc',\n",
    "                          torch.tensor(0.2),\n",
    "                          constraint=dist.constraints.interval(0.05, 0.5))\n",
    "    \n",
    "    # Sample parameters\n",
    "    beta = pyro.sample('beta', dist.Delta(beta_loc))\n",
    "    gamma = pyro.sample('gamma', dist.Delta(gamma_loc))"
   ]
  },
  {
   "cell_type": "code",
   "execution_count": 17,
   "metadata": {},
   "outputs": [],
   "source": [
    "def guide_modified(susceptible, infected, recovered):\n",
    "    # Beta distribution parameters for beta\n",
    "    alpha_beta = pyro.param(\"alpha_beta\", torch.tensor(2.0), constraint=constraints.positive)\n",
    "    beta_beta = pyro.param(\"beta_beta\", torch.tensor(2.0), constraint=constraints.positive)\n",
    "    \n",
    "    # Beta distribution parameters for gamma\n",
    "    alpha_gamma = pyro.param(\"alpha_gamma\", torch.tensor(2.0), constraint=constraints.positive)\n",
    "    beta_gamma = pyro.param(\"beta_gamma\", torch.tensor(2.0), constraint=constraints.positive)\n",
    "    \n",
    "    beta = pyro.sample(\"beta\", dist.Beta(alpha_beta, beta_beta))\n",
    "    gamma = pyro.sample(\"gamma\", dist.Beta(alpha_gamma, beta_gamma))"
   ]
  },
  {
   "cell_type": "code",
   "execution_count": 18,
   "metadata": {},
   "outputs": [
    {
     "name": "stderr",
     "output_type": "stream",
     "text": [
      "C:\\Users\\mated\\AppData\\Local\\Temp\\ipykernel_34376\\1653134527.py:2: UserWarning: To copy construct from a tensor, it is recommended to use sourceTensor.clone().detach() or sourceTensor.clone().detach().requires_grad_(True), rather than torch.tensor(sourceTensor).\n",
      "  susceptible_t = torch.tensor(susceptible_t).float()\n",
      "C:\\Users\\mated\\AppData\\Local\\Temp\\ipykernel_34376\\1653134527.py:3: UserWarning: To copy construct from a tensor, it is recommended to use sourceTensor.clone().detach() or sourceTensor.clone().detach().requires_grad_(True), rather than torch.tensor(sourceTensor).\n",
      "  infected_t = torch.tensor(infected_t).float()\n",
      "C:\\Users\\mated\\AppData\\Local\\Temp\\ipykernel_34376\\1653134527.py:4: UserWarning: To copy construct from a tensor, it is recommended to use sourceTensor.clone().detach() or sourceTensor.clone().detach().requires_grad_(True), rather than torch.tensor(sourceTensor).\n",
      "  recovered_t = torch.tensor(recovered_t).float()\n"
     ]
    }
   ],
   "source": [
    "# Data conversion\n",
    "susceptible_t = torch.tensor(susceptible_t).float()\n",
    "infected_t = torch.tensor(infected_t).float()\n",
    "recovered_t = torch.tensor(recovered_t).float()"
   ]
  },
  {
   "cell_type": "code",
   "execution_count": 19,
   "metadata": {},
   "outputs": [],
   "source": [
    "# # # Setup the inference algorithm\n",
    "# # pyro.clear_param_store()\n",
    "# # # svi = SVI(model, guide, Adam({\"lr\": 0.001}), loss=Trace_ELBO())\n",
    "# # optimizer = pyro.optim.Adam({\"lr\": 0.001})  # Reduced learning rate from 0.01 to 0.001\n",
    "# # svi = pyro.infer.SVI(model, guide, optimizer, loss=pyro.infer.Trace_ELBO())\n",
    "\n",
    "# # Resetting parameters\n",
    "# pyro.clear_param_store()\n",
    "\n",
    "# # Setting up SVI with modified model and guide\n",
    "# svi = pyro.infer.SVI(sir_model_modified, guide_modified, optimizer, loss=pyro.infer.Trace_ELBO())\n",
    "# Setup for SVI\n",
    "pyro.clear_param_store()\n",
    "# optimizer = Adam({\"lr\": 0.01})\n",
    "# svi = SVI(sir_model_modified, guide_modified, optimizer, loss=Trace_ELBO())\n",
    "optimizer = Adam({\"lr\": 0.01})\n",
    "svi = SVI(model, guide, optimizer, loss=Trace_ELBO())"
   ]
  },
  {
   "cell_type": "code",
   "execution_count": 20,
   "metadata": {},
   "outputs": [
    {
     "name": "stdout",
     "output_type": "stream",
     "text": [
      "[iteration 0001] loss: 15970642.5267\n",
      "[iteration 0101] loss: 15970642.5267\n",
      "[iteration 0201] loss: 15970642.5267\n"
     ]
    },
    {
     "data": {
      "text/plain": [
       "3529511998.4029846"
      ]
     },
     "execution_count": 20,
     "metadata": {},
     "output_type": "execute_result"
    }
   ],
   "source": [
    "# # Train the model\n",
    "# num_iterations = 5000\n",
    "# for j in range(num_iterations):\n",
    "#     loss = svi.step(susceptible_t, infected_t, recovered_t)\n",
    "#     if j % 500 == 0:\n",
    "#         print(\"[iteration %04d] loss: %.4f\" % (j + 1, loss / len(susceptible_t)))\n",
    "# Running SVI\n",
    "losses = []\n",
    "num_iterations = 300\n",
    "for j in range(num_iterations):\n",
    "    loss = svi.step(susceptible_t, infected_t, recovered_t)\n",
    "    losses.append(loss)\n",
    "    if j % 100 == 0:\n",
    "        print(\"[iteration %04d] loss: %.4f\" % (j + 1, loss / len(susceptible_t)))\n",
    "\n",
    "losses[-1]"
   ]
  },
  {
   "cell_type": "code",
   "execution_count": null,
   "metadata": {},
   "outputs": [
    {
     "name": "stdout",
     "output_type": "stream",
     "text": [
      "Estimated beta: 0.20000000298023224\n",
      "Estimated gamma: 0.20000000298023224\n"
     ]
    },
    {
     "ename": "",
     "evalue": "",
     "output_type": "error",
     "traceback": [
      "\u001b[1;31mThe Kernel crashed while executing code in the current cell or a previous cell. \n",
      "\u001b[1;31mPlease review the code in the cell(s) to identify a possible cause of the failure. \n",
      "\u001b[1;31mClick <a href='https://aka.ms/vscodeJupyterKernelCrash'>here</a> for more info. \n",
      "\u001b[1;31mView Jupyter <a href='command:jupyter.viewOutput'>log</a> for further details."
     ]
    }
   ],
   "source": [
    "# Extract the inferred parameters\n",
    "beta_estimated = pyro.param(\"beta_loc\").item()\n",
    "gamma_estimated = pyro.param(\"gamma_loc\").item()\n",
    "\n",
    "print(f\"Estimated beta: {beta_estimated}\")\n",
    "print(f\"Estimated gamma: {gamma_estimated}\")"
   ]
  }
 ],
 "metadata": {
  "kernelspec": {
   "display_name": "torch_win39",
   "language": "python",
   "name": "python3"
  },
  "language_info": {
   "codemirror_mode": {
    "name": "ipython",
    "version": 3
   },
   "file_extension": ".py",
   "mimetype": "text/x-python",
   "name": "python",
   "nbconvert_exporter": "python",
   "pygments_lexer": "ipython3",
   "version": "3.9.21"
  },
  "orig_nbformat": 4
 },
 "nbformat": 4,
 "nbformat_minor": 2
}
