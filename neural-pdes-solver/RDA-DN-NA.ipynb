{
 "cells": [
  {
   "cell_type": "markdown",
   "metadata": {},
   "source": [
    "# Reacción-Difusión-Advección con EDOs Neuronales Aumentadas\n",
    "\n",
    "La reacción de Belousov-Zhabotinsky (BZ) es una reacción química oscilante que sirve como un ejemplo clásico de un sistema dinámico no lineal. La reacción BZ involucra múltiples especies químicas y múltiples reacciones, y la concentración de las especies químicas cambia en el tiempo y en el espacio.\n",
    "\n",
    "La ecuación de reacción-difusión-advección para una de las especies químicas en la reacción BZ puede tener la forma siguiente:\n",
    "\n",
    "$$\n",
    "\\dfrac{\\partial c}{\\partial t} = D \\dfrac{\\partial^2 c}{\\partial x^2} - u \\dfrac{\\partial c}{\\partial x} + R(c)\n",
    "$$\n",
    "\n",
    "donde:\n",
    "\n",
    "- $ c $ es la concentración de la especie química.\n",
    "- $ t $ es el tiempo.\n",
    "- $ x $ es la coordenada espacial.\n",
    "- $ D $ es el coeficiente de difusión.\n",
    "- $ u $ es la velocidad de advección.\n",
    "- $ R(c) $ es la tasa de reacción, que depende de la concentración de todas las especies químicas presentes.\n",
    "\n",
    "La función $ R(c) $ es específica de la reacción química que se está considerando. Para la reacción BZ, $ R(c) $ puede ser bastante compleja debido a la cantidad de especies químicas y reacciones involucradas.\n",
    "\n",
    "Para resolver esta ecuación utilizando EDOs Neuronales Aumentadas, tendríamos que seguir los siguientes pasos:\n",
    "\n",
    "1. Generar datos sintéticos resolviendo numéricamente la ecuación de reacción-difusión-advección para la reacción BZ. Esto podría hacerse utilizando un solucionador de ecuaciones diferenciales parciales (PDEs) como el método de elementos finitos o el método de diferencias finitas.\n",
    "\n",
    "2. Entrenar un modelo de EDOs Neuronales Aumentadas en los datos sintéticos. El modelo tomaría como entrada el tiempo $ t $ y la coordenada espacial $ x $, y produciría como salida la concentración $ c $ de una o más especies químicas.\n",
    "\n",
    "3. Evaluar el rendimiento del modelo comparando las predicciones del modelo con los datos sintéticos o con datos experimentales.\n",
    "\n",
    "Dado que generar datos sintéticos para la reacción BZ es un proceso complejo que requiere resolver numéricamente una PDE, y dado que el entrenamiento de un modelo de EDOs Neuronales Aumentadas en estos datos puede requerir una cantidad significativa de recursos computacionales, este proceso puede ser bastante desafiante."
   ]
  },
  {
   "cell_type": "markdown",
   "metadata": {},
   "source": [
    "## Generación de datos sintéticos\n",
    "\n",
    "Para generar datos sintéticos, necesitamos resolver la ecuación de reacción-difusión-advección para la reacción BZ. La reacción BZ es un sistema complejo que involucra múltiples especies químicas y reacciones. Una forma comúnmente utilizada para modelar la reacción BZ es el modelo de Oregonator, que es un sistema de ecuaciones diferenciales ordinarias (ODEs) que describe la concentración de varias especies químicas en función del tiempo.\n",
    "\n",
    "El modelo de Oregonator puede ser descrito por el siguiente sistema de ODEs:\n",
    "\n",
    "\\begin{align*}\n",
    "\\frac{du}{dt} &= f(u) - v + D_u \\frac{\\partial^2 u}{\\partial x^2} - u \\frac{\\partial v}{\\partial x} \\\\\n",
    "\\frac{dv}{dt} &= u - v + D_v \\frac{\\partial^2 v}{\\partial x^2} + v \\frac{\\partial u}{\\partial x}\n",
    "\\end{align*}\n",
    "\n",
    "donde $u$ y $v$ son las concentraciones de dos de las especies químicas en la reacción, $f(u)$ es una función que describe la tasa de reacción, y $D_u$ y $D_v$ son los coeficientes de difusión de $u$ y $v$, respectivamente.\n",
    "\n",
    "Para generar datos sintéticos, tendríamos que resolver este sistema de ODEs para un conjunto de condiciones iniciales y parámetros dados. Esto generaría un conjunto de datos de series temporales que podríamos utilizar para entrenar el modelo de EDOs Neuronales Aumentadas.\n",
    "\n",
    "A continuación, implementaremos y resolveremos el modelo de Oregonator para generar los datos sintéticos. Luego, utilizaremos estos datos para entrenar el modelo.\n"
   ]
  },
  {
   "cell_type": "code",
   "execution_count": 1,
   "metadata": {},
   "outputs": [],
   "source": [
    "import numpy as np\n",
    "from scipy.integrate import solve_ivp"
   ]
  },
  {
   "cell_type": "code",
   "execution_count": 2,
   "metadata": {},
   "outputs": [],
   "source": [
    "# def oregonator(t, y, Du, Dv, f):\n",
    "#     u, v = y\n",
    "#     dudt = f(u) - v + Du * u**2 - u*v\n",
    "#     dvdt = u - v + Dv * v**2 + v*u\n",
    "#     return [dudt, dvdt]"
   ]
  },
  {
   "cell_type": "code",
   "execution_count": 3,
   "metadata": {},
   "outputs": [],
   "source": [
    "def oregonator(t, y, q):\n",
    "    u, v = y\n",
    "    f = lambda u: u**2 / (1 + u**2)\n",
    "    dudt = f(u) - q*v\n",
    "    dvdt = u - f(u)\n",
    "    return np.array([dudt, dvdt])"
   ]
  },
  {
   "cell_type": "code",
   "execution_count": 4,
   "metadata": {},
   "outputs": [],
   "source": [
    "# Método de Runge-Kutta de cuarto orden\n",
    "def runge_kutta_4(f, y0, t, args):\n",
    "    n = len(t)\n",
    "    y = np.zeros((n, len(y0)))\n",
    "    y[0] = y0\n",
    "    for i in range(n-1):\n",
    "        dt = t[i+1] - t[i]\n",
    "        k1 = f(t[i], y[i], *args)\n",
    "        k2 = f(t[i] + dt/2, y[i] + dt*k1/2, *args)\n",
    "        k3 = f(t[i] + dt/2, y[i] + dt*k2/2, *args)\n",
    "        k4 = f(t[i+1], y[i] + dt*k3, *args)\n",
    "        y[i+1] = y[i] + dt*(k1 + 2*k2 + 2*k3 + k4)/6\n",
    "    return y"
   ]
  },
  {
   "cell_type": "code",
   "execution_count": 5,
   "metadata": {},
   "outputs": [],
   "source": [
    "# Parámetros\n",
    "a = 0.1\n",
    "q = 0.1\n",
    "Du = 1e-5\n",
    "Dv = 2e-5\n",
    "f = lambda u: u**2 / (1 + u**2)"
   ]
  },
  {
   "cell_type": "code",
   "execution_count": 6,
   "metadata": {},
   "outputs": [],
   "source": [
    "# Condiciones iniciales\n",
    "u0 = 1.0\n",
    "v0 = 0.0\n",
    "y0 = [u0, v0]"
   ]
  },
  {
   "cell_type": "code",
   "execution_count": 7,
   "metadata": {},
   "outputs": [],
   "source": [
    "# Intervalo de tiempo\n",
    "t_span = [0, 10]\n",
    "t_eval = np.linspace(t_span[0], t_span[1], 100)"
   ]
  },
  {
   "cell_type": "code",
   "execution_count": 8,
   "metadata": {},
   "outputs": [],
   "source": [
    "# # Resolver el sistema de ODEs\n",
    "# sol = solve_ivp(oregonator, t_span, y0, t_eval=t_eval, args=(Du, Dv, f))\n",
    "\n",
    "# Resolver el sistema de ODEs\n",
    "sol = runge_kutta_4(oregonator, y0, t_eval, args=(q,))"
   ]
  },
  {
   "cell_type": "code",
   "execution_count": 9,
   "metadata": {},
   "outputs": [],
   "source": [
    "# # Extraer los resultados\n",
    "# t = sol.t\n",
    "# u = sol.y[0]\n",
    "# v = sol.y[1]\n",
    "\n",
    "# Extraer los resultados\n",
    "u = sol[:, 0]\n",
    "v = sol[:, 1]"
   ]
  },
  {
   "cell_type": "code",
   "execution_count": 10,
   "metadata": {},
   "outputs": [
    {
     "data": {
      "image/png": "[encoded data removed]",
      "text/plain": [
       "<Figure size 640x480 with 1 Axes>"
      ]
     },
     "metadata": {},
     "output_type": "display_data"
    }
   ],
   "source": [
    "# Graficar los resultados\n",
    "import matplotlib.pyplot as plt\n",
    "\n",
    "plt.plot(t_eval, u, label='u')\n",
    "plt.plot(t_eval, v, label='v')\n",
    "plt.xlabel('Tiempo')\n",
    "plt.ylabel('Concentración')\n",
    "plt.legend()\n",
    "plt.show()"
   ]
  },
  {
   "cell_type": "markdown",
   "metadata": {},
   "source": [
    "## Procesameinto de datos"
   ]
  },
  {
   "cell_type": "code",
   "execution_count": 11,
   "metadata": {},
   "outputs": [],
   "source": [
    "# Normalizar los datos\n",
    "u_max = np.max(u)\n",
    "v_max = np.max(v)\n",
    "u_norm = u / u_max\n",
    "v_norm = v / v_max"
   ]
  },
  {
   "cell_type": "code",
   "execution_count": 12,
   "metadata": {},
   "outputs": [],
   "source": [
    "# Dividir los datos en conjuntos de entrenamiento y prueba\n",
    "train_size = int(0.8 * len(t_eval))\n",
    "u_train = u_norm[:train_size]\n",
    "v_train = v_norm[:train_size]\n",
    "t_train = t_eval[:train_size]\n",
    "u_test = u_norm[train_size:]\n",
    "v_test = v_norm[train_size:]\n",
    "t_test = t_eval[train_size:]"
   ]
  },
  {
   "cell_type": "code",
   "execution_count": 13,
   "metadata": {},
   "outputs": [],
   "source": [
    "# Transformar los datos para el entrenamiento\n",
    "X_train = np.vstack((t_train, u_train)).T\n",
    "y_train = v_train\n",
    "X_test = np.vstack((t_test, u_test)).T\n",
    "y_test = v_test"
   ]
  },
  {
   "cell_type": "code",
   "execution_count": 14,
   "metadata": {},
   "outputs": [],
   "source": [
    "import torch\n",
    "import torch.nn as nn\n",
    "import torch.optim as optim"
   ]
  },
  {
   "cell_type": "code",
   "execution_count": 15,
   "metadata": {},
   "outputs": [],
   "source": [
    "# Definir el modelo de EDOs Neuronales Aumentadas\n",
    "class NeuralODE(nn.Module):\n",
    "    def __init__(self):\n",
    "        super(NeuralODE, self).__init__()\n",
    "        self.net = nn.Sequential(\n",
    "            nn.Linear(2, 20),\n",
    "            nn.Tanh(),\n",
    "            nn.Linear(20, 40),\n",
    "            nn.Tanh(),\n",
    "            nn.Linear(40,20),\n",
    "            nn.Linear(20, 1)\n",
    "        )\n",
    "    \n",
    "    def forward(self, t, x):\n",
    "        return self.net(torch.cat((t.unsqueeze(1), x.unsqueeze(1)), dim=1))"
   ]
  },
  {
   "cell_type": "code",
   "execution_count": 16,
   "metadata": {},
   "outputs": [
    {
     "data": {
      "text/plain": [
       "NeuralODE(\n",
       "  (net): Sequential(\n",
       "    (0): Linear(in_features=2, out_features=20, bias=True)\n",
       "    (1): Tanh()\n",
       "    (2): Linear(in_features=20, out_features=40, bias=True)\n",
       "    (3): Tanh()\n",
       "    (4): Linear(in_features=40, out_features=20, bias=True)\n",
       "    (5): Linear(in_features=20, out_features=1, bias=True)\n",
       "  )\n",
       ")"
      ]
     },
     "execution_count": 16,
     "metadata": {},
     "output_type": "execute_result"
    }
   ],
   "source": [
    "# Crear el modelo\n",
    "model = NeuralODE()\n",
    "model"
   ]
  },
  {
   "cell_type": "code",
   "execution_count": 17,
   "metadata": {},
   "outputs": [
    {
     "name": "stdout",
     "output_type": "stream",
     "text": [
      "Usando cuda\n"
     ]
    }
   ],
   "source": [
    "# Mover el modelo a la GPU si está disponible\n",
    "device = torch.device('cuda' if torch.cuda.is_available() else 'cpu')\n",
    "print(f'Usando {device}')\n",
    "model = model.to(device)"
   ]
  },
  {
   "cell_type": "code",
   "execution_count": 18,
   "metadata": {},
   "outputs": [],
   "source": [
    "# Definir la función de pérdida y el optimizador\n",
    "criterion = nn.MSELoss()\n",
    "optimizer = optim.Adam(model.parameters(), lr=0.01)"
   ]
  },
  {
   "cell_type": "code",
   "execution_count": 19,
   "metadata": {},
   "outputs": [],
   "source": [
    "t_tensor = torch.tensor(t_eval, dtype=torch.float32)\n",
    "u_tensor = torch.tensor(u_norm, dtype=torch.float32)\n",
    "v_tensor = torch.tensor(v_norm, dtype=torch.float32)"
   ]
  },
  {
   "cell_type": "code",
   "execution_count": 20,
   "metadata": {},
   "outputs": [],
   "source": [
    "# Convertir los datos a tensores de PyTorch y moverlos a la GPU\n",
    "X_train_tensor = torch.tensor(X_train, dtype=torch.float32).to(device)\n",
    "y_train_tensor = torch.tensor(y_train, dtype=torch.float32).to(device)\n",
    "X_test_tensor = torch.tensor(X_test, dtype=torch.float32).to(device)\n",
    "y_test_tensor = torch.tensor(y_test, dtype=torch.float32).to(device)"
   ]
  },
  {
   "cell_type": "code",
   "execution_count": 21,
   "metadata": {},
   "outputs": [
    {
     "name": "stderr",
     "output_type": "stream",
     "text": [
      "/home/matcraft/anaconda3/envs/TORCHDIFF-venv/lib/python3.10/site-packages/torch/nn/modules/loss.py:536: UserWarning: Using a target size (torch.Size([80])) that is different to the input size (torch.Size([80, 1])). This will likely lead to incorrect results due to broadcasting. Please ensure they have the same size.\n",
      "  return F.mse_loss(input, target, reduction=self.reduction)\n"
     ]
    },
    {
     "name": "stdout",
     "output_type": "stream",
     "text": [
      "Epoch 100/1000, Loss: 0.0780138298869133\n",
      "Epoch 200/1000, Loss: 0.07801199704408646\n",
      "Epoch 300/1000, Loss: 0.07801155000925064\n",
      "Epoch 400/1000, Loss: 0.07801135629415512\n",
      "Epoch 500/1000, Loss: 0.07801124453544617\n",
      "Epoch 600/1000, Loss: 0.078011155128479\n",
      "Epoch 700/1000, Loss: 0.07801108807325363\n",
      "Epoch 800/1000, Loss: 0.07801102101802826\n",
      "Epoch 900/1000, Loss: 0.07801096886396408\n",
      "Epoch 1000/1000, Loss: 0.0780109167098999\n"
     ]
    }
   ],
   "source": [
    "# Entrenar el modelo\n",
    "n_epochs = 1000\n",
    "for epoch in range(n_epochs):\n",
    "    model.train()\n",
    "    optimizer.zero_grad()\n",
    "    y_pred = model(X_train_tensor[:, 0], X_train_tensor[:, 1])\n",
    "    loss = criterion(y_pred, y_train_tensor)\n",
    "    loss.backward()\n",
    "    optimizer.step()\n",
    "    \n",
    "    if (epoch+1) % 100 == 0:\n",
    "        print(f'Epoch {epoch+1}/{n_epochs}, Loss: {loss.item()}')"
   ]
  },
  {
   "cell_type": "code",
   "execution_count": 22,
   "metadata": {},
   "outputs": [
    {
     "name": "stdout",
     "output_type": "stream",
     "text": [
      "Test Loss: 0.34597235918045044\n"
     ]
    },
    {
     "name": "stderr",
     "output_type": "stream",
     "text": [
      "/home/matcraft/anaconda3/envs/TORCHDIFF-venv/lib/python3.10/site-packages/torch/nn/modules/loss.py:536: UserWarning: Using a target size (torch.Size([20])) that is different to the input size (torch.Size([20, 1])). This will likely lead to incorrect results due to broadcasting. Please ensure they have the same size.\n",
      "  return F.mse_loss(input, target, reduction=self.reduction)\n"
     ]
    }
   ],
   "source": [
    "# Evaluar el modelo en los datos de prueba\n",
    "model.eval()\n",
    "y_pred_test = model(X_test_tensor[:, 0], X_test_tensor[:, 1])\n",
    "test_loss = criterion(y_pred_test, y_test_tensor)\n",
    "print(f'Test Loss: {test_loss.item()}')"
   ]
  },
  {
   "cell_type": "code",
   "execution_count": 23,
   "metadata": {},
   "outputs": [],
   "source": [
    "# Evaluar el modelo\n",
    "model.eval()\n",
    "v_pred = model(t_tensor.to(device), u_tensor.to(device))"
   ]
  },
  {
   "cell_type": "code",
   "execution_count": 24,
   "metadata": {},
   "outputs": [
    {
     "data": {
      "image/png": "[encoded data removed]",
      "text/plain": [
       "<Figure size 640x480 with 1 Axes>"
      ]
     },
     "metadata": {},
     "output_type": "display_data"
    }
   ],
   "source": [
    "# Desnormalizar las predicciones\n",
    "v_pred = v_pred.squeeze().cpu().detach().numpy() * v_max\n",
    "\n",
    "# Graficar los resultados\n",
    "plt.plot(t_eval, v, label='Verdadero')\n",
    "plt.plot(t_eval, v_pred, label='Predicho')\n",
    "plt.xlabel('Tiempo')\n",
    "plt.ylabel('Concentración de v')\n",
    "plt.legend()\n",
    "plt.show()"
   ]
  }
 ],
 "metadata": {
  "kernelspec": {
   "display_name": "TORCHDIFF-venv",
   "language": "python",
   "name": "python3"
  },
  "language_info": {
   "codemirror_mode": {
    "name": "ipython",
    "version": 3
   },
   "file_extension": ".py",
   "mimetype": "text/x-python",
   "name": "python",
   "nbconvert_exporter": "python",
   "pygments_lexer": "ipython3",
   "version": "3.10.12"
  },
  "orig_nbformat": 4
 },
 "nbformat": 4,
 "nbformat_minor": 2
}
