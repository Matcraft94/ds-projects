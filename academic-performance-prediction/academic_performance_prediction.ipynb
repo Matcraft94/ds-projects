{
 "cells": [
  {
   "cell_type": "markdown",
   "metadata": {},
   "source": [
    "# Predicción del rendimiento académico: un enfoque de aprendizaje automático que utiliza LightGBM para la detección temprana del abandono escolar"
   ]
  },
  {
   "cell_type": "code",
   "execution_count": 1,
   "metadata": {},
   "outputs": [],
   "source": [
    "import itertools\n",
    "import pandas as pd\n",
    "import numpy as np\n",
    "import torch\n",
    "from torch.utils.data import Dataset, DataLoader\n",
    "import matplotlib.pyplot as plt\n",
    "import seaborn as sns\n",
    "import plotly.express as px\n",
    "import plotly.graph_objects as go\n",
    "from plotly.subplots import make_subplots\n",
    "from lightgbm import LGBMClassifier\n",
    "import lightgbm as lgb\n",
    "from sklearn.model_selection import StratifiedKFold, train_test_split, cross_val_score\n",
    "from sklearn.preprocessing import LabelEncoder\n",
    "from sklearn.metrics import accuracy_score, classification_report, confusion_matrix\n",
    "from sklearn.utils.class_weight import compute_class_weight\n",
    "from sklearn.metrics import accuracy_score, precision_score, recall_score, f1_score\n",
    "import warnings\n",
    "warnings.filterwarnings('ignore')"
   ]
  },
  {
   "cell_type": "code",
   "execution_count": 2,
   "metadata": {},
   "outputs": [],
   "source": [
    "df = pd.read_csv('data/students_dropout/dataset.csv')"
   ]
  },
  {
   "cell_type": "code",
   "execution_count": 3,
   "metadata": {},
   "outputs": [],
   "source": [
    "class StudentDropoutAnalysis:\n",
    "    def __init__(self):\n",
    "        self.df = pd.read_csv('data/students_dropout/dataset.csv')\n",
    "        self.prepare_data()\n",
    "        \n",
    "    def prepare_data(self):\n",
    "        \"\"\"Preparación inicial de datos\"\"\"\n",
    "        self.df['academic_load'] = (self.df['Curricular units 1st sem (enrolled)'] + \n",
    "                                  self.df['Curricular units 2nd sem (enrolled)'])\n",
    "        self.df['academic_performance'] = (self.df['Curricular units 1st sem (approved)'] / \n",
    "                                         self.df['Curricular units 1st sem (enrolled)'])\n",
    "        self.df['grade_evolution'] = (self.df['Curricular units 2nd sem (grade)'] - \n",
    "                                    self.df['Curricular units 1st sem (grade)'])\n",
    "\n",
    "    def basic_statistics(self):\n",
    "        \"\"\"Estadísticas básicas y distribución de variables\"\"\"\n",
    "        dropout_data = self.df[self.df['Target'] == 'Dropout']\n",
    "        \n",
    "        print(\"\\nInformación básica del dataset (Solo Desertores):\")\n",
    "        print(dropout_data.info())\n",
    "        \n",
    "        print(\"\\nEstadísticas descriptivas de desertores:\")\n",
    "        print(dropout_data.describe())\n",
    "        \n",
    "        print(\"\\nPorcentaje de deserción:\")\n",
    "        print(len(dropout_data) / len(self.df) * 100, \"%\")\n",
    "\n",
    "    def demographic_analysis(self):\n",
    "        \"\"\"Análisis demográfico de desertores\"\"\"\n",
    "        dropout_data = self.df[self.df['Target'] == 'Dropout']\n",
    "        \n",
    "        fig1 = px.histogram(dropout_data, x=\"Age at enrollment\",\n",
    "                          title=\"Distribución de Edad de Desertores\",\n",
    "                          marginal=\"box\")\n",
    "        fig1.show()\n",
    "        \n",
    "        fig = make_subplots(rows=2, cols=2, \n",
    "                           subplot_titles=('Distribución por Género',\n",
    "                                         'Estado Civil',\n",
    "                                         'Nacionalidad',\n",
    "                                         'Desplazamiento'))\n",
    "        \n",
    "        gender_counts = dropout_data['Gender'].value_counts()\n",
    "        fig.add_trace(go.Bar(x=gender_counts.index, y=gender_counts.values, name='Dropouts'), \n",
    "                     row=1, col=1)\n",
    "        \n",
    "        marital_counts = dropout_data['Marital status'].value_counts()\n",
    "        fig.add_trace(go.Bar(x=marital_counts.index, y=marital_counts.values, name='Dropouts'), \n",
    "                     row=1, col=2)\n",
    "        \n",
    "        nationality_counts = dropout_data['Nacionality'].value_counts().head(10)\n",
    "        fig.add_trace(go.Bar(x=nationality_counts.index, y=nationality_counts.values), \n",
    "                     row=2, col=1)\n",
    "        \n",
    "        displaced_counts = dropout_data['Displaced'].value_counts()\n",
    "        fig.add_trace(go.Bar(x=displaced_counts.index, y=displaced_counts.values, name='Dropouts'), \n",
    "                     row=2, col=2)\n",
    "        \n",
    "        fig.update_layout(height=800, title_text=\"Análisis Demográfico de Desertores\")\n",
    "        fig.show()\n",
    "\n",
    "    def academic_performance_analysis(self):\n",
    "        \"\"\"Análisis del rendimiento académico de desertores\"\"\"\n",
    "        dropout_data = self.df[self.df['Target'] == 'Dropout']\n",
    "        \n",
    "        fig = make_subplots(rows=3, cols=2,\n",
    "                           subplot_titles=('Notas 1er Semestre',\n",
    "                                         'Notas 2do Semestre',\n",
    "                                         'Unidades Aprobadas vs Matriculadas',\n",
    "                                         'Evolución de Notas',\n",
    "                                         'Tasa de Aprobación',\n",
    "                                         'Evaluaciones Totales'))\n",
    "        \n",
    "        fig.add_trace(\n",
    "            go.Histogram(x=dropout_data['Curricular units 1st sem (grade)'],\n",
    "                        name='1er Sem'),\n",
    "            row=1, col=1\n",
    "        )\n",
    "        \n",
    "        fig.add_trace(\n",
    "            go.Histogram(x=dropout_data['Curricular units 2nd sem (grade)'],\n",
    "                        name='2do Sem'),\n",
    "            row=1, col=2\n",
    "        )\n",
    "        \n",
    "        dropout_data['units_success_rate_1st'] = (\n",
    "            dropout_data['Curricular units 1st sem (approved)'] / \n",
    "            dropout_data['Curricular units 1st sem (enrolled)']\n",
    "        )\n",
    "        fig.add_trace(\n",
    "            go.Histogram(x=dropout_data['units_success_rate_1st'],\n",
    "                        name='Tasa Éxito 1S'),\n",
    "            row=2, col=1\n",
    "        )\n",
    "        \n",
    "        fig.add_trace(\n",
    "            go.Histogram(x=dropout_data['grade_evolution'],\n",
    "                        name='Evolución'),\n",
    "            row=2, col=2\n",
    "        )\n",
    "        \n",
    "        dropout_data['overall_approval_rate'] = (\n",
    "            (dropout_data['Curricular units 1st sem (approved)'] + \n",
    "             dropout_data['Curricular units 2nd sem (approved)']) /\n",
    "            (dropout_data['Curricular units 1st sem (enrolled)'] + \n",
    "             dropout_data['Curricular units 2nd sem (enrolled)'])\n",
    "        )\n",
    "        fig.add_trace(\n",
    "            go.Histogram(x=dropout_data['overall_approval_rate'],\n",
    "                        name='Tasa Global'),\n",
    "            row=3, col=1\n",
    "        )\n",
    "        \n",
    "        dropout_data['total_evaluations'] = (\n",
    "            dropout_data['Curricular units 1st sem (evaluations)'] + \n",
    "            dropout_data['Curricular units 2nd sem (evaluations)']\n",
    "        )\n",
    "        fig.add_trace(\n",
    "            go.Histogram(x=dropout_data['total_evaluations'],\n",
    "                        name='Evaluaciones'),\n",
    "            row=3, col=2\n",
    "        )\n",
    "        \n",
    "        fig.update_layout(\n",
    "            height=1200,\n",
    "            title_text=\"Análisis de Rendimiento Académico de Desertores\",\n",
    "            showlegend=True\n",
    "        )\n",
    "        \n",
    "        stats_text = (\n",
    "            f\"Promedio 1er Sem: {dropout_data['Curricular units 1st sem (grade)'].mean():.2f}\\n\"\n",
    "            f\"Promedio 2do Sem: {dropout_data['Curricular units 2nd sem (grade)'].mean():.2f}\\n\"\n",
    "            f\"Tasa Aprobación Media: {dropout_data['overall_approval_rate'].mean():.2%}\"\n",
    "        )\n",
    "        \n",
    "        fig.add_annotation(\n",
    "            xref=\"paper\", yref=\"paper\",\n",
    "            x=1.0, y=1.1,\n",
    "            text=stats_text,\n",
    "            showarrow=False,\n",
    "            font=dict(size=10),\n",
    "            align=\"left\"\n",
    "        )\n",
    "        \n",
    "        fig.show()\n",
    "\n",
    "    def economic_context_analysis(self):\n",
    "        \"\"\"Análisis del contexto económico de desertores\"\"\"\n",
    "        dropout_data = self.df[self.df['Target'] == 'Dropout']\n",
    "        \n",
    "        fig = make_subplots(rows=2, cols=2,\n",
    "                           subplot_titles=('Distribución de Desempleo',\n",
    "                                         'Distribución de Inflación',\n",
    "                                         'Distribución de GDP',\n",
    "                                         'Distribución de Becas'))\n",
    "        \n",
    "        fig.add_trace(\n",
    "            go.Histogram(x=dropout_data['Unemployment rate']),\n",
    "            row=1, col=1\n",
    "        )\n",
    "        \n",
    "        fig.add_trace(\n",
    "            go.Histogram(x=dropout_data['Inflation rate']),\n",
    "            row=1, col=2\n",
    "        )\n",
    "        \n",
    "        fig.add_trace(\n",
    "            go.Histogram(x=dropout_data['GDP']),\n",
    "            row=2, col=1\n",
    "        )\n",
    "        \n",
    "        scholarship_counts = dropout_data['Scholarship holder'].value_counts()\n",
    "        fig.add_trace(\n",
    "            go.Bar(x=scholarship_counts.index, y=scholarship_counts.values),\n",
    "            row=2, col=2\n",
    "        )\n",
    "        \n",
    "        fig.update_layout(height=800, title_text=\"Análisis del Contexto Económico de Desertores\")\n",
    "        fig.show()\n",
    "\n",
    "    def family_background_analysis(self):\n",
    "        \"\"\"Análisis del contexto familiar de desertores\"\"\"\n",
    "        dropout_data = self.df[self.df['Target'] == 'Dropout']\n",
    "        \n",
    "        fig = make_subplots(rows=2, cols=2,\n",
    "                           subplot_titles=('Calificación de la Madre',\n",
    "                                         'Calificación del Padre',\n",
    "                                         'Ocupación de la Madre',\n",
    "                                         'Ocupación del Padre'))\n",
    "        \n",
    "        mother_qual_counts = dropout_data[\"Mother's qualification\"].value_counts()\n",
    "        father_qual_counts = dropout_data[\"Father's qualification\"].value_counts()\n",
    "        \n",
    "        fig.add_trace(go.Bar(x=mother_qual_counts.index, y=mother_qual_counts.values), \n",
    "                     row=1, col=1)\n",
    "        fig.add_trace(go.Bar(x=father_qual_counts.index, y=father_qual_counts.values), \n",
    "                     row=1, col=2)\n",
    "        \n",
    "        mother_occ_counts = dropout_data[\"Mother's occupation\"].value_counts()\n",
    "        father_occ_counts = dropout_data[\"Father's occupation\"].value_counts()\n",
    "        \n",
    "        fig.add_trace(go.Bar(x=mother_occ_counts.index, y=mother_occ_counts.values), \n",
    "                     row=2, col=1)\n",
    "        fig.add_trace(go.Bar(x=father_occ_counts.index, y=father_occ_counts.values), \n",
    "                     row=2, col=2)\n",
    "        \n",
    "        fig.update_layout(height=1000, title_text=\"Análisis del Contexto Familiar de Desertores\")\n",
    "        fig.show()\n",
    "\n",
    "    def correlation_analysis(self):\n",
    "        \"\"\"Análisis de correlaciones para desertores\"\"\"\n",
    "        dropout_data = self.df[self.df['Target'] == 'Dropout']\n",
    "        numeric_cols = dropout_data.select_dtypes(include=[np.number]).columns\n",
    "        corr_matrix = dropout_data[numeric_cols].corr()\n",
    "        \n",
    "        fig = go.Figure(data=go.Heatmap(\n",
    "            z=corr_matrix,\n",
    "            x=corr_matrix.columns,\n",
    "            y=corr_matrix.columns,\n",
    "            colorscale='RdBu',\n",
    "            zmin=-1, zmax=1\n",
    "        ))\n",
    "        \n",
    "        fig.update_layout(\n",
    "            title='Matriz de Correlación para Desertores',\n",
    "            height=1000,\n",
    "            width=1000\n",
    "        )\n",
    "        fig.show()\n",
    "\n",
    "    def course_specific_analysis(self):\n",
    "        \"\"\"Análisis específico por curso para desertores\"\"\"\n",
    "        dropout_data = self.df[self.df['Target'] == 'Dropout']\n",
    "        \n",
    "        course_counts = dropout_data['Course'].value_counts()\n",
    "        course_percentages = course_counts / self.df['Course'].value_counts() * 100\n",
    "        \n",
    "        fig = go.Figure(data=[\n",
    "            go.Bar(x=course_percentages.index, y=course_percentages.values)\n",
    "        ])\n",
    "        \n",
    "        fig.update_layout(\n",
    "            title='Porcentaje de Deserción por Curso',\n",
    "            xaxis_title='Curso',\n",
    "            yaxis_title='Porcentaje de Deserción'\n",
    "        )\n",
    "        fig.show()\n",
    "        \n",
    "        fig2 = px.box(dropout_data, x='Course', y='Curricular units 1st sem (grade)',\n",
    "                     title='Rendimiento de Desertores por Curso')\n",
    "        fig2.show()\n",
    "\n",
    "    def generate_insights(self):\n",
    "        \"\"\"Genera insights principales sobre desertores\"\"\"\n",
    "        dropout_data = self.df[self.df['Target'] == 'Dropout']\n",
    "        \n",
    "        insights = {\n",
    "            'total_dropouts': len(dropout_data),\n",
    "            'dropout_rate': len(dropout_data) / len(self.df),\n",
    "            'avg_dropout_age': dropout_data['Age at enrollment'].mean(),\n",
    "            'dropout_scholarship_rate': dropout_data['Scholarship holder'].mean(),\n",
    "            'avg_first_sem_grade': dropout_data['Curricular units 1st sem (grade)'].mean(),\n",
    "            'avg_second_sem_grade': dropout_data['Curricular units 2nd sem (grade)'].mean()\n",
    "        }\n",
    "        return pd.Series(insights)"
   ]
  },
  {
   "cell_type": "code",
   "execution_count": 4,
   "metadata": {},
   "outputs": [],
   "source": [
    "class StudentDataset(Dataset):\n",
    "    def __init__(self, features, labels):\n",
    "        self.features = torch.FloatTensor(features.values).cuda()\n",
    "        self.labels = torch.LongTensor(labels).cuda()\n",
    "\n",
    "    def __len__(self):\n",
    "        return len(self.labels)\n",
    "\n",
    "    def __getitem__(self, idx):\n",
    "        return self.features[idx], self.labels[idx]"
   ]
  },
  {
   "cell_type": "code",
   "execution_count": null,
   "metadata": {},
   "outputs": [],
   "source": [
    "class StudentDropoutModel:\n",
    "    def __init__(self, test_size=0.2, random_state=42):\n",
    "        self.test_size = test_size\n",
    "        self.random_state = random_state\n",
    "        self.label_encoders = {}\n",
    "        self.device = torch.device('cuda')\n",
    "        self.selected_features = None\n",
    "        self.load_data()\n",
    "        \n",
    "    def load_data(self):\n",
    "        df = pd.read_csv('data/students_dropout/dataset.csv')\n",
    "        df['Target'] = np.where(df['Target'] == 'Dropout', 0, 1)\n",
    "        train_idx = df.sample(frac=1-self.test_size, random_state=self.random_state).index\n",
    "        self.train_df = df.loc[train_idx]\n",
    "        self.test_df = df.drop(train_idx)\n",
    "        \n",
    "    @torch.cuda.amp.autocast()\n",
    "    def remove_multicollinearity(self, threshold=0.75):\n",
    "        corr = torch.tensor(self.X.corr().values).cuda()\n",
    "        upper = torch.triu(corr, diagonal=1)\n",
    "        to_drop = [self.X.columns[i] for i in range(len(self.X.columns)) \n",
    "                  if any(upper[i] > threshold)]\n",
    "        \n",
    "        self.X = self.X.drop(columns=to_drop)\n",
    "        self.X_test = self.X_test.drop(columns=to_drop)\n",
    "        \n",
    "    def model_data_preparation(self):\n",
    "        categorical_features = ['Marital status', 'Application mode', 'Course', \n",
    "                              'Previous qualification', 'Nacionality', 'Gender']\n",
    "        \n",
    "        for feature in categorical_features:\n",
    "            self.label_encoders[feature] = LabelEncoder()\n",
    "            self.train_df[feature] = self.label_encoders[feature].fit_transform(self.train_df[feature])\n",
    "            self.test_df[feature] = self.label_encoders[feature].transform(self.test_df[feature])\n",
    "        \n",
    "        self.target_encoder = LabelEncoder()\n",
    "        self.y = self.target_encoder.fit_transform(self.train_df['Target'])\n",
    "        self.X = self.train_df.drop('Target', axis=1)\n",
    "        self.X_test = self.test_df.drop('Target', axis=1)\n",
    "        \n",
    "    def select_features(self, k=20):\n",
    "        model = LGBMClassifier(\n",
    "            device='gpu',\n",
    "            gpu_platform_id=0,\n",
    "            gpu_device_id=0,\n",
    "            n_estimators=1000,\n",
    "            importance_type='gain',\n",
    "            random_state=42\n",
    "        )\n",
    "        \n",
    "        with torch.cuda.amp.autocast():\n",
    "            model.fit(self.X, self.y)\n",
    "        \n",
    "        feature_imp = pd.DataFrame({\n",
    "            'feature': self.X.columns,\n",
    "            'importance': model.feature_importances_\n",
    "        }).sort_values('importance', ascending=False)\n",
    "        \n",
    "        self.selected_features = feature_imp.head(k)['feature'].tolist()\n",
    "        self.X = self.X[self.selected_features]\n",
    "        self.X_test = self.X_test[self.selected_features]\n",
    "        print(f\"Selected top {k} features\")\n",
    "        \n",
    "    def model_data_preparation(self):\n",
    "        categorical_features = ['Marital status', 'Application mode', 'Course', \n",
    "                            'Previous qualification', 'Nacionality', 'Gender']\n",
    "        \n",
    "        combined_data = pd.concat([self.train_df, self.test_df], axis=0)\n",
    "        \n",
    "        for feature in categorical_features:\n",
    "            self.label_encoders[feature] = LabelEncoder()\n",
    "            encoded_values = self.label_encoders[feature].fit_transform(combined_data[feature])\n",
    "            self.train_df[feature] = encoded_values[:len(self.train_df)]\n",
    "            self.test_df[feature] = encoded_values[len(self.train_df):]\n",
    "        \n",
    "        self.target_encoder = LabelEncoder()\n",
    "        self.y = self.target_encoder.fit_transform(self.train_df['Target'])\n",
    "        self.X = self.train_df.drop('Target', axis=1)\n",
    "        self.X_test = self.test_df.drop('Target', axis=1)\n",
    "        \n",
    "    def create_features(self):\n",
    "        for df in [self.train_df, self.test_df]:\n",
    "            # Academic Performance - First Semester\n",
    "            df['approval_rate_1st'] = df['Curricular units 1st sem (approved)'] / df['Curricular units 1st sem (enrolled)']\n",
    "            df['evaluation_success_1st'] = df['Curricular units 1st sem (approved)'] / df['Curricular units 1st sem (evaluations)']\n",
    "            df['grade_eval_ratio_1st'] = df['Curricular units 1st sem (grade)'] / (df['Curricular units 1st sem (evaluations)'] + 1)\n",
    "            df['academic_load_1st'] = df['Curricular units 1st sem (enrolled)'] * df['Curricular units 1st sem (evaluations)']\n",
    "            \n",
    "            # Performance Indicators\n",
    "            df['performance_index'] = df['Curricular units 1st sem (approved)'] * df['Curricular units 1st sem (grade)']\n",
    "            df['attendance_rate'] = 1 - (df['Curricular units 1st sem (without evaluations)'] / df['Curricular units 1st sem (enrolled)'])\n",
    "            \n",
    "            # Economic Features\n",
    "            df['economic_stress'] = df['Unemployment rate'] * (1 + df['Inflation rate']) / (df['GDP'] + 1)\n",
    "            df['financial_status'] = df['Tuition fees up to date'] * (1 - df['Debtor'])\n",
    "            \n",
    "            # Demographic Interactions\n",
    "            df['parent_qual_sum'] = df[\"Mother's qualification\"] + df[\"Father's qualification\"]\n",
    "            df['age_qual_interaction'] = df['Age at enrollment'] * df['parent_qual_sum']\n",
    "            df['scholarship_eco'] = df['Scholarship holder'] * df['economic_stress']\n",
    "            \n",
    "            # Categorical Interactions\n",
    "            df['academic_background'] = df['Previous qualification'] * df['approval_rate_1st']\n",
    "            df['enrollment_context'] = df['Application order'] * df['approval_rate_1st']\n",
    "    \n",
    "    def optimize_parameters(self):\n",
    "        param_grid = {\n",
    "            'device': ['gpu'],\n",
    "            'gpu_platform_id': [0],\n",
    "            'gpu_device_id': [0],\n",
    "            'n_estimators': [300, 400, 500],\n",
    "            'learning_rate': [0.05, 0.08, 0.1],\n",
    "            'max_depth': [8, 12, 16],\n",
    "            'num_leaves': [40, 60, 80],\n",
    "            'colsample_bytree': [0.8, 0.9, 1.0],\n",
    "            'subsample': [0.8, 0.9, 1.0],\n",
    "            'min_child_samples': [10, 15, 20],\n",
    "            'class_weight': ['balanced'],\n",
    "            'boosting_type': ['goss'],\n",
    "            'reg_alpha': [0.1, 0.2],\n",
    "            'reg_lambda': [0.1, 0.2]\n",
    "        }\n",
    "        \n",
    "        class_weights = dict(zip(\n",
    "            range(len(torch.unique(torch.tensor(self.y)))),\n",
    "            compute_class_weight('balanced', classes=np.unique(self.y), y=self.y)\n",
    "        ))\n",
    "        \n",
    "        best_score = 0\n",
    "        best_params = None\n",
    "        \n",
    "        for params in [dict(zip(param_grid.keys(), v)) for v in itertools.product(*param_grid.values())]:\n",
    "            with torch.cuda.amp.autocast():\n",
    "                model = LGBMClassifier(**params, class_weight=class_weights, random_state=42, objective='multiclass', verbose=-1)\n",
    "                scores = cross_val_score(model, self.X, self.y, cv=5, scoring='accuracy')\n",
    "                mean_score = np.mean(scores)\n",
    "                \n",
    "            if mean_score > best_score:\n",
    "                best_score = mean_score\n",
    "                best_params = params\n",
    "        \n",
    "        print(f\"Mejores parametros encontrados: {best_params}\")\n",
    "        print(f\"Mejor puntuacion CV: {best_score:.4f}\")\n",
    "        return best_params\n",
    "\n",
    "    def train_model(self, batch_size=1024, n_splits=5):\n",
    "        best_params = {\n",
    "            'device': 'gpu',\n",
    "            'gpu_platform_id': 0,\n",
    "            'gpu_device_id': 0,\n",
    "            'n_estimators': 300,          # Reducida por los patrones de early stopping patterns\n",
    "            'learning_rate': 0.08,        # Incrementada por la convergencia rapida\n",
    "            'max_depth': 12,              # Optimizada por los resutlados obtenidos anteriormente\n",
    "            'num_leaves': 60,             # Complejidad balanceada\n",
    "            'colsample_bytree': 0.9,      # Incrementada por una mejora en la utilizacion de las features\n",
    "            'subsample': 0.9,             # Estabildiada incrementada\n",
    "            'min_child_samples': 15,      # Reducida para mejorar la granulidad\n",
    "            'objective': 'binary',        #'multiclass' en caso de que hubiese mas clases\n",
    "            'metric': 'binary_logloss',   # Para clasificacion Bianria\n",
    "            'boosting_type': 'goss',      # Para eficiencia\n",
    "            'is_unbalance': True,         # Para clases desbalanceadas\n",
    "            'verbosity': -1,\n",
    "            'random_state': 42\n",
    "        }\n",
    "        \n",
    "        kf = StratifiedKFold(n_splits=n_splits, shuffle=True, random_state=42)\n",
    "        self.fold_scores = []\n",
    "        self.predictions = torch.zeros((len(self.test_df), len(torch.unique(torch.tensor(self.y))))).cuda()\n",
    "        \n",
    "        print(\"\\nEntrenamiento:\")\n",
    "        print(\"-\" * 50)\n",
    "        \n",
    "        for fold, (train_idx, val_idx) in enumerate(kf.split(self.X, self.y)):\n",
    "            X_train, X_val = self.X.iloc[train_idx], self.X.iloc[val_idx]\n",
    "            y_train, y_val = self.y[train_idx], self.y[val_idx]\n",
    "            \n",
    "            model = LGBMClassifier(**best_params)\n",
    "            with torch.cuda.amp.autocast():\n",
    "                model.fit(\n",
    "                    X_train, y_train,\n",
    "                    eval_set=[(X_val, y_val)],\n",
    "                    eval_metric='multi_logloss',\n",
    "                    callbacks=[\n",
    "                        lgb.early_stopping(stopping_rounds=30),\n",
    "                        lgb.log_evaluation(period=50)\n",
    "                    ]\n",
    "                )\n",
    "                \n",
    "                val_preds = model.predict(X_val)\n",
    "                fold_score = accuracy_score(y_val, val_preds)\n",
    "                self.fold_scores.append(fold_score)\n",
    "                \n",
    "                fold_preds = torch.tensor(model.predict_proba(self.X_test), device=self.device)\n",
    "                self.predictions += fold_preds / n_splits\n",
    "            \n",
    "            print(f\"\\nFold {fold + 1} Metricas:\")\n",
    "            print(f\"Precision en Valicacion: {fold_score:.4f}\")\n",
    "            print(f\"Mejor Iteracion: {model.best_iteration_}\")\n",
    "            print(\"Reporte de Clasificacion:\")\n",
    "            print(classification_report(y_val, val_preds))\n",
    "        \n",
    "        print(\"\\nRendimiento general del modelo:\")\n",
    "        print(\"-\" * 50)\n",
    "        print(f\"Precisión media del CV: {np.mean(self.fold_scores):.4f} ± {np.std(self.fold_scores):.4f}\")\n",
    "        \n",
    "        return self.predictions.cpu().numpy()\n",
    "  \n",
    "    def get_results(self):\n",
    "        pred_labels = torch.argmax(self.predictions, dim=1)\n",
    "        final_predictions = self.target_encoder.inverse_transform(pred_labels.cpu().numpy())\n",
    "        \n",
    "        results_df = pd.DataFrame({\n",
    "            'True_Label': self.test_df['Target'],\n",
    "            'Predicted': final_predictions,\n",
    "            'Dropout_Prob': self.predictions[:, 0].cpu().numpy(),\n",
    "            'Graduate_Prob': self.predictions[:, 1].cpu().numpy()\n",
    "        })\n",
    "        \n",
    "        return results_df"
   ]
  },
  {
   "cell_type": "markdown",
   "metadata": {},
   "source": [
    "## Análisis Exploratorio de Datos - Deserción Estudiantil"
   ]
  },
  {
   "cell_type": "code",
   "execution_count": 6,
   "metadata": {},
   "outputs": [],
   "source": [
    "analysis = StudentDropoutAnalysis()"
   ]
  },
  {
   "cell_type": "code",
   "execution_count": 7,
   "metadata": {},
   "outputs": [
    {
     "name": "stdout",
     "output_type": "stream",
     "text": [
      "\n",
      "Información básica del dataset (Solo Desertores):\n",
      "<class 'pandas.core.frame.DataFrame'>\n",
      "Index: 1421 entries, 0 to 4421\n",
      "Data columns (total 38 columns):\n",
      " #   Column                                          Non-Null Count  Dtype  \n",
      "---  ------                                          --------------  -----  \n",
      " 0   Marital status                                  1421 non-null   int64  \n",
      " 1   Application mode                                1421 non-null   int64  \n",
      " 2   Application order                               1421 non-null   int64  \n",
      " 3   Course                                          1421 non-null   int64  \n",
      " 4   Daytime/evening attendance                      1421 non-null   int64  \n",
      " 5   Previous qualification                          1421 non-null   int64  \n",
      " 6   Nacionality                                     1421 non-null   int64  \n",
      " 7   Mother's qualification                          1421 non-null   int64  \n",
      " 8   Father's qualification                          1421 non-null   int64  \n",
      " 9   Mother's occupation                             1421 non-null   int64  \n",
      " 10  Father's occupation                             1421 non-null   int64  \n",
      " 11  Displaced                                       1421 non-null   int64  \n",
      " 12  Educational special needs                       1421 non-null   int64  \n",
      " 13  Debtor                                          1421 non-null   int64  \n",
      " 14  Tuition fees up to date                         1421 non-null   int64  \n",
      " 15  Gender                                          1421 non-null   int64  \n",
      " 16  Scholarship holder                              1421 non-null   int64  \n",
      " 17  Age at enrollment                               1421 non-null   int64  \n",
      " 18  International                                   1421 non-null   int64  \n",
      " 19  Curricular units 1st sem (credited)             1421 non-null   int64  \n",
      " 20  Curricular units 1st sem (enrolled)             1421 non-null   int64  \n",
      " 21  Curricular units 1st sem (evaluations)          1421 non-null   int64  \n",
      " 22  Curricular units 1st sem (approved)             1421 non-null   int64  \n",
      " 23  Curricular units 1st sem (grade)                1421 non-null   float64\n",
      " 24  Curricular units 1st sem (without evaluations)  1421 non-null   int64  \n",
      " 25  Curricular units 2nd sem (credited)             1421 non-null   int64  \n",
      " 26  Curricular units 2nd sem (enrolled)             1421 non-null   int64  \n",
      " 27  Curricular units 2nd sem (evaluations)          1421 non-null   int64  \n",
      " 28  Curricular units 2nd sem (approved)             1421 non-null   int64  \n",
      " 29  Curricular units 2nd sem (grade)                1421 non-null   float64\n",
      " 30  Curricular units 2nd sem (without evaluations)  1421 non-null   int64  \n",
      " 31  Unemployment rate                               1421 non-null   float64\n",
      " 32  Inflation rate                                  1421 non-null   float64\n",
      " 33  GDP                                             1421 non-null   float64\n",
      " 34  Target                                          1421 non-null   object \n",
      " 35  academic_load                                   1421 non-null   int64  \n",
      " 36  academic_performance                            1344 non-null   float64\n",
      " 37  grade_evolution                                 1421 non-null   float64\n",
      "dtypes: float64(7), int64(30), object(1)\n",
      "memory usage: 433.0+ KB\n",
      "None\n",
      "\n",
      "Estadísticas descriptivas de desertores:\n",
      "       Marital status  Application mode  Application order       Course  \\\n",
      "count     1421.000000       1421.000000        1421.000000  1421.000000   \n",
      "mean         1.261084          8.342013           1.593244     9.898663   \n",
      "std          0.721958          4.962662           1.215769     4.678344   \n",
      "min          1.000000          1.000000           1.000000     1.000000   \n",
      "25%          1.000000          4.000000           1.000000     6.000000   \n",
      "50%          1.000000          9.000000           1.000000    10.000000   \n",
      "75%          1.000000         12.000000           2.000000    14.000000   \n",
      "max          6.000000         17.000000           6.000000    17.000000   \n",
      "\n",
      "       Daytime/evening attendance  Previous qualification  Nacionality  \\\n",
      "count                 1421.000000             1421.000000  1421.000000   \n",
      "mean                     0.854328                3.059113     1.250528   \n",
      "std                      0.352901                4.294529     1.790981   \n",
      "min                      0.000000                1.000000     1.000000   \n",
      "25%                      1.000000                1.000000     1.000000   \n",
      "50%                      1.000000                1.000000     1.000000   \n",
      "75%                      1.000000                1.000000     1.000000   \n",
      "max                      1.000000               17.000000    21.000000   \n",
      "\n",
      "       Mother's qualification  Father's qualification  Mother's occupation  \\\n",
      "count             1421.000000             1421.000000          1421.000000   \n",
      "mean                13.102745               16.716397             6.916256   \n",
      "std                  8.887362               11.014929             3.397082   \n",
      "min                  1.000000                1.000000             1.000000   \n",
      "25%                  3.000000                3.000000             5.000000   \n",
      "50%                 13.000000               16.000000             6.000000   \n",
      "75%                 22.000000               27.000000            10.000000   \n",
      "max                 29.000000               34.000000            32.000000   \n",
      "\n",
      "       ...  Curricular units 2nd sem (evaluations)  \\\n",
      "count  ...                             1421.000000   \n",
      "mean   ...                                7.173821   \n",
      "std    ...                                4.817374   \n",
      "min    ...                                0.000000   \n",
      "25%    ...                                5.000000   \n",
      "50%    ...                                7.000000   \n",
      "75%    ...                               10.000000   \n",
      "max    ...                               25.000000   \n",
      "\n",
      "       Curricular units 2nd sem (approved)  Curricular units 2nd sem (grade)  \\\n",
      "count                          1421.000000                       1421.000000   \n",
      "mean                              1.940183                          5.899339   \n",
      "std                               2.573691                          6.118740   \n",
      "min                               0.000000                          0.000000   \n",
      "25%                               0.000000                          0.000000   \n",
      "50%                               0.000000                          0.000000   \n",
      "75%                               4.000000                         11.833333   \n",
      "max                              16.000000                         17.714286   \n",
      "\n",
      "       Curricular units 2nd sem (without evaluations)  Unemployment rate  \\\n",
      "count                                     1421.000000        1421.000000   \n",
      "mean                                         0.237861          11.616397   \n",
      "std                                          0.994210           2.768259   \n",
      "min                                          0.000000           7.600000   \n",
      "25%                                          0.000000           9.400000   \n",
      "50%                                          0.000000          11.100000   \n",
      "75%                                          0.000000          13.900000   \n",
      "max                                         12.000000          16.200000   \n",
      "\n",
      "       Inflation rate          GDP  academic_load  academic_performance  \\\n",
      "count     1421.000000  1421.000000    1421.000000           1344.000000   \n",
      "mean         1.283955    -0.150859      11.601689              0.405994   \n",
      "std          1.404970     2.251768       4.356358              0.371855   \n",
      "min         -0.800000    -4.060000       0.000000              0.000000   \n",
      "25%          0.300000    -1.700000      10.000000              0.000000   \n",
      "50%          1.400000     0.320000      12.000000              0.400000   \n",
      "75%          2.600000     1.740000      12.000000              0.719048   \n",
      "max          3.700000     3.510000      37.000000              1.000000   \n",
      "\n",
      "       grade_evolution  \n",
      "count      1421.000000  \n",
      "mean         -1.357317  \n",
      "std           4.412521  \n",
      "min         -16.142857  \n",
      "25%          -0.866667  \n",
      "50%           0.000000  \n",
      "75%           0.000000  \n",
      "max          14.500000  \n",
      "\n",
      "[8 rows x 37 columns]\n",
      "\n",
      "Porcentaje de deserción:\n",
      "32.120253164556964 %\n"
     ]
    },
    {
     "data": {
      "application/vnd.plotly.v1+json": {
       "config": {
        "plotlyServerURL": "https://plot.ly"
       },
       "data": [
        {
         "bingroup": "x",
         "hovertemplate": "Age at enrollment=%{x}<br>count=%{y}<extra></extra>",
         "legendgroup": "",
         "marker": {
          "color": "#636efa",
          "pattern": {
           "shape": ""
          }
         },
         "name": "",
         "orientation": "v",
         "showlegend": false,
         "type": "histogram",
         "x": {
          "bdata": "FBMWEhMUJSs3FBIUHRsnGx0TExISFRQjGBgaJxMVJBMTFBQSFRMTEhMTExQVExMVFRQUEiEbExQUGBgVGyMkGhgbFRIcJhUZGBkdEiUWIh4UFB0TEhMiExUZGhoSGBMWIRoTEh8iGhIUEhMZFxIdFRMTEiAWGxccFRwTFB8bHRwSFSAoJycXMBcSHxoSFhQbExMZFRMUGRkZEhYTHR8dFB8XFRUTEhMTFxUSIhQZEhMeFzIULClGMCMSJzErICUyLS0dNSMhKSMSIh4UEhIbHRYeIBMSFxIWFRQSJBIUFhITFC8fLhMWEx0XFRYcFxQSHBUZEx0dIRUZFx8gIBoVExQUFCYgHCUSJyATHxwfIhY9LRMaExMcHDoxISEnIhMSExMSEhISEhITEhUSEhgTEhMZFxQXHBMUExIUFRQWFhMUFhMUGhUUExMgHhQSEiYkFRQZFxUdHBwrIBMfGhITIB8fIhMSHhkTHCIjIxITFiIYGiMTExISExMXFRITGiQTGxIcGhQVFxUVFiAWFhMUGRUWOhIYEhQaGhISEhQSFBMUGBcUEyEZFBYYFBgUEycWEycYGxQVExcbFCATKSYjGyclJRQTJSY3HC4SIhUTFxMTEhMbEiUaGBMyLxgwIBQYKhoUFRIUFhUSExwUFSYTGBMfGRIeEhIZIRgYJhIUKBUmEhITLBoYGxsZFBYSGh0bFCMbHCoXEh0WEigUEhYmIRIsFBMSGBwSExITExMpFxIjIh4UGhofFxQdJRISIxMeMxISEhIYExMTExMTFSIUGBgSEhgWISAjGx4VLTMWIRQTFBIUFxIeEhkdGhMUEhUSFRMTFBITGRQSEhQYHRMUFBIjExgdJRISExMUExcvEhwUGDAXFhkbMR82GRwWIhwyExI7ISwlJBYvFTEfHhYVFhoUEicSEhIfHBMyHyIoLiUfEigZFCseEhUVGx0VIBobEhwZGRoZLRQVLxYpGjMWGS8pHR4aGx0jEhYgIxcjFCwcHywSEysSEhQdLBQkHRIYLRcsKhQaGSgTEhMUExIhExMTIRIlIBgbFB4aFRITExMSIhkSEhITIhgcFBoVJBQZFhQyFCMrFhMgFCYrMSIVKyQuGx8VFSIUFRoUGRgUKRMeEhIcJCovGTAmGhcaGBIUHBghEyQiFB8VExQuJSUnNTYUExISFjIpMjYiLSEbLRslFxIVLyYbMBkUJx0kMxcVHCktExsaJC0SExkTHBYUJRMTEhITExMcExMUEh8TGyASEhUzHRs5GhcTGxITGBobHRMTEh8TEhYSGBUUEiMSGBMeExUTHRIUEiMhExIcGRMUEhoTGBofFCYTFSQVFSUVHhstLCIWOyQTFCMbGhMSHxIoKBwVFhIbHB8VGxUjHBMlEyQdICUbIBYgEyYVFRIZGh8jEhIVFxIeFB0bFxMSExITFiggIzIYEhUZJSYkExgVICchKzETLRIdEhQdHRMSFiIYMRcSLR4cKCATEhQcHyEWFBkfGBcaGRwYFRsZEhsbEhMXFBUUExMSEhIXGhITFBUbExMvFxMSJB4YGhMaHRMSHRIUHh4TFRUbICgUFRIeHRISFhsVKBYSGBISGhIUGxMSExodJBQSFBQYExIWIBUSJjU2LBMWGBoYGhsTEhMeFhMVFiMUGxoUHC83JyMgFSoZEiIUFB8TKRsTEiMnEyIiEhMUHRgbFRUaFhsgExUcExsSKhQiFiIfExMfHh8TKxYdEysTJiUTEhQcEiMSFRISHSQiHRIgEhMYEikgFScSEyEVFBwkGBYUExIUFhMcExQTExMUJx4oFBMXEhMwJh4TEx0VFBsUHBcUGBIZGRITEhkmEyAVEhMcGhkfExcTGBUUExIjHxMSGRgbHB4dGxMVHSoTJRgcLxUuEh4=",
          "dtype": "i1"
         },
         "xaxis": "x",
         "yaxis": "y"
        },
        {
         "hovertemplate": "Age at enrollment=%{x}<extra></extra>",
         "legendgroup": "",
         "marker": {
          "color": "#636efa"
         },
         "name": "",
         "notched": true,
         "showlegend": false,
         "type": "box",
         "x": {
          "bdata": "FBMWEhMUJSs3FBIUHRsnGx0TExISFRQjGBgaJxMVJBMTFBQSFRMTEhMTExQVExMVFRQUEiEbExQUGBgVGyMkGhgbFRIcJhUZGBkdEiUWIh4UFB0TEhMiExUZGhoSGBMWIRoTEh8iGhIUEhMZFxIdFRMTEiAWGxccFRwTFB8bHRwSFSAoJycXMBcSHxoSFhQbExMZFRMUGRkZEhYTHR8dFB8XFRUTEhMTFxUSIhQZEhMeFzIULClGMCMSJzErICUyLS0dNSMhKSMSIh4UEhIbHRYeIBMSFxIWFRQSJBIUFhITFC8fLhMWEx0XFRYcFxQSHBUZEx0dIRUZFx8gIBoVExQUFCYgHCUSJyATHxwfIhY9LRMaExMcHDoxISEnIhMSExMSEhISEhITEhUSEhgTEhMZFxQXHBMUExIUFRQWFhMUFhMUGhUUExMgHhQSEiYkFRQZFxUdHBwrIBMfGhITIB8fIhMSHhkTHCIjIxITFiIYGiMTExISExMXFRITGiQTGxIcGhQVFxUVFiAWFhMUGRUWOhIYEhQaGhISEhQSFBMUGBcUEyEZFBYYFBgUEycWEycYGxQVExcbFCATKSYjGyclJRQTJSY3HC4SIhUTFxMTEhMbEiUaGBMyLxgwIBQYKhoUFRIUFhUSExwUFSYTGBMfGRIeEhIZIRgYJhIUKBUmEhITLBoYGxsZFBYSGh0bFCMbHCoXEh0WEigUEhYmIRIsFBMSGBwSExITExMpFxIjIh4UGhofFxQdJRISIxMeMxISEhIYExMTExMTFSIUGBgSEhgWISAjGx4VLTMWIRQTFBIUFxIeEhkdGhMUEhUSFRMTFBITGRQSEhQYHRMUFBIjExgdJRISExMUExcvEhwUGDAXFhkbMR82GRwWIhwyExI7ISwlJBYvFTEfHhYVFhoUEicSEhIfHBMyHyIoLiUfEigZFCseEhUVGx0VIBobEhwZGRoZLRQVLxYpGjMWGS8pHR4aGx0jEhYgIxcjFCwcHywSEysSEhQdLBQkHRIYLRcsKhQaGSgTEhMUExIhExMTIRIlIBgbFB4aFRITExMSIhkSEhITIhgcFBoVJBQZFhQyFCMrFhMgFCYrMSIVKyQuGx8VFSIUFRoUGRgUKRMeEhIcJCovGTAmGhcaGBIUHBghEyQiFB8VExQuJSUnNTYUExISFjIpMjYiLSEbLRslFxIVLyYbMBkUJx0kMxcVHCktExsaJC0SExkTHBYUJRMTEhITExMcExMUEh8TGyASEhUzHRs5GhcTGxITGBobHRMTEh8TEhYSGBUUEiMSGBMeExUTHRIUEiMhExIcGRMUEhoTGBofFCYTFSQVFSUVHhstLCIWOyQTFCMbGhMSHxIoKBwVFhIbHB8VGxUjHBMlEyQdICUbIBYgEyYVFRIZGh8jEhIVFxIeFB0bFxMSExITFiggIzIYEhUZJSYkExgVICchKzETLRIdEhQdHRMSFiIYMRcSLR4cKCATEhQcHyEWFBkfGBcaGRwYFRsZEhsbEhMXFBUUExMSEhIXGhITFBUbExMvFxMSJB4YGhMaHRMSHRIUHh4TFRUbICgUFRIeHRISFhsVKBYSGBISGhIUGxMSExodJBQSFBQYExIWIBUSJjU2LBMWGBoYGhsTEhMeFhMVFiMUGxoUHC83JyMgFSoZEiIUFB8TKRsTEiMnEyIiEhMUHRgbFRUaFhsgExUcExsSKhQiFiIfExMfHh8TKxYdEysTJiUTEhQcEiMSFRISHSQiHRIgEhMYEikgFScSEyEVFBwkGBYUExIUFhMcExQTExMUJx4oFBMXEhMwJh4TEx0VFBsUHBcUGBIZGRITEhkmEyAVEhMcGhkfExcTGBUUExIjHxMSGRgbHB4dGxMVHSoTJRgcLxUuEh4=",
          "dtype": "i1"
         },
         "xaxis": "x2",
         "yaxis": "y2"
        }
       ],
       "layout": {
        "barmode": "relative",
        "legend": {
         "tracegroupgap": 0
        },
        "template": {
         "data": {
          "bar": [
           {
            "error_x": {
             "color": "#2a3f5f"
            },
            "error_y": {
             "color": "#2a3f5f"
            },
            "marker": {
             "line": {
              "color": "#E5ECF6",
              "width": 0.5
             },
             "pattern": {
              "fillmode": "overlay",
              "size": 10,
              "solidity": 0.2
             }
            },
            "type": "bar"
           }
          ],
          "barpolar": [
           {
            "marker": {
             "line": {
              "color": "#E5ECF6",
              "width": 0.5
             },
             "pattern": {
              "fillmode": "overlay",
              "size": 10,
              "solidity": 0.2
             }
            },
            "type": "barpolar"
           }
          ],
          "carpet": [
           {
            "aaxis": {
             "endlinecolor": "#2a3f5f",
             "gridcolor": "white",
             "linecolor": "white",
             "minorgridcolor": "white",
             "startlinecolor": "#2a3f5f"
            },
            "baxis": {
             "endlinecolor": "#2a3f5f",
             "gridcolor": "white",
             "linecolor": "white",
             "minorgridcolor": "white",
             "startlinecolor": "#2a3f5f"
            },
            "type": "carpet"
           }
          ],
          "choropleth": [
           {
            "colorbar": {
             "outlinewidth": 0,
             "ticks": ""
            },
            "type": "choropleth"
           }
          ],
          "contour": [
           {
            "colorbar": {
             "outlinewidth": 0,
             "ticks": ""
            },
            "colorscale": [
             [
              0,
              "#0d0887"
             ],
             [
              0.1111111111111111,
              "#46039f"
             ],
             [
              0.2222222222222222,
              "#7201a8"
             ],
             [
              0.3333333333333333,
              "#9c179e"
             ],
             [
              0.4444444444444444,
              "#bd3786"
             ],
             [
              0.5555555555555556,
              "#d8576b"
             ],
             [
              0.6666666666666666,
              "#ed7953"
             ],
             [
              0.7777777777777778,
              "#fb9f3a"
             ],
             [
              0.8888888888888888,
              "#fdca26"
             ],
             [
              1,
              "#f0f921"
             ]
            ],
            "type": "contour"
           }
          ],
          "contourcarpet": [
           {
            "colorbar": {
             "outlinewidth": 0,
             "ticks": ""
            },
            "type": "contourcarpet"
           }
          ],
          "heatmap": [
           {
            "colorbar": {
             "outlinewidth": 0,
             "ticks": ""
            },
            "colorscale": [
             [
              0,
              "#0d0887"
             ],
             [
              0.1111111111111111,
              "#46039f"
             ],
             [
              0.2222222222222222,
              "#7201a8"
             ],
             [
              0.3333333333333333,
              "#9c179e"
             ],
             [
              0.4444444444444444,
              "#bd3786"
             ],
             [
              0.5555555555555556,
              "#d8576b"
             ],
             [
              0.6666666666666666,
              "#ed7953"
             ],
             [
              0.7777777777777778,
              "#fb9f3a"
             ],
             [
              0.8888888888888888,
              "#fdca26"
             ],
             [
              1,
              "#f0f921"
             ]
            ],
            "type": "heatmap"
           }
          ],
          "histogram": [
           {
            "marker": {
             "pattern": {
              "fillmode": "overlay",
              "size": 10,
              "solidity": 0.2
             }
            },
            "type": "histogram"
           }
          ],
          "histogram2d": [
           {
            "colorbar": {
             "outlinewidth": 0,
             "ticks": ""
            },
            "colorscale": [
             [
              0,
              "#0d0887"
             ],
             [
              0.1111111111111111,
              "#46039f"
             ],
             [
              0.2222222222222222,
              "#7201a8"
             ],
             [
              0.3333333333333333,
              "#9c179e"
             ],
             [
              0.4444444444444444,
              "#bd3786"
             ],
             [
              0.5555555555555556,
              "#d8576b"
             ],
             [
              0.6666666666666666,
              "#ed7953"
             ],
             [
              0.7777777777777778,
              "#fb9f3a"
             ],
             [
              0.8888888888888888,
              "#fdca26"
             ],
             [
              1,
              "#f0f921"
             ]
            ],
            "type": "histogram2d"
           }
          ],
          "histogram2dcontour": [
           {
            "colorbar": {
             "outlinewidth": 0,
             "ticks": ""
            },
            "colorscale": [
             [
              0,
              "#0d0887"
             ],
             [
              0.1111111111111111,
              "#46039f"
             ],
             [
              0.2222222222222222,
              "#7201a8"
             ],
             [
              0.3333333333333333,
              "#9c179e"
             ],
             [
              0.4444444444444444,
              "#bd3786"
             ],
             [
              0.5555555555555556,
              "#d8576b"
             ],
             [
              0.6666666666666666,
              "#ed7953"
             ],
             [
              0.7777777777777778,
              "#fb9f3a"
             ],
             [
              0.8888888888888888,
              "#fdca26"
             ],
             [
              1,
              "#f0f921"
             ]
            ],
            "type": "histogram2dcontour"
           }
          ],
          "mesh3d": [
           {
            "colorbar": {
             "outlinewidth": 0,
             "ticks": ""
            },
            "type": "mesh3d"
           }
          ],
          "parcoords": [
           {
            "line": {
             "colorbar": {
              "outlinewidth": 0,
              "ticks": ""
             }
            },
            "type": "parcoords"
           }
          ],
          "pie": [
           {
            "automargin": true,
            "type": "pie"
           }
          ],
          "scatter": [
           {
            "fillpattern": {
             "fillmode": "overlay",
             "size": 10,
             "solidity": 0.2
            },
            "type": "scatter"
           }
          ],
          "scatter3d": [
           {
            "line": {
             "colorbar": {
              "outlinewidth": 0,
              "ticks": ""
             }
            },
            "marker": {
             "colorbar": {
              "outlinewidth": 0,
              "ticks": ""
             }
            },
            "type": "scatter3d"
           }
          ],
          "scattercarpet": [
           {
            "marker": {
             "colorbar": {
              "outlinewidth": 0,
              "ticks": ""
             }
            },
            "type": "scattercarpet"
           }
          ],
          "scattergeo": [
           {
            "marker": {
             "colorbar": {
              "outlinewidth": 0,
              "ticks": ""
             }
            },
            "type": "scattergeo"
           }
          ],
          "scattergl": [
           {
            "marker": {
             "colorbar": {
              "outlinewidth": 0,
              "ticks": ""
             }
            },
            "type": "scattergl"
           }
          ],
          "scattermap": [
           {
            "marker": {
             "colorbar": {
              "outlinewidth": 0,
              "ticks": ""
             }
            },
            "type": "scattermap"
           }
          ],
          "scattermapbox": [
           {
            "marker": {
             "colorbar": {
              "outlinewidth": 0,
              "ticks": ""
             }
            },
            "type": "scattermapbox"
           }
          ],
          "scatterpolar": [
           {
            "marker": {
             "colorbar": {
              "outlinewidth": 0,
              "ticks": ""
             }
            },
            "type": "scatterpolar"
           }
          ],
          "scatterpolargl": [
           {
            "marker": {
             "colorbar": {
              "outlinewidth": 0,
              "ticks": ""
             }
            },
            "type": "scatterpolargl"
           }
          ],
          "scatterternary": [
           {
            "marker": {
             "colorbar": {
              "outlinewidth": 0,
              "ticks": ""
             }
            },
            "type": "scatterternary"
           }
          ],
          "surface": [
           {
            "colorbar": {
             "outlinewidth": 0,
             "ticks": ""
            },
            "colorscale": [
             [
              0,
              "#0d0887"
             ],
             [
              0.1111111111111111,
              "#46039f"
             ],
             [
              0.2222222222222222,
              "#7201a8"
             ],
             [
              0.3333333333333333,
              "#9c179e"
             ],
             [
              0.4444444444444444,
              "#bd3786"
             ],
             [
              0.5555555555555556,
              "#d8576b"
             ],
             [
              0.6666666666666666,
              "#ed7953"
             ],
             [
              0.7777777777777778,
              "#fb9f3a"
             ],
             [
              0.8888888888888888,
              "#fdca26"
             ],
             [
              1,
              "#f0f921"
             ]
            ],
            "type": "surface"
           }
          ],
          "table": [
           {
            "cells": {
             "fill": {
              "color": "#EBF0F8"
             },
             "line": {
              "color": "white"
             }
            },
            "header": {
             "fill": {
              "color": "#C8D4E3"
             },
             "line": {
              "color": "white"
             }
            },
            "type": "table"
           }
          ]
         },
         "layout": {
          "annotationdefaults": {
           "arrowcolor": "#2a3f5f",
           "arrowhead": 0,
           "arrowwidth": 1
          },
          "autotypenumbers": "strict",
          "coloraxis": {
           "colorbar": {
            "outlinewidth": 0,
            "ticks": ""
           }
          },
          "colorscale": {
           "diverging": [
            [
             0,
             "#8e0152"
            ],
            [
             0.1,
             "#c51b7d"
            ],
            [
             0.2,
             "#de77ae"
            ],
            [
             0.3,
             "#f1b6da"
            ],
            [
             0.4,
             "#fde0ef"
            ],
            [
             0.5,
             "#f7f7f7"
            ],
            [
             0.6,
             "#e6f5d0"
            ],
            [
             0.7,
             "#b8e186"
            ],
            [
             0.8,
             "#7fbc41"
            ],
            [
             0.9,
             "#4d9221"
            ],
            [
             1,
             "#276419"
            ]
           ],
           "sequential": [
            [
             0,
             "#0d0887"
            ],
            [
             0.1111111111111111,
             "#46039f"
            ],
            [
             0.2222222222222222,
             "#7201a8"
            ],
            [
             0.3333333333333333,
             "#9c179e"
            ],
            [
             0.4444444444444444,
             "#bd3786"
            ],
            [
             0.5555555555555556,
             "#d8576b"
            ],
            [
             0.6666666666666666,
             "#ed7953"
            ],
            [
             0.7777777777777778,
             "#fb9f3a"
            ],
            [
             0.8888888888888888,
             "#fdca26"
            ],
            [
             1,
             "#f0f921"
            ]
           ],
           "sequentialminus": [
            [
             0,
             "#0d0887"
            ],
            [
             0.1111111111111111,
             "#46039f"
            ],
            [
             0.2222222222222222,
             "#7201a8"
            ],
            [
             0.3333333333333333,
             "#9c179e"
            ],
            [
             0.4444444444444444,
             "#bd3786"
            ],
            [
             0.5555555555555556,
             "#d8576b"
            ],
            [
             0.6666666666666666,
             "#ed7953"
            ],
            [
             0.7777777777777778,
             "#fb9f3a"
            ],
            [
             0.8888888888888888,
             "#fdca26"
            ],
            [
             1,
             "#f0f921"
            ]
           ]
          },
          "colorway": [
           "#636efa",
           "#EF553B",
           "#00cc96",
           "#ab63fa",
           "#FFA15A",
           "#19d3f3",
           "#FF6692",
           "#B6E880",
           "#FF97FF",
           "#FECB52"
          ],
          "font": {
           "color": "#2a3f5f"
          },
          "geo": {
           "bgcolor": "white",
           "lakecolor": "white",
           "landcolor": "#E5ECF6",
           "showlakes": true,
           "showland": true,
           "subunitcolor": "white"
          },
          "hoverlabel": {
           "align": "left"
          },
          "hovermode": "closest",
          "mapbox": {
           "style": "light"
          },
          "paper_bgcolor": "white",
          "plot_bgcolor": "#E5ECF6",
          "polar": {
           "angularaxis": {
            "gridcolor": "white",
            "linecolor": "white",
            "ticks": ""
           },
           "bgcolor": "#E5ECF6",
           "radialaxis": {
            "gridcolor": "white",
            "linecolor": "white",
            "ticks": ""
           }
          },
          "scene": {
           "xaxis": {
            "backgroundcolor": "#E5ECF6",
            "gridcolor": "white",
            "gridwidth": 2,
            "linecolor": "white",
            "showbackground": true,
            "ticks": "",
            "zerolinecolor": "white"
           },
           "yaxis": {
            "backgroundcolor": "#E5ECF6",
            "gridcolor": "white",
            "gridwidth": 2,
            "linecolor": "white",
            "showbackground": true,
            "ticks": "",
            "zerolinecolor": "white"
           },
           "zaxis": {
            "backgroundcolor": "#E5ECF6",
            "gridcolor": "white",
            "gridwidth": 2,
            "linecolor": "white",
            "showbackground": true,
            "ticks": "",
            "zerolinecolor": "white"
           }
          },
          "shapedefaults": {
           "line": {
            "color": "#2a3f5f"
           }
          },
          "ternary": {
           "aaxis": {
            "gridcolor": "white",
            "linecolor": "white",
            "ticks": ""
           },
           "baxis": {
            "gridcolor": "white",
            "linecolor": "white",
            "ticks": ""
           },
           "bgcolor": "#E5ECF6",
           "caxis": {
            "gridcolor": "white",
            "linecolor": "white",
            "ticks": ""
           }
          },
          "title": {
           "x": 0.05
          },
          "xaxis": {
           "automargin": true,
           "gridcolor": "white",
           "linecolor": "white",
           "ticks": "",
           "title": {
            "standoff": 15
           },
           "zerolinecolor": "white",
           "zerolinewidth": 2
          },
          "yaxis": {
           "automargin": true,
           "gridcolor": "white",
           "linecolor": "white",
           "ticks": "",
           "title": {
            "standoff": 15
           },
           "zerolinecolor": "white",
           "zerolinewidth": 2
          }
         }
        },
        "title": {
         "text": "Distribución de Edad de Desertores"
        },
        "xaxis": {
         "anchor": "y",
         "domain": [
          0,
          1
         ],
         "title": {
          "text": "Age at enrollment"
         }
        },
        "xaxis2": {
         "anchor": "y2",
         "domain": [
          0,
          1
         ],
         "matches": "x",
         "showgrid": true,
         "showticklabels": false
        },
        "yaxis": {
         "anchor": "x",
         "domain": [
          0,
          0.8316
         ],
         "title": {
          "text": "count"
         }
        },
        "yaxis2": {
         "anchor": "x2",
         "domain": [
          0.8416,
          1
         ],
         "matches": "y2",
         "showgrid": false,
         "showline": false,
         "showticklabels": false,
         "ticks": ""
        }
       }
      }
     },
     "metadata": {},
     "output_type": "display_data"
    },
    {
     "data": {
      "application/vnd.plotly.v1+json": {
       "config": {
        "plotlyServerURL": "https://plot.ly"
       },
       "data": [
        {
         "name": "Dropouts",
         "type": "bar",
         "x": {
          "bdata": "AAE=",
          "dtype": "i1"
         },
         "xaxis": "x",
         "y": {
          "bdata": "0AK9Ag==",
          "dtype": "i2"
         },
         "yaxis": "y"
        },
        {
         "name": "Dropouts",
         "type": "bar",
         "x": {
          "bdata": "AQIEBQYD",
          "dtype": "i1"
         },
         "xaxis": "x2",
         "y": {
          "bdata": "oASzACoACwAEAAEA",
          "dtype": "i2"
         },
         "yaxis": "y2"
        },
        {
         "type": "bar",
         "x": {
          "bdata": "AQ4DCRASChUMEQ==",
          "dtype": "i1"
         },
         "xaxis": "x3",
         "y": {
          "bdata": "bQUOAAQABAACAAEAAQABAAEAAQA=",
          "dtype": "i2"
         },
         "yaxis": "y3"
        },
        {
         "name": "Dropouts",
         "type": "bar",
         "x": {
          "bdata": "AAE=",
          "dtype": "i1"
         },
         "xaxis": "x4",
         "y": {
          "bdata": "8AKdAg==",
          "dtype": "i2"
         },
         "yaxis": "y4"
        }
       ],
       "layout": {
        "annotations": [
         {
          "font": {
           "size": 16
          },
          "showarrow": false,
          "text": "Distribución por Género",
          "x": 0.225,
          "xanchor": "center",
          "xref": "paper",
          "y": 1,
          "yanchor": "bottom",
          "yref": "paper"
         },
         {
          "font": {
           "size": 16
          },
          "showarrow": false,
          "text": "Estado Civil",
          "x": 0.775,
          "xanchor": "center",
          "xref": "paper",
          "y": 1,
          "yanchor": "bottom",
          "yref": "paper"
         },
         {
          "font": {
           "size": 16
          },
          "showarrow": false,
          "text": "Nacionalidad",
          "x": 0.225,
          "xanchor": "center",
          "xref": "paper",
          "y": 0.375,
          "yanchor": "bottom",
          "yref": "paper"
         },
         {
          "font": {
           "size": 16
          },
          "showarrow": false,
          "text": "Desplazamiento",
          "x": 0.775,
          "xanchor": "center",
          "xref": "paper",
          "y": 0.375,
          "yanchor": "bottom",
          "yref": "paper"
         }
        ],
        "height": 800,
        "template": {
         "data": {
          "bar": [
           {
            "error_x": {
             "color": "#2a3f5f"
            },
            "error_y": {
             "color": "#2a3f5f"
            },
            "marker": {
             "line": {
              "color": "#E5ECF6",
              "width": 0.5
             },
             "pattern": {
              "fillmode": "overlay",
              "size": 10,
              "solidity": 0.2
             }
            },
            "type": "bar"
           }
          ],
          "barpolar": [
           {
            "marker": {
             "line": {
              "color": "#E5ECF6",
              "width": 0.5
             },
             "pattern": {
              "fillmode": "overlay",
              "size": 10,
              "solidity": 0.2
             }
            },
            "type": "barpolar"
           }
          ],
          "carpet": [
           {
            "aaxis": {
             "endlinecolor": "#2a3f5f",
             "gridcolor": "white",
             "linecolor": "white",
             "minorgridcolor": "white",
             "startlinecolor": "#2a3f5f"
            },
            "baxis": {
             "endlinecolor": "#2a3f5f",
             "gridcolor": "white",
             "linecolor": "white",
             "minorgridcolor": "white",
             "startlinecolor": "#2a3f5f"
            },
            "type": "carpet"
           }
          ],
          "choropleth": [
           {
            "colorbar": {
             "outlinewidth": 0,
             "ticks": ""
            },
            "type": "choropleth"
           }
          ],
          "contour": [
           {
            "colorbar": {
             "outlinewidth": 0,
             "ticks": ""
            },
            "colorscale": [
             [
              0,
              "#0d0887"
             ],
             [
              0.1111111111111111,
              "#46039f"
             ],
             [
              0.2222222222222222,
              "#7201a8"
             ],
             [
              0.3333333333333333,
              "#9c179e"
             ],
             [
              0.4444444444444444,
              "#bd3786"
             ],
             [
              0.5555555555555556,
              "#d8576b"
             ],
             [
              0.6666666666666666,
              "#ed7953"
             ],
             [
              0.7777777777777778,
              "#fb9f3a"
             ],
             [
              0.8888888888888888,
              "#fdca26"
             ],
             [
              1,
              "#f0f921"
             ]
            ],
            "type": "contour"
           }
          ],
          "contourcarpet": [
           {
            "colorbar": {
             "outlinewidth": 0,
             "ticks": ""
            },
            "type": "contourcarpet"
           }
          ],
          "heatmap": [
           {
            "colorbar": {
             "outlinewidth": 0,
             "ticks": ""
            },
            "colorscale": [
             [
              0,
              "#0d0887"
             ],
             [
              0.1111111111111111,
              "#46039f"
             ],
             [
              0.2222222222222222,
              "#7201a8"
             ],
             [
              0.3333333333333333,
              "#9c179e"
             ],
             [
              0.4444444444444444,
              "#bd3786"
             ],
             [
              0.5555555555555556,
              "#d8576b"
             ],
             [
              0.6666666666666666,
              "#ed7953"
             ],
             [
              0.7777777777777778,
              "#fb9f3a"
             ],
             [
              0.8888888888888888,
              "#fdca26"
             ],
             [
              1,
              "#f0f921"
             ]
            ],
            "type": "heatmap"
           }
          ],
          "histogram": [
           {
            "marker": {
             "pattern": {
              "fillmode": "overlay",
              "size": 10,
              "solidity": 0.2
             }
            },
            "type": "histogram"
           }
          ],
          "histogram2d": [
           {
            "colorbar": {
             "outlinewidth": 0,
             "ticks": ""
            },
            "colorscale": [
             [
              0,
              "#0d0887"
             ],
             [
              0.1111111111111111,
              "#46039f"
             ],
             [
              0.2222222222222222,
              "#7201a8"
             ],
             [
              0.3333333333333333,
              "#9c179e"
             ],
             [
              0.4444444444444444,
              "#bd3786"
             ],
             [
              0.5555555555555556,
              "#d8576b"
             ],
             [
              0.6666666666666666,
              "#ed7953"
             ],
             [
              0.7777777777777778,
              "#fb9f3a"
             ],
             [
              0.8888888888888888,
              "#fdca26"
             ],
             [
              1,
              "#f0f921"
             ]
            ],
            "type": "histogram2d"
           }
          ],
          "histogram2dcontour": [
           {
            "colorbar": {
             "outlinewidth": 0,
             "ticks": ""
            },
            "colorscale": [
             [
              0,
              "#0d0887"
             ],
             [
              0.1111111111111111,
              "#46039f"
             ],
             [
              0.2222222222222222,
              "#7201a8"
             ],
             [
              0.3333333333333333,
              "#9c179e"
             ],
             [
              0.4444444444444444,
              "#bd3786"
             ],
             [
              0.5555555555555556,
              "#d8576b"
             ],
             [
              0.6666666666666666,
              "#ed7953"
             ],
             [
              0.7777777777777778,
              "#fb9f3a"
             ],
             [
              0.8888888888888888,
              "#fdca26"
             ],
             [
              1,
              "#f0f921"
             ]
            ],
            "type": "histogram2dcontour"
           }
          ],
          "mesh3d": [
           {
            "colorbar": {
             "outlinewidth": 0,
             "ticks": ""
            },
            "type": "mesh3d"
           }
          ],
          "parcoords": [
           {
            "line": {
             "colorbar": {
              "outlinewidth": 0,
              "ticks": ""
             }
            },
            "type": "parcoords"
           }
          ],
          "pie": [
           {
            "automargin": true,
            "type": "pie"
           }
          ],
          "scatter": [
           {
            "fillpattern": {
             "fillmode": "overlay",
             "size": 10,
             "solidity": 0.2
            },
            "type": "scatter"
           }
          ],
          "scatter3d": [
           {
            "line": {
             "colorbar": {
              "outlinewidth": 0,
              "ticks": ""
             }
            },
            "marker": {
             "colorbar": {
              "outlinewidth": 0,
              "ticks": ""
             }
            },
            "type": "scatter3d"
           }
          ],
          "scattercarpet": [
           {
            "marker": {
             "colorbar": {
              "outlinewidth": 0,
              "ticks": ""
             }
            },
            "type": "scattercarpet"
           }
          ],
          "scattergeo": [
           {
            "marker": {
             "colorbar": {
              "outlinewidth": 0,
              "ticks": ""
             }
            },
            "type": "scattergeo"
           }
          ],
          "scattergl": [
           {
            "marker": {
             "colorbar": {
              "outlinewidth": 0,
              "ticks": ""
             }
            },
            "type": "scattergl"
           }
          ],
          "scattermap": [
           {
            "marker": {
             "colorbar": {
              "outlinewidth": 0,
              "ticks": ""
             }
            },
            "type": "scattermap"
           }
          ],
          "scattermapbox": [
           {
            "marker": {
             "colorbar": {
              "outlinewidth": 0,
              "ticks": ""
             }
            },
            "type": "scattermapbox"
           }
          ],
          "scatterpolar": [
           {
            "marker": {
             "colorbar": {
              "outlinewidth": 0,
              "ticks": ""
             }
            },
            "type": "scatterpolar"
           }
          ],
          "scatterpolargl": [
           {
            "marker": {
             "colorbar": {
              "outlinewidth": 0,
              "ticks": ""
             }
            },
            "type": "scatterpolargl"
           }
          ],
          "scatterternary": [
           {
            "marker": {
             "colorbar": {
              "outlinewidth": 0,
              "ticks": ""
             }
            },
            "type": "scatterternary"
           }
          ],
          "surface": [
           {
            "colorbar": {
             "outlinewidth": 0,
             "ticks": ""
            },
            "colorscale": [
             [
              0,
              "#0d0887"
             ],
             [
              0.1111111111111111,
              "#46039f"
             ],
             [
              0.2222222222222222,
              "#7201a8"
             ],
             [
              0.3333333333333333,
              "#9c179e"
             ],
             [
              0.4444444444444444,
              "#bd3786"
             ],
             [
              0.5555555555555556,
              "#d8576b"
             ],
             [
              0.6666666666666666,
              "#ed7953"
             ],
             [
              0.7777777777777778,
              "#fb9f3a"
             ],
             [
              0.8888888888888888,
              "#fdca26"
             ],
             [
              1,
              "#f0f921"
             ]
            ],
            "type": "surface"
           }
          ],
          "table": [
           {
            "cells": {
             "fill": {
              "color": "#EBF0F8"
             },
             "line": {
              "color": "white"
             }
            },
            "header": {
             "fill": {
              "color": "#C8D4E3"
             },
             "line": {
              "color": "white"
             }
            },
            "type": "table"
           }
          ]
         },
         "layout": {
          "annotationdefaults": {
           "arrowcolor": "#2a3f5f",
           "arrowhead": 0,
           "arrowwidth": 1
          },
          "autotypenumbers": "strict",
          "coloraxis": {
           "colorbar": {
            "outlinewidth": 0,
            "ticks": ""
           }
          },
          "colorscale": {
           "diverging": [
            [
             0,
             "#8e0152"
            ],
            [
             0.1,
             "#c51b7d"
            ],
            [
             0.2,
             "#de77ae"
            ],
            [
             0.3,
             "#f1b6da"
            ],
            [
             0.4,
             "#fde0ef"
            ],
            [
             0.5,
             "#f7f7f7"
            ],
            [
             0.6,
             "#e6f5d0"
            ],
            [
             0.7,
             "#b8e186"
            ],
            [
             0.8,
             "#7fbc41"
            ],
            [
             0.9,
             "#4d9221"
            ],
            [
             1,
             "#276419"
            ]
           ],
           "sequential": [
            [
             0,
             "#0d0887"
            ],
            [
             0.1111111111111111,
             "#46039f"
            ],
            [
             0.2222222222222222,
             "#7201a8"
            ],
            [
             0.3333333333333333,
             "#9c179e"
            ],
            [
             0.4444444444444444,
             "#bd3786"
            ],
            [
             0.5555555555555556,
             "#d8576b"
            ],
            [
             0.6666666666666666,
             "#ed7953"
            ],
            [
             0.7777777777777778,
             "#fb9f3a"
            ],
            [
             0.8888888888888888,
             "#fdca26"
            ],
            [
             1,
             "#f0f921"
            ]
           ],
           "sequentialminus": [
            [
             0,
             "#0d0887"
            ],
            [
             0.1111111111111111,
             "#46039f"
            ],
            [
             0.2222222222222222,
             "#7201a8"
            ],
            [
             0.3333333333333333,
             "#9c179e"
            ],
            [
             0.4444444444444444,
             "#bd3786"
            ],
            [
             0.5555555555555556,
             "#d8576b"
            ],
            [
             0.6666666666666666,
             "#ed7953"
            ],
            [
             0.7777777777777778,
             "#fb9f3a"
            ],
            [
             0.8888888888888888,
             "#fdca26"
            ],
            [
             1,
             "#f0f921"
            ]
           ]
          },
          "colorway": [
           "#636efa",
           "#EF553B",
           "#00cc96",
           "#ab63fa",
           "#FFA15A",
           "#19d3f3",
           "#FF6692",
           "#B6E880",
           "#FF97FF",
           "#FECB52"
          ],
          "font": {
           "color": "#2a3f5f"
          },
          "geo": {
           "bgcolor": "white",
           "lakecolor": "white",
           "landcolor": "#E5ECF6",
           "showlakes": true,
           "showland": true,
           "subunitcolor": "white"
          },
          "hoverlabel": {
           "align": "left"
          },
          "hovermode": "closest",
          "mapbox": {
           "style": "light"
          },
          "paper_bgcolor": "white",
          "plot_bgcolor": "#E5ECF6",
          "polar": {
           "angularaxis": {
            "gridcolor": "white",
            "linecolor": "white",
            "ticks": ""
           },
           "bgcolor": "#E5ECF6",
           "radialaxis": {
            "gridcolor": "white",
            "linecolor": "white",
            "ticks": ""
           }
          },
          "scene": {
           "xaxis": {
            "backgroundcolor": "#E5ECF6",
            "gridcolor": "white",
            "gridwidth": 2,
            "linecolor": "white",
            "showbackground": true,
            "ticks": "",
            "zerolinecolor": "white"
           },
           "yaxis": {
            "backgroundcolor": "#E5ECF6",
            "gridcolor": "white",
            "gridwidth": 2,
            "linecolor": "white",
            "showbackground": true,
            "ticks": "",
            "zerolinecolor": "white"
           },
           "zaxis": {
            "backgroundcolor": "#E5ECF6",
            "gridcolor": "white",
            "gridwidth": 2,
            "linecolor": "white",
            "showbackground": true,
            "ticks": "",
            "zerolinecolor": "white"
           }
          },
          "shapedefaults": {
           "line": {
            "color": "#2a3f5f"
           }
          },
          "ternary": {
           "aaxis": {
            "gridcolor": "white",
            "linecolor": "white",
            "ticks": ""
           },
           "baxis": {
            "gridcolor": "white",
            "linecolor": "white",
            "ticks": ""
           },
           "bgcolor": "#E5ECF6",
           "caxis": {
            "gridcolor": "white",
            "linecolor": "white",
            "ticks": ""
           }
          },
          "title": {
           "x": 0.05
          },
          "xaxis": {
           "automargin": true,
           "gridcolor": "white",
           "linecolor": "white",
           "ticks": "",
           "title": {
            "standoff": 15
           },
           "zerolinecolor": "white",
           "zerolinewidth": 2
          },
          "yaxis": {
           "automargin": true,
           "gridcolor": "white",
           "linecolor": "white",
           "ticks": "",
           "title": {
            "standoff": 15
           },
           "zerolinecolor": "white",
           "zerolinewidth": 2
          }
         }
        },
        "title": {
         "text": "Análisis Demográfico de Desertores"
        },
        "xaxis": {
         "anchor": "y",
         "domain": [
          0,
          0.45
         ]
        },
        "xaxis2": {
         "anchor": "y2",
         "domain": [
          0.55,
          1
         ]
        },
        "xaxis3": {
         "anchor": "y3",
         "domain": [
          0,
          0.45
         ]
        },
        "xaxis4": {
         "anchor": "y4",
         "domain": [
          0.55,
          1
         ]
        },
        "yaxis": {
         "anchor": "x",
         "domain": [
          0.625,
          1
         ]
        },
        "yaxis2": {
         "anchor": "x2",
         "domain": [
          0.625,
          1
         ]
        },
        "yaxis3": {
         "anchor": "x3",
         "domain": [
          0,
          0.375
         ]
        },
        "yaxis4": {
         "anchor": "x4",
         "domain": [
          0,
          0.375
         ]
        }
       }
      }
     },
     "metadata": {},
     "output_type": "display_data"
    },
    {
     "data": {
      "application/vnd.plotly.v1+json": {
       "config": {
        "plotlyServerURL": "https://plot.ly"
       },
       "data": [
        {
         "name": "1er Sem",
         "type": "histogram",
         "x": {
          "bdata": "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",
          "dtype": "f8"
         },
         "xaxis": "x",
         "yaxis": "y"
        },
        {
         "name": "2do Sem",
         "type": "histogram",
         "x": {
          "bdata": "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",
          "dtype": "f8"
         },
         "xaxis": "x2",
         "yaxis": "y2"
        },
        {
         "name": "Tasa Éxito 1S",
         "type": "histogram",
         "x": {
          "bdata": "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",
          "dtype": "f8"
         },
         "xaxis": "x3",
         "yaxis": "y3"
        },
        {
         "name": "Evolución",
         "type": "histogram",
         "x": {
          "bdata": "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",
          "dtype": "f8"
         },
         "xaxis": "x4",
         "yaxis": "y4"
        },
        {
         "name": "Tasa Global",
         "type": "histogram",
         "x": {
          "bdata": "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",
          "dtype": "f8"
         },
         "xaxis": "x5",
         "yaxis": "y5"
        },
        {
         "name": "Evaluaciones",
         "type": "histogram",
         "x": {
          "bdata": "AAAKFwYNDgASGAsOABYQFhQSABgTEw8BHxkNGhEaAAAAIBMOGAAMEg8QFBQWEg8XGQ4QFBIMDAASEAoAAAANDxEdExYKABgYGQ4VDBkYACQWEhwTDAsLExYRAwsADwAWAAAZEAAFGRAQDxMKEgAAFA4AEA0RFRQUAgAAERsLCRMSCw8ECQATFhUQFQ4UABcKDxYTFxQTHRUJEw4VFAwfGBEADgAMABoVDhEMDQAMEgAaGhMOAAUOABkVFREFChMMCgoKER0GEgoaDyAOABERDhkKCwANLQAVGRQKGAAEABEAEhYXCxMKExEADwwMDBgQChEQEQMNFw8OEhkWABMWEhENAA8ADwAQFxQKERkRABAAFAAZCwkPCw8KChANEBANFx0PDAAADQAKBg8MAAsPEBAKGgAXExMAAAYUDw8XAgAQEQUAFRMKABgTFQ0NDhsaIBMSAxUWFwwXDwAOEgoNDRUQEgAVFwwAEQ0HEAwTGwcTChMMABEbGRsTGw4AFA8AAA4AChUSDwANDQAOBg8ACw0YDAATDhcNEgsAEhgTAAoFHxIMDBQeEhkTGxwKGAABAAAKDh0MEBYcHAsPABYRGwoPEAUAABIKHBMPExEYDgAAEQwSFQ4kEA4gHyMKEAsQCQoQABkMEhYSABwLDA0AAAAAChAQAAAZEREOFAASEBAOGA8VDyQWDgAhChEABhEADA0QEAATABQXERweHhEKCgAVDAYQIA4UEQwUFhQQABwPDwoeDw4PCh0UHAAAGwUnCBESFQ0XDgAMABURFQAYFh4NERYADhAAEgAAFAQPExMAGAgYEggAEAoRABIZEgAQGBELEhIADBkcDgsLFgAoDQASDx8SAAAGFBEAHw4ZABIVDhwNDR0ZCwUWLxMOExkRChYOChEAAA8PEQ4MEBUAEgATDAkQDAoSCgAODREPDBYSABgMDQAAABcUEhUPDhQNEgsmLxISFxAYDwAQCxkVDgAKDAQEDxcUDRc3CgAKGA8RDh4KABEAAA0PFBINChAADA4SAAAdABcACA4AEwwODgAUDQwSHBkQEwwUEQAOFBUPEA8PExUPAxEZFREZAA8WAB8YGBMTAA0WEgocDQsRFBQKEgkKEQwTAA8KHg0KEhUOHRcNEgQPDQwUERkSDxEaGhUAFAAUDBARFAAKCgALCiEGABIAFgEAABEoFRsLFAUXGAAAACANGQsADhgKFxMADgIWACAADhgMEBkAKREADg8QEx4AEhEvABQNDioODwAbFQAACxEhDhIAAA8IGBQADgANABoUABMNDg8TEREMHAASEQ8ADw0VBg0LGhIAEQwOFwoKHQsRABETDRAMGQsUABgaEBcQHh0UFBkbFQAAABILDBQAEg8AER8RDhsTEggOGRkAFigOFRYAEQsQGRUAFx8KEAAcDhAKEg8MAA8MHBMNFA8hAREgEyUOExYZBRUACg4LGRARDBcSEgAXEgAVGRQsFxwTGAoeAA4YEQ8OFA4SDQAKDQoXABogAAAZAAAXDRgZABAOGhERDhwOHQARAAAYDBIVBRUACg4RHhYZDREAFAoAEA4ODAAWDxMVGAYMGRELIgoZERcUFxgAFxEADgwNAA0WGQAVDxYNBhMSDRgXGCQUFRUAAA8QABUUEQAcDBQTABcPChsUJAoREB0WDRwcBhUbDxkPCg4PEBkbDgsrDhATFAANAA0FGwAAFxgNEQoYFREKAAAjFg8OAA0WCwsQFA4AAA8AABgdAAAXAAcABBEcGxcPARQAFgAGABkWFA8AEAobKBgTAAAJCxUTEw8QGhkPHRQWFxgMJxkMGA8TCwoSEg4TEBQgDRIAHhALFwsAABUNHQ4UFAAQAAAUFRQcFQ4SFBoXChEKHw0cGgAMDBkQFg8VEhMaDBE=",
          "dtype": "i1"
         },
         "xaxis": "x6",
         "yaxis": "y6"
        }
       ],
       "layout": {
        "annotations": [
         {
          "font": {
           "size": 16
          },
          "showarrow": false,
          "text": "Notas 1er Semestre",
          "x": 0.225,
          "xanchor": "center",
          "xref": "paper",
          "y": 1,
          "yanchor": "bottom",
          "yref": "paper"
         },
         {
          "font": {
           "size": 16
          },
          "showarrow": false,
          "text": "Notas 2do Semestre",
          "x": 0.775,
          "xanchor": "center",
          "xref": "paper",
          "y": 1,
          "yanchor": "bottom",
          "yref": "paper"
         },
         {
          "font": {
           "size": 16
          },
          "showarrow": false,
          "text": "Unidades Aprobadas vs Matriculadas",
          "x": 0.225,
          "xanchor": "center",
          "xref": "paper",
          "y": 0.6111111111111112,
          "yanchor": "bottom",
          "yref": "paper"
         },
         {
          "font": {
           "size": 16
          },
          "showarrow": false,
          "text": "Evolución de Notas",
          "x": 0.775,
          "xanchor": "center",
          "xref": "paper",
          "y": 0.6111111111111112,
          "yanchor": "bottom",
          "yref": "paper"
         },
         {
          "font": {
           "size": 16
          },
          "showarrow": false,
          "text": "Tasa de Aprobación",
          "x": 0.225,
          "xanchor": "center",
          "xref": "paper",
          "y": 0.22222222222222224,
          "yanchor": "bottom",
          "yref": "paper"
         },
         {
          "font": {
           "size": 16
          },
          "showarrow": false,
          "text": "Evaluaciones Totales",
          "x": 0.775,
          "xanchor": "center",
          "xref": "paper",
          "y": 0.22222222222222224,
          "yanchor": "bottom",
          "yref": "paper"
         },
         {
          "align": "left",
          "font": {
           "size": 10
          },
          "showarrow": false,
          "text": "Promedio 1er Sem: 7.26\nPromedio 2do Sem: 5.90\nTasa Aprobación Media: 35.79%",
          "x": 1,
          "xref": "paper",
          "y": 1.1,
          "yref": "paper"
         }
        ],
        "height": 1200,
        "showlegend": true,
        "template": {
         "data": {
          "bar": [
           {
            "error_x": {
             "color": "#2a3f5f"
            },
            "error_y": {
             "color": "#2a3f5f"
            },
            "marker": {
             "line": {
              "color": "#E5ECF6",
              "width": 0.5
             },
             "pattern": {
              "fillmode": "overlay",
              "size": 10,
              "solidity": 0.2
             }
            },
            "type": "bar"
           }
          ],
          "barpolar": [
           {
            "marker": {
             "line": {
              "color": "#E5ECF6",
              "width": 0.5
             },
             "pattern": {
              "fillmode": "overlay",
              "size": 10,
              "solidity": 0.2
             }
            },
            "type": "barpolar"
           }
          ],
          "carpet": [
           {
            "aaxis": {
             "endlinecolor": "#2a3f5f",
             "gridcolor": "white",
             "linecolor": "white",
             "minorgridcolor": "white",
             "startlinecolor": "#2a3f5f"
            },
            "baxis": {
             "endlinecolor": "#2a3f5f",
             "gridcolor": "white",
             "linecolor": "white",
             "minorgridcolor": "white",
             "startlinecolor": "#2a3f5f"
            },
            "type": "carpet"
           }
          ],
          "choropleth": [
           {
            "colorbar": {
             "outlinewidth": 0,
             "ticks": ""
            },
            "type": "choropleth"
           }
          ],
          "contour": [
           {
            "colorbar": {
             "outlinewidth": 0,
             "ticks": ""
            },
            "colorscale": [
             [
              0,
              "#0d0887"
             ],
             [
              0.1111111111111111,
              "#46039f"
             ],
             [
              0.2222222222222222,
              "#7201a8"
             ],
             [
              0.3333333333333333,
              "#9c179e"
             ],
             [
              0.4444444444444444,
              "#bd3786"
             ],
             [
              0.5555555555555556,
              "#d8576b"
             ],
             [
              0.6666666666666666,
              "#ed7953"
             ],
             [
              0.7777777777777778,
              "#fb9f3a"
             ],
             [
              0.8888888888888888,
              "#fdca26"
             ],
             [
              1,
              "#f0f921"
             ]
            ],
            "type": "contour"
           }
          ],
          "contourcarpet": [
           {
            "colorbar": {
             "outlinewidth": 0,
             "ticks": ""
            },
            "type": "contourcarpet"
           }
          ],
          "heatmap": [
           {
            "colorbar": {
             "outlinewidth": 0,
             "ticks": ""
            },
            "colorscale": [
             [
              0,
              "#0d0887"
             ],
             [
              0.1111111111111111,
              "#46039f"
             ],
             [
              0.2222222222222222,
              "#7201a8"
             ],
             [
              0.3333333333333333,
              "#9c179e"
             ],
             [
              0.4444444444444444,
              "#bd3786"
             ],
             [
              0.5555555555555556,
              "#d8576b"
             ],
             [
              0.6666666666666666,
              "#ed7953"
             ],
             [
              0.7777777777777778,
              "#fb9f3a"
             ],
             [
              0.8888888888888888,
              "#fdca26"
             ],
             [
              1,
              "#f0f921"
             ]
            ],
            "type": "heatmap"
           }
          ],
          "histogram": [
           {
            "marker": {
             "pattern": {
              "fillmode": "overlay",
              "size": 10,
              "solidity": 0.2
             }
            },
            "type": "histogram"
           }
          ],
          "histogram2d": [
           {
            "colorbar": {
             "outlinewidth": 0,
             "ticks": ""
            },
            "colorscale": [
             [
              0,
              "#0d0887"
             ],
             [
              0.1111111111111111,
              "#46039f"
             ],
             [
              0.2222222222222222,
              "#7201a8"
             ],
             [
              0.3333333333333333,
              "#9c179e"
             ],
             [
              0.4444444444444444,
              "#bd3786"
             ],
             [
              0.5555555555555556,
              "#d8576b"
             ],
             [
              0.6666666666666666,
              "#ed7953"
             ],
             [
              0.7777777777777778,
              "#fb9f3a"
             ],
             [
              0.8888888888888888,
              "#fdca26"
             ],
             [
              1,
              "#f0f921"
             ]
            ],
            "type": "histogram2d"
           }
          ],
          "histogram2dcontour": [
           {
            "colorbar": {
             "outlinewidth": 0,
             "ticks": ""
            },
            "colorscale": [
             [
              0,
              "#0d0887"
             ],
             [
              0.1111111111111111,
              "#46039f"
             ],
             [
              0.2222222222222222,
              "#7201a8"
             ],
             [
              0.3333333333333333,
              "#9c179e"
             ],
             [
              0.4444444444444444,
              "#bd3786"
             ],
             [
              0.5555555555555556,
              "#d8576b"
             ],
             [
              0.6666666666666666,
              "#ed7953"
             ],
             [
              0.7777777777777778,
              "#fb9f3a"
             ],
             [
              0.8888888888888888,
              "#fdca26"
             ],
             [
              1,
              "#f0f921"
             ]
            ],
            "type": "histogram2dcontour"
           }
          ],
          "mesh3d": [
           {
            "colorbar": {
             "outlinewidth": 0,
             "ticks": ""
            },
            "type": "mesh3d"
           }
          ],
          "parcoords": [
           {
            "line": {
             "colorbar": {
              "outlinewidth": 0,
              "ticks": ""
             }
            },
            "type": "parcoords"
           }
          ],
          "pie": [
           {
            "automargin": true,
            "type": "pie"
           }
          ],
          "scatter": [
           {
            "fillpattern": {
             "fillmode": "overlay",
             "size": 10,
             "solidity": 0.2
            },
            "type": "scatter"
           }
          ],
          "scatter3d": [
           {
            "line": {
             "colorbar": {
              "outlinewidth": 0,
              "ticks": ""
             }
            },
            "marker": {
             "colorbar": {
              "outlinewidth": 0,
              "ticks": ""
             }
            },
            "type": "scatter3d"
           }
          ],
          "scattercarpet": [
           {
            "marker": {
             "colorbar": {
              "outlinewidth": 0,
              "ticks": ""
             }
            },
            "type": "scattercarpet"
           }
          ],
          "scattergeo": [
           {
            "marker": {
             "colorbar": {
              "outlinewidth": 0,
              "ticks": ""
             }
            },
            "type": "scattergeo"
           }
          ],
          "scattergl": [
           {
            "marker": {
             "colorbar": {
              "outlinewidth": 0,
              "ticks": ""
             }
            },
            "type": "scattergl"
           }
          ],
          "scattermap": [
           {
            "marker": {
             "colorbar": {
              "outlinewidth": 0,
              "ticks": ""
             }
            },
            "type": "scattermap"
           }
          ],
          "scattermapbox": [
           {
            "marker": {
             "colorbar": {
              "outlinewidth": 0,
              "ticks": ""
             }
            },
            "type": "scattermapbox"
           }
          ],
          "scatterpolar": [
           {
            "marker": {
             "colorbar": {
              "outlinewidth": 0,
              "ticks": ""
             }
            },
            "type": "scatterpolar"
           }
          ],
          "scatterpolargl": [
           {
            "marker": {
             "colorbar": {
              "outlinewidth": 0,
              "ticks": ""
             }
            },
            "type": "scatterpolargl"
           }
          ],
          "scatterternary": [
           {
            "marker": {
             "colorbar": {
              "outlinewidth": 0,
              "ticks": ""
             }
            },
            "type": "scatterternary"
           }
          ],
          "surface": [
           {
            "colorbar": {
             "outlinewidth": 0,
             "ticks": ""
            },
            "colorscale": [
             [
              0,
              "#0d0887"
             ],
             [
              0.1111111111111111,
              "#46039f"
             ],
             [
              0.2222222222222222,
              "#7201a8"
             ],
             [
              0.3333333333333333,
              "#9c179e"
             ],
             [
              0.4444444444444444,
              "#bd3786"
             ],
             [
              0.5555555555555556,
              "#d8576b"
             ],
             [
              0.6666666666666666,
              "#ed7953"
             ],
             [
              0.7777777777777778,
              "#fb9f3a"
             ],
             [
              0.8888888888888888,
              "#fdca26"
             ],
             [
              1,
              "#f0f921"
             ]
            ],
            "type": "surface"
           }
          ],
          "table": [
           {
            "cells": {
             "fill": {
              "color": "#EBF0F8"
             },
             "line": {
              "color": "white"
             }
            },
            "header": {
             "fill": {
              "color": "#C8D4E3"
             },
             "line": {
              "color": "white"
             }
            },
            "type": "table"
           }
          ]
         },
         "layout": {
          "annotationdefaults": {
           "arrowcolor": "#2a3f5f",
           "arrowhead": 0,
           "arrowwidth": 1
          },
          "autotypenumbers": "strict",
          "coloraxis": {
           "colorbar": {
            "outlinewidth": 0,
            "ticks": ""
           }
          },
          "colorscale": {
           "diverging": [
            [
             0,
             "#8e0152"
            ],
            [
             0.1,
             "#c51b7d"
            ],
            [
             0.2,
             "#de77ae"
            ],
            [
             0.3,
             "#f1b6da"
            ],
            [
             0.4,
             "#fde0ef"
            ],
            [
             0.5,
             "#f7f7f7"
            ],
            [
             0.6,
             "#e6f5d0"
            ],
            [
             0.7,
             "#b8e186"
            ],
            [
             0.8,
             "#7fbc41"
            ],
            [
             0.9,
             "#4d9221"
            ],
            [
             1,
             "#276419"
            ]
           ],
           "sequential": [
            [
             0,
             "#0d0887"
            ],
            [
             0.1111111111111111,
             "#46039f"
            ],
            [
             0.2222222222222222,
             "#7201a8"
            ],
            [
             0.3333333333333333,
             "#9c179e"
            ],
            [
             0.4444444444444444,
             "#bd3786"
            ],
            [
             0.5555555555555556,
             "#d8576b"
            ],
            [
             0.6666666666666666,
             "#ed7953"
            ],
            [
             0.7777777777777778,
             "#fb9f3a"
            ],
            [
             0.8888888888888888,
             "#fdca26"
            ],
            [
             1,
             "#f0f921"
            ]
           ],
           "sequentialminus": [
            [
             0,
             "#0d0887"
            ],
            [
             0.1111111111111111,
             "#46039f"
            ],
            [
             0.2222222222222222,
             "#7201a8"
            ],
            [
             0.3333333333333333,
             "#9c179e"
            ],
            [
             0.4444444444444444,
             "#bd3786"
            ],
            [
             0.5555555555555556,
             "#d8576b"
            ],
            [
             0.6666666666666666,
             "#ed7953"
            ],
            [
             0.7777777777777778,
             "#fb9f3a"
            ],
            [
             0.8888888888888888,
             "#fdca26"
            ],
            [
             1,
             "#f0f921"
            ]
           ]
          },
          "colorway": [
           "#636efa",
           "#EF553B",
           "#00cc96",
           "#ab63fa",
           "#FFA15A",
           "#19d3f3",
           "#FF6692",
           "#B6E880",
           "#FF97FF",
           "#FECB52"
          ],
          "font": {
           "color": "#2a3f5f"
          },
          "geo": {
           "bgcolor": "white",
           "lakecolor": "white",
           "landcolor": "#E5ECF6",
           "showlakes": true,
           "showland": true,
           "subunitcolor": "white"
          },
          "hoverlabel": {
           "align": "left"
          },
          "hovermode": "closest",
          "mapbox": {
           "style": "light"
          },
          "paper_bgcolor": "white",
          "plot_bgcolor": "#E5ECF6",
          "polar": {
           "angularaxis": {
            "gridcolor": "white",
            "linecolor": "white",
            "ticks": ""
           },
           "bgcolor": "#E5ECF6",
           "radialaxis": {
            "gridcolor": "white",
            "linecolor": "white",
            "ticks": ""
           }
          },
          "scene": {
           "xaxis": {
            "backgroundcolor": "#E5ECF6",
            "gridcolor": "white",
            "gridwidth": 2,
            "linecolor": "white",
            "showbackground": true,
            "ticks": "",
            "zerolinecolor": "white"
           },
           "yaxis": {
            "backgroundcolor": "#E5ECF6",
            "gridcolor": "white",
            "gridwidth": 2,
            "linecolor": "white",
            "showbackground": true,
            "ticks": "",
            "zerolinecolor": "white"
           },
           "zaxis": {
            "backgroundcolor": "#E5ECF6",
            "gridcolor": "white",
            "gridwidth": 2,
            "linecolor": "white",
            "showbackground": true,
            "ticks": "",
            "zerolinecolor": "white"
           }
          },
          "shapedefaults": {
           "line": {
            "color": "#2a3f5f"
           }
          },
          "ternary": {
           "aaxis": {
            "gridcolor": "white",
            "linecolor": "white",
            "ticks": ""
           },
           "baxis": {
            "gridcolor": "white",
            "linecolor": "white",
            "ticks": ""
           },
           "bgcolor": "#E5ECF6",
           "caxis": {
            "gridcolor": "white",
            "linecolor": "white",
            "ticks": ""
           }
          },
          "title": {
           "x": 0.05
          },
          "xaxis": {
           "automargin": true,
           "gridcolor": "white",
           "linecolor": "white",
           "ticks": "",
           "title": {
            "standoff": 15
           },
           "zerolinecolor": "white",
           "zerolinewidth": 2
          },
          "yaxis": {
           "automargin": true,
           "gridcolor": "white",
           "linecolor": "white",
           "ticks": "",
           "title": {
            "standoff": 15
           },
           "zerolinecolor": "white",
           "zerolinewidth": 2
          }
         }
        },
        "title": {
         "text": "Análisis de Rendimiento Académico de Desertores"
        },
        "xaxis": {
         "anchor": "y",
         "domain": [
          0,
          0.45
         ]
        },
        "xaxis2": {
         "anchor": "y2",
         "domain": [
          0.55,
          1
         ]
        },
        "xaxis3": {
         "anchor": "y3",
         "domain": [
          0,
          0.45
         ]
        },
        "xaxis4": {
         "anchor": "y4",
         "domain": [
          0.55,
          1
         ]
        },
        "xaxis5": {
         "anchor": "y5",
         "domain": [
          0,
          0.45
         ]
        },
        "xaxis6": {
         "anchor": "y6",
         "domain": [
          0.55,
          1
         ]
        },
        "yaxis": {
         "anchor": "x",
         "domain": [
          0.7777777777777778,
          1
         ]
        },
        "yaxis2": {
         "anchor": "x2",
         "domain": [
          0.7777777777777778,
          1
         ]
        },
        "yaxis3": {
         "anchor": "x3",
         "domain": [
          0.3888888888888889,
          0.6111111111111112
         ]
        },
        "yaxis4": {
         "anchor": "x4",
         "domain": [
          0.3888888888888889,
          0.6111111111111112
         ]
        },
        "yaxis5": {
         "anchor": "x5",
         "domain": [
          0,
          0.22222222222222224
         ]
        },
        "yaxis6": {
         "anchor": "x6",
         "domain": [
          0,
          0.22222222222222224
         ]
        }
       }
      }
     },
     "metadata": {},
     "output_type": "display_data"
    },
    {
     "data": {
      "application/vnd.plotly.v1+json": {
       "config": {
        "plotlyServerURL": "https://plot.ly"
       },
       "data": [
        {
         "type": "histogram",
         "x": {
          "bdata": "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",
          "dtype": "f8"
         },
         "xaxis": "x",
         "yaxis": "y"
        },
        {
         "type": "histogram",
         "x": {
          "bdata": "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",
          "dtype": "f8"
         },
         "xaxis": "x2",
         "yaxis": "y2"
        },
        {
         "type": "histogram",
         "x": {
          "bdata": "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",
          "dtype": "f8"
         },
         "xaxis": "x3",
         "yaxis": "y3"
        },
        {
         "type": "bar",
         "x": {
          "bdata": "AAE=",
          "dtype": "i1"
         },
         "xaxis": "x4",
         "y": {
          "bdata": "BwWGAA==",
          "dtype": "i2"
         },
         "yaxis": "y4"
        }
       ],
       "layout": {
        "annotations": [
         {
          "font": {
           "size": 16
          },
          "showarrow": false,
          "text": "Distribución de Desempleo",
          "x": 0.225,
          "xanchor": "center",
          "xref": "paper",
          "y": 1,
          "yanchor": "bottom",
          "yref": "paper"
         },
         {
          "font": {
           "size": 16
          },
          "showarrow": false,
          "text": "Distribución de Inflación",
          "x": 0.775,
          "xanchor": "center",
          "xref": "paper",
          "y": 1,
          "yanchor": "bottom",
          "yref": "paper"
         },
         {
          "font": {
           "size": 16
          },
          "showarrow": false,
          "text": "Distribución de GDP",
          "x": 0.225,
          "xanchor": "center",
          "xref": "paper",
          "y": 0.375,
          "yanchor": "bottom",
          "yref": "paper"
         },
         {
          "font": {
           "size": 16
          },
          "showarrow": false,
          "text": "Distribución de Becas",
          "x": 0.775,
          "xanchor": "center",
          "xref": "paper",
          "y": 0.375,
          "yanchor": "bottom",
          "yref": "paper"
         }
        ],
        "height": 800,
        "template": {
         "data": {
          "bar": [
           {
            "error_x": {
             "color": "#2a3f5f"
            },
            "error_y": {
             "color": "#2a3f5f"
            },
            "marker": {
             "line": {
              "color": "#E5ECF6",
              "width": 0.5
             },
             "pattern": {
              "fillmode": "overlay",
              "size": 10,
              "solidity": 0.2
             }
            },
            "type": "bar"
           }
          ],
          "barpolar": [
           {
            "marker": {
             "line": {
              "color": "#E5ECF6",
              "width": 0.5
             },
             "pattern": {
              "fillmode": "overlay",
              "size": 10,
              "solidity": 0.2
             }
            },
            "type": "barpolar"
           }
          ],
          "carpet": [
           {
            "aaxis": {
             "endlinecolor": "#2a3f5f",
             "gridcolor": "white",
             "linecolor": "white",
             "minorgridcolor": "white",
             "startlinecolor": "#2a3f5f"
            },
            "baxis": {
             "endlinecolor": "#2a3f5f",
             "gridcolor": "white",
             "linecolor": "white",
             "minorgridcolor": "white",
             "startlinecolor": "#2a3f5f"
            },
            "type": "carpet"
           }
          ],
          "choropleth": [
           {
            "colorbar": {
             "outlinewidth": 0,
             "ticks": ""
            },
            "type": "choropleth"
           }
          ],
          "contour": [
           {
            "colorbar": {
             "outlinewidth": 0,
             "ticks": ""
            },
            "colorscale": [
             [
              0,
              "#0d0887"
             ],
             [
              0.1111111111111111,
              "#46039f"
             ],
             [
              0.2222222222222222,
              "#7201a8"
             ],
             [
              0.3333333333333333,
              "#9c179e"
             ],
             [
              0.4444444444444444,
              "#bd3786"
             ],
             [
              0.5555555555555556,
              "#d8576b"
             ],
             [
              0.6666666666666666,
              "#ed7953"
             ],
             [
              0.7777777777777778,
              "#fb9f3a"
             ],
             [
              0.8888888888888888,
              "#fdca26"
             ],
             [
              1,
              "#f0f921"
             ]
            ],
            "type": "contour"
           }
          ],
          "contourcarpet": [
           {
            "colorbar": {
             "outlinewidth": 0,
             "ticks": ""
            },
            "type": "contourcarpet"
           }
          ],
          "heatmap": [
           {
            "colorbar": {
             "outlinewidth": 0,
             "ticks": ""
            },
            "colorscale": [
             [
              0,
              "#0d0887"
             ],
             [
              0.1111111111111111,
              "#46039f"
             ],
             [
              0.2222222222222222,
              "#7201a8"
             ],
             [
              0.3333333333333333,
              "#9c179e"
             ],
             [
              0.4444444444444444,
              "#bd3786"
             ],
             [
              0.5555555555555556,
              "#d8576b"
             ],
             [
              0.6666666666666666,
              "#ed7953"
             ],
             [
              0.7777777777777778,
              "#fb9f3a"
             ],
             [
              0.8888888888888888,
              "#fdca26"
             ],
             [
              1,
              "#f0f921"
             ]
            ],
            "type": "heatmap"
           }
          ],
          "histogram": [
           {
            "marker": {
             "pattern": {
              "fillmode": "overlay",
              "size": 10,
              "solidity": 0.2
             }
            },
            "type": "histogram"
           }
          ],
          "histogram2d": [
           {
            "colorbar": {
             "outlinewidth": 0,
             "ticks": ""
            },
            "colorscale": [
             [
              0,
              "#0d0887"
             ],
             [
              0.1111111111111111,
              "#46039f"
             ],
             [
              0.2222222222222222,
              "#7201a8"
             ],
             [
              0.3333333333333333,
              "#9c179e"
             ],
             [
              0.4444444444444444,
              "#bd3786"
             ],
             [
              0.5555555555555556,
              "#d8576b"
             ],
             [
              0.6666666666666666,
              "#ed7953"
             ],
             [
              0.7777777777777778,
              "#fb9f3a"
             ],
             [
              0.8888888888888888,
              "#fdca26"
             ],
             [
              1,
              "#f0f921"
             ]
            ],
            "type": "histogram2d"
           }
          ],
          "histogram2dcontour": [
           {
            "colorbar": {
             "outlinewidth": 0,
             "ticks": ""
            },
            "colorscale": [
             [
              0,
              "#0d0887"
             ],
             [
              0.1111111111111111,
              "#46039f"
             ],
             [
              0.2222222222222222,
              "#7201a8"
             ],
             [
              0.3333333333333333,
              "#9c179e"
             ],
             [
              0.4444444444444444,
              "#bd3786"
             ],
             [
              0.5555555555555556,
              "#d8576b"
             ],
             [
              0.6666666666666666,
              "#ed7953"
             ],
             [
              0.7777777777777778,
              "#fb9f3a"
             ],
             [
              0.8888888888888888,
              "#fdca26"
             ],
             [
              1,
              "#f0f921"
             ]
            ],
            "type": "histogram2dcontour"
           }
          ],
          "mesh3d": [
           {
            "colorbar": {
             "outlinewidth": 0,
             "ticks": ""
            },
            "type": "mesh3d"
           }
          ],
          "parcoords": [
           {
            "line": {
             "colorbar": {
              "outlinewidth": 0,
              "ticks": ""
             }
            },
            "type": "parcoords"
           }
          ],
          "pie": [
           {
            "automargin": true,
            "type": "pie"
           }
          ],
          "scatter": [
           {
            "fillpattern": {
             "fillmode": "overlay",
             "size": 10,
             "solidity": 0.2
            },
            "type": "scatter"
           }
          ],
          "scatter3d": [
           {
            "line": {
             "colorbar": {
              "outlinewidth": 0,
              "ticks": ""
             }
            },
            "marker": {
             "colorbar": {
              "outlinewidth": 0,
              "ticks": ""
             }
            },
            "type": "scatter3d"
           }
          ],
          "scattercarpet": [
           {
            "marker": {
             "colorbar": {
              "outlinewidth": 0,
              "ticks": ""
             }
            },
            "type": "scattercarpet"
           }
          ],
          "scattergeo": [
           {
            "marker": {
             "colorbar": {
              "outlinewidth": 0,
              "ticks": ""
             }
            },
            "type": "scattergeo"
           }
          ],
          "scattergl": [
           {
            "marker": {
             "colorbar": {
              "outlinewidth": 0,
              "ticks": ""
             }
            },
            "type": "scattergl"
           }
          ],
          "scattermap": [
           {
            "marker": {
             "colorbar": {
              "outlinewidth": 0,
              "ticks": ""
             }
            },
            "type": "scattermap"
           }
          ],
          "scattermapbox": [
           {
            "marker": {
             "colorbar": {
              "outlinewidth": 0,
              "ticks": ""
             }
            },
            "type": "scattermapbox"
           }
          ],
          "scatterpolar": [
           {
            "marker": {
             "colorbar": {
              "outlinewidth": 0,
              "ticks": ""
             }
            },
            "type": "scatterpolar"
           }
          ],
          "scatterpolargl": [
           {
            "marker": {
             "colorbar": {
              "outlinewidth": 0,
              "ticks": ""
             }
            },
            "type": "scatterpolargl"
           }
          ],
          "scatterternary": [
           {
            "marker": {
             "colorbar": {
              "outlinewidth": 0,
              "ticks": ""
             }
            },
            "type": "scatterternary"
           }
          ],
          "surface": [
           {
            "colorbar": {
             "outlinewidth": 0,
             "ticks": ""
            },
            "colorscale": [
             [
              0,
              "#0d0887"
             ],
             [
              0.1111111111111111,
              "#46039f"
             ],
             [
              0.2222222222222222,
              "#7201a8"
             ],
             [
              0.3333333333333333,
              "#9c179e"
             ],
             [
              0.4444444444444444,
              "#bd3786"
             ],
             [
              0.5555555555555556,
              "#d8576b"
             ],
             [
              0.6666666666666666,
              "#ed7953"
             ],
             [
              0.7777777777777778,
              "#fb9f3a"
             ],
             [
              0.8888888888888888,
              "#fdca26"
             ],
             [
              1,
              "#f0f921"
             ]
            ],
            "type": "surface"
           }
          ],
          "table": [
           {
            "cells": {
             "fill": {
              "color": "#EBF0F8"
             },
             "line": {
              "color": "white"
             }
            },
            "header": {
             "fill": {
              "color": "#C8D4E3"
             },
             "line": {
              "color": "white"
             }
            },
            "type": "table"
           }
          ]
         },
         "layout": {
          "annotationdefaults": {
           "arrowcolor": "#2a3f5f",
           "arrowhead": 0,
           "arrowwidth": 1
          },
          "autotypenumbers": "strict",
          "coloraxis": {
           "colorbar": {
            "outlinewidth": 0,
            "ticks": ""
           }
          },
          "colorscale": {
           "diverging": [
            [
             0,
             "#8e0152"
            ],
            [
             0.1,
             "#c51b7d"
            ],
            [
             0.2,
             "#de77ae"
            ],
            [
             0.3,
             "#f1b6da"
            ],
            [
             0.4,
             "#fde0ef"
            ],
            [
             0.5,
             "#f7f7f7"
            ],
            [
             0.6,
             "#e6f5d0"
            ],
            [
             0.7,
             "#b8e186"
            ],
            [
             0.8,
             "#7fbc41"
            ],
            [
             0.9,
             "#4d9221"
            ],
            [
             1,
             "#276419"
            ]
           ],
           "sequential": [
            [
             0,
             "#0d0887"
            ],
            [
             0.1111111111111111,
             "#46039f"
            ],
            [
             0.2222222222222222,
             "#7201a8"
            ],
            [
             0.3333333333333333,
             "#9c179e"
            ],
            [
             0.4444444444444444,
             "#bd3786"
            ],
            [
             0.5555555555555556,
             "#d8576b"
            ],
            [
             0.6666666666666666,
             "#ed7953"
            ],
            [
             0.7777777777777778,
             "#fb9f3a"
            ],
            [
             0.8888888888888888,
             "#fdca26"
            ],
            [
             1,
             "#f0f921"
            ]
           ],
           "sequentialminus": [
            [
             0,
             "#0d0887"
            ],
            [
             0.1111111111111111,
             "#46039f"
            ],
            [
             0.2222222222222222,
             "#7201a8"
            ],
            [
             0.3333333333333333,
             "#9c179e"
            ],
            [
             0.4444444444444444,
             "#bd3786"
            ],
            [
             0.5555555555555556,
             "#d8576b"
            ],
            [
             0.6666666666666666,
             "#ed7953"
            ],
            [
             0.7777777777777778,
             "#fb9f3a"
            ],
            [
             0.8888888888888888,
             "#fdca26"
            ],
            [
             1,
             "#f0f921"
            ]
           ]
          },
          "colorway": [
           "#636efa",
           "#EF553B",
           "#00cc96",
           "#ab63fa",
           "#FFA15A",
           "#19d3f3",
           "#FF6692",
           "#B6E880",
           "#FF97FF",
           "#FECB52"
          ],
          "font": {
           "color": "#2a3f5f"
          },
          "geo": {
           "bgcolor": "white",
           "lakecolor": "white",
           "landcolor": "#E5ECF6",
           "showlakes": true,
           "showland": true,
           "subunitcolor": "white"
          },
          "hoverlabel": {
           "align": "left"
          },
          "hovermode": "closest",
          "mapbox": {
           "style": "light"
          },
          "paper_bgcolor": "white",
          "plot_bgcolor": "#E5ECF6",
          "polar": {
           "angularaxis": {
            "gridcolor": "white",
            "linecolor": "white",
            "ticks": ""
           },
           "bgcolor": "#E5ECF6",
           "radialaxis": {
            "gridcolor": "white",
            "linecolor": "white",
            "ticks": ""
           }
          },
          "scene": {
           "xaxis": {
            "backgroundcolor": "#E5ECF6",
            "gridcolor": "white",
            "gridwidth": 2,
            "linecolor": "white",
            "showbackground": true,
            "ticks": "",
            "zerolinecolor": "white"
           },
           "yaxis": {
            "backgroundcolor": "#E5ECF6",
            "gridcolor": "white",
            "gridwidth": 2,
            "linecolor": "white",
            "showbackground": true,
            "ticks": "",
            "zerolinecolor": "white"
           },
           "zaxis": {
            "backgroundcolor": "#E5ECF6",
            "gridcolor": "white",
            "gridwidth": 2,
            "linecolor": "white",
            "showbackground": true,
            "ticks": "",
            "zerolinecolor": "white"
           }
          },
          "shapedefaults": {
           "line": {
            "color": "#2a3f5f"
           }
          },
          "ternary": {
           "aaxis": {
            "gridcolor": "white",
            "linecolor": "white",
            "ticks": ""
           },
           "baxis": {
            "gridcolor": "white",
            "linecolor": "white",
            "ticks": ""
           },
           "bgcolor": "#E5ECF6",
           "caxis": {
            "gridcolor": "white",
            "linecolor": "white",
            "ticks": ""
           }
          },
          "title": {
           "x": 0.05
          },
          "xaxis": {
           "automargin": true,
           "gridcolor": "white",
           "linecolor": "white",
           "ticks": "",
           "title": {
            "standoff": 15
           },
           "zerolinecolor": "white",
           "zerolinewidth": 2
          },
          "yaxis": {
           "automargin": true,
           "gridcolor": "white",
           "linecolor": "white",
           "ticks": "",
           "title": {
            "standoff": 15
           },
           "zerolinecolor": "white",
           "zerolinewidth": 2
          }
         }
        },
        "title": {
         "text": "Análisis del Contexto Económico de Desertores"
        },
        "xaxis": {
         "anchor": "y",
         "domain": [
          0,
          0.45
         ]
        },
        "xaxis2": {
         "anchor": "y2",
         "domain": [
          0.55,
          1
         ]
        },
        "xaxis3": {
         "anchor": "y3",
         "domain": [
          0,
          0.45
         ]
        },
        "xaxis4": {
         "anchor": "y4",
         "domain": [
          0.55,
          1
         ]
        },
        "yaxis": {
         "anchor": "x",
         "domain": [
          0.625,
          1
         ]
        },
        "yaxis2": {
         "anchor": "x2",
         "domain": [
          0.625,
          1
         ]
        },
        "yaxis3": {
         "anchor": "x3",
         "domain": [
          0,
          0.375
         ]
        },
        "yaxis4": {
         "anchor": "x4",
         "domain": [
          0,
          0.375
         ]
        }
       }
      }
     },
     "metadata": {},
     "output_type": "display_data"
    },
    {
     "data": {
      "application/vnd.plotly.v1+json": {
       "config": {
        "plotlyServerURL": "https://plot.ly"
       },
       "data": [
        {
         "type": "bar",
         "x": {
          "bdata": "FgENFwMTCgIFBAcYBhkUCRoIGxUQEQscDBId",
          "dtype": "i1"
         },
         "xaxis": "x",
         "y": {
          "bdata": "fwEsAQ8BjACLAGAAFgAUAAgACAAFAAQAAwADAAIAAgACAAIAAgACAAEAAQABAAEAAQABAAEA",
          "dtype": "i2"
         },
         "yaxis": "y"
        },
        {
         "type": "bar",
         "x": {
          "bdata": "GwEOHAMYAgoEBR0aCRAUHgYZCBMXIhEVHw0HDAsPEhY=",
          "dtype": "i1"
         },
         "xaxis": "x2",
         "y": {
          "bdata": "sAEZAQgBpwBaAFEAFgAOAA4ACgAIAAUABAAEAAMAAwACAAIAAgABAAEAAQABAAEAAQABAAEAAQABAAEAAQABAA==",
          "dtype": "i2"
         },
         "yaxis": "y2"
        },
        {
         "type": "bar",
         "x": {
          "bdata": "CgUGAwEECAwCBwkNDyAcCxMf",
          "dtype": "i1"
         },
         "xaxis": "x3",
         "y": {
          "bdata": "6gH4AJwAZgBjAF8AUAAzACcAGgAPAA0AAgABAAEAAQABAAEA",
          "dtype": "i2"
         },
         "yaxis": "y3"
        },
        {
         "type": "bar",
         "x": {
          "bdata": "CggGBQQJCwEDBwIMDSwfEBEt",
          "dtype": "i1"
         },
         "xaxis": "x4",
         "y": {
          "bdata": "QwG4AJQAiwByAF4AVQBSAEYARQAwAC4ADQACAAEAAQABAAEA",
          "dtype": "i2"
         },
         "yaxis": "y4"
        }
       ],
       "layout": {
        "annotations": [
         {
          "font": {
           "size": 16
          },
          "showarrow": false,
          "text": "Calificación de la Madre",
          "x": 0.225,
          "xanchor": "center",
          "xref": "paper",
          "y": 1,
          "yanchor": "bottom",
          "yref": "paper"
         },
         {
          "font": {
           "size": 16
          },
          "showarrow": false,
          "text": "Calificación del Padre",
          "x": 0.775,
          "xanchor": "center",
          "xref": "paper",
          "y": 1,
          "yanchor": "bottom",
          "yref": "paper"
         },
         {
          "font": {
           "size": 16
          },
          "showarrow": false,
          "text": "Ocupación de la Madre",
          "x": 0.225,
          "xanchor": "center",
          "xref": "paper",
          "y": 0.375,
          "yanchor": "bottom",
          "yref": "paper"
         },
         {
          "font": {
           "size": 16
          },
          "showarrow": false,
          "text": "Ocupación del Padre",
          "x": 0.775,
          "xanchor": "center",
          "xref": "paper",
          "y": 0.375,
          "yanchor": "bottom",
          "yref": "paper"
         }
        ],
        "height": 1000,
        "template": {
         "data": {
          "bar": [
           {
            "error_x": {
             "color": "#2a3f5f"
            },
            "error_y": {
             "color": "#2a3f5f"
            },
            "marker": {
             "line": {
              "color": "#E5ECF6",
              "width": 0.5
             },
             "pattern": {
              "fillmode": "overlay",
              "size": 10,
              "solidity": 0.2
             }
            },
            "type": "bar"
           }
          ],
          "barpolar": [
           {
            "marker": {
             "line": {
              "color": "#E5ECF6",
              "width": 0.5
             },
             "pattern": {
              "fillmode": "overlay",
              "size": 10,
              "solidity": 0.2
             }
            },
            "type": "barpolar"
           }
          ],
          "carpet": [
           {
            "aaxis": {
             "endlinecolor": "#2a3f5f",
             "gridcolor": "white",
             "linecolor": "white",
             "minorgridcolor": "white",
             "startlinecolor": "#2a3f5f"
            },
            "baxis": {
             "endlinecolor": "#2a3f5f",
             "gridcolor": "white",
             "linecolor": "white",
             "minorgridcolor": "white",
             "startlinecolor": "#2a3f5f"
            },
            "type": "carpet"
           }
          ],
          "choropleth": [
           {
            "colorbar": {
             "outlinewidth": 0,
             "ticks": ""
            },
            "type": "choropleth"
           }
          ],
          "contour": [
           {
            "colorbar": {
             "outlinewidth": 0,
             "ticks": ""
            },
            "colorscale": [
             [
              0,
              "#0d0887"
             ],
             [
              0.1111111111111111,
              "#46039f"
             ],
             [
              0.2222222222222222,
              "#7201a8"
             ],
             [
              0.3333333333333333,
              "#9c179e"
             ],
             [
              0.4444444444444444,
              "#bd3786"
             ],
             [
              0.5555555555555556,
              "#d8576b"
             ],
             [
              0.6666666666666666,
              "#ed7953"
             ],
             [
              0.7777777777777778,
              "#fb9f3a"
             ],
             [
              0.8888888888888888,
              "#fdca26"
             ],
             [
              1,
              "#f0f921"
             ]
            ],
            "type": "contour"
           }
          ],
          "contourcarpet": [
           {
            "colorbar": {
             "outlinewidth": 0,
             "ticks": ""
            },
            "type": "contourcarpet"
           }
          ],
          "heatmap": [
           {
            "colorbar": {
             "outlinewidth": 0,
             "ticks": ""
            },
            "colorscale": [
             [
              0,
              "#0d0887"
             ],
             [
              0.1111111111111111,
              "#46039f"
             ],
             [
              0.2222222222222222,
              "#7201a8"
             ],
             [
              0.3333333333333333,
              "#9c179e"
             ],
             [
              0.4444444444444444,
              "#bd3786"
             ],
             [
              0.5555555555555556,
              "#d8576b"
             ],
             [
              0.6666666666666666,
              "#ed7953"
             ],
             [
              0.7777777777777778,
              "#fb9f3a"
             ],
             [
              0.8888888888888888,
              "#fdca26"
             ],
             [
              1,
              "#f0f921"
             ]
            ],
            "type": "heatmap"
           }
          ],
          "histogram": [
           {
            "marker": {
             "pattern": {
              "fillmode": "overlay",
              "size": 10,
              "solidity": 0.2
             }
            },
            "type": "histogram"
           }
          ],
          "histogram2d": [
           {
            "colorbar": {
             "outlinewidth": 0,
             "ticks": ""
            },
            "colorscale": [
             [
              0,
              "#0d0887"
             ],
             [
              0.1111111111111111,
              "#46039f"
             ],
             [
              0.2222222222222222,
              "#7201a8"
             ],
             [
              0.3333333333333333,
              "#9c179e"
             ],
             [
              0.4444444444444444,
              "#bd3786"
             ],
             [
              0.5555555555555556,
              "#d8576b"
             ],
             [
              0.6666666666666666,
              "#ed7953"
             ],
             [
              0.7777777777777778,
              "#fb9f3a"
             ],
             [
              0.8888888888888888,
              "#fdca26"
             ],
             [
              1,
              "#f0f921"
             ]
            ],
            "type": "histogram2d"
           }
          ],
          "histogram2dcontour": [
           {
            "colorbar": {
             "outlinewidth": 0,
             "ticks": ""
            },
            "colorscale": [
             [
              0,
              "#0d0887"
             ],
             [
              0.1111111111111111,
              "#46039f"
             ],
             [
              0.2222222222222222,
              "#7201a8"
             ],
             [
              0.3333333333333333,
              "#9c179e"
             ],
             [
              0.4444444444444444,
              "#bd3786"
             ],
             [
              0.5555555555555556,
              "#d8576b"
             ],
             [
              0.6666666666666666,
              "#ed7953"
             ],
             [
              0.7777777777777778,
              "#fb9f3a"
             ],
             [
              0.8888888888888888,
              "#fdca26"
             ],
             [
              1,
              "#f0f921"
             ]
            ],
            "type": "histogram2dcontour"
           }
          ],
          "mesh3d": [
           {
            "colorbar": {
             "outlinewidth": 0,
             "ticks": ""
            },
            "type": "mesh3d"
           }
          ],
          "parcoords": [
           {
            "line": {
             "colorbar": {
              "outlinewidth": 0,
              "ticks": ""
             }
            },
            "type": "parcoords"
           }
          ],
          "pie": [
           {
            "automargin": true,
            "type": "pie"
           }
          ],
          "scatter": [
           {
            "fillpattern": {
             "fillmode": "overlay",
             "size": 10,
             "solidity": 0.2
            },
            "type": "scatter"
           }
          ],
          "scatter3d": [
           {
            "line": {
             "colorbar": {
              "outlinewidth": 0,
              "ticks": ""
             }
            },
            "marker": {
             "colorbar": {
              "outlinewidth": 0,
              "ticks": ""
             }
            },
            "type": "scatter3d"
           }
          ],
          "scattercarpet": [
           {
            "marker": {
             "colorbar": {
              "outlinewidth": 0,
              "ticks": ""
             }
            },
            "type": "scattercarpet"
           }
          ],
          "scattergeo": [
           {
            "marker": {
             "colorbar": {
              "outlinewidth": 0,
              "ticks": ""
             }
            },
            "type": "scattergeo"
           }
          ],
          "scattergl": [
           {
            "marker": {
             "colorbar": {
              "outlinewidth": 0,
              "ticks": ""
             }
            },
            "type": "scattergl"
           }
          ],
          "scattermap": [
           {
            "marker": {
             "colorbar": {
              "outlinewidth": 0,
              "ticks": ""
             }
            },
            "type": "scattermap"
           }
          ],
          "scattermapbox": [
           {
            "marker": {
             "colorbar": {
              "outlinewidth": 0,
              "ticks": ""
             }
            },
            "type": "scattermapbox"
           }
          ],
          "scatterpolar": [
           {
            "marker": {
             "colorbar": {
              "outlinewidth": 0,
              "ticks": ""
             }
            },
            "type": "scatterpolar"
           }
          ],
          "scatterpolargl": [
           {
            "marker": {
             "colorbar": {
              "outlinewidth": 0,
              "ticks": ""
             }
            },
            "type": "scatterpolargl"
           }
          ],
          "scatterternary": [
           {
            "marker": {
             "colorbar": {
              "outlinewidth": 0,
              "ticks": ""
             }
            },
            "type": "scatterternary"
           }
          ],
          "surface": [
           {
            "colorbar": {
             "outlinewidth": 0,
             "ticks": ""
            },
            "colorscale": [
             [
              0,
              "#0d0887"
             ],
             [
              0.1111111111111111,
              "#46039f"
             ],
             [
              0.2222222222222222,
              "#7201a8"
             ],
             [
              0.3333333333333333,
              "#9c179e"
             ],
             [
              0.4444444444444444,
              "#bd3786"
             ],
             [
              0.5555555555555556,
              "#d8576b"
             ],
             [
              0.6666666666666666,
              "#ed7953"
             ],
             [
              0.7777777777777778,
              "#fb9f3a"
             ],
             [
              0.8888888888888888,
              "#fdca26"
             ],
             [
              1,
              "#f0f921"
             ]
            ],
            "type": "surface"
           }
          ],
          "table": [
           {
            "cells": {
             "fill": {
              "color": "#EBF0F8"
             },
             "line": {
              "color": "white"
             }
            },
            "header": {
             "fill": {
              "color": "#C8D4E3"
             },
             "line": {
              "color": "white"
             }
            },
            "type": "table"
           }
          ]
         },
         "layout": {
          "annotationdefaults": {
           "arrowcolor": "#2a3f5f",
           "arrowhead": 0,
           "arrowwidth": 1
          },
          "autotypenumbers": "strict",
          "coloraxis": {
           "colorbar": {
            "outlinewidth": 0,
            "ticks": ""
           }
          },
          "colorscale": {
           "diverging": [
            [
             0,
             "#8e0152"
            ],
            [
             0.1,
             "#c51b7d"
            ],
            [
             0.2,
             "#de77ae"
            ],
            [
             0.3,
             "#f1b6da"
            ],
            [
             0.4,
             "#fde0ef"
            ],
            [
             0.5,
             "#f7f7f7"
            ],
            [
             0.6,
             "#e6f5d0"
            ],
            [
             0.7,
             "#b8e186"
            ],
            [
             0.8,
             "#7fbc41"
            ],
            [
             0.9,
             "#4d9221"
            ],
            [
             1,
             "#276419"
            ]
           ],
           "sequential": [
            [
             0,
             "#0d0887"
            ],
            [
             0.1111111111111111,
             "#46039f"
            ],
            [
             0.2222222222222222,
             "#7201a8"
            ],
            [
             0.3333333333333333,
             "#9c179e"
            ],
            [
             0.4444444444444444,
             "#bd3786"
            ],
            [
             0.5555555555555556,
             "#d8576b"
            ],
            [
             0.6666666666666666,
             "#ed7953"
            ],
            [
             0.7777777777777778,
             "#fb9f3a"
            ],
            [
             0.8888888888888888,
             "#fdca26"
            ],
            [
             1,
             "#f0f921"
            ]
           ],
           "sequentialminus": [
            [
             0,
             "#0d0887"
            ],
            [
             0.1111111111111111,
             "#46039f"
            ],
            [
             0.2222222222222222,
             "#7201a8"
            ],
            [
             0.3333333333333333,
             "#9c179e"
            ],
            [
             0.4444444444444444,
             "#bd3786"
            ],
            [
             0.5555555555555556,
             "#d8576b"
            ],
            [
             0.6666666666666666,
             "#ed7953"
            ],
            [
             0.7777777777777778,
             "#fb9f3a"
            ],
            [
             0.8888888888888888,
             "#fdca26"
            ],
            [
             1,
             "#f0f921"
            ]
           ]
          },
          "colorway": [
           "#636efa",
           "#EF553B",
           "#00cc96",
           "#ab63fa",
           "#FFA15A",
           "#19d3f3",
           "#FF6692",
           "#B6E880",
           "#FF97FF",
           "#FECB52"
          ],
          "font": {
           "color": "#2a3f5f"
          },
          "geo": {
           "bgcolor": "white",
           "lakecolor": "white",
           "landcolor": "#E5ECF6",
           "showlakes": true,
           "showland": true,
           "subunitcolor": "white"
          },
          "hoverlabel": {
           "align": "left"
          },
          "hovermode": "closest",
          "mapbox": {
           "style": "light"
          },
          "paper_bgcolor": "white",
          "plot_bgcolor": "#E5ECF6",
          "polar": {
           "angularaxis": {
            "gridcolor": "white",
            "linecolor": "white",
            "ticks": ""
           },
           "bgcolor": "#E5ECF6",
           "radialaxis": {
            "gridcolor": "white",
            "linecolor": "white",
            "ticks": ""
           }
          },
          "scene": {
           "xaxis": {
            "backgroundcolor": "#E5ECF6",
            "gridcolor": "white",
            "gridwidth": 2,
            "linecolor": "white",
            "showbackground": true,
            "ticks": "",
            "zerolinecolor": "white"
           },
           "yaxis": {
            "backgroundcolor": "#E5ECF6",
            "gridcolor": "white",
            "gridwidth": 2,
            "linecolor": "white",
            "showbackground": true,
            "ticks": "",
            "zerolinecolor": "white"
           },
           "zaxis": {
            "backgroundcolor": "#E5ECF6",
            "gridcolor": "white",
            "gridwidth": 2,
            "linecolor": "white",
            "showbackground": true,
            "ticks": "",
            "zerolinecolor": "white"
           }
          },
          "shapedefaults": {
           "line": {
            "color": "#2a3f5f"
           }
          },
          "ternary": {
           "aaxis": {
            "gridcolor": "white",
            "linecolor": "white",
            "ticks": ""
           },
           "baxis": {
            "gridcolor": "white",
            "linecolor": "white",
            "ticks": ""
           },
           "bgcolor": "#E5ECF6",
           "caxis": {
            "gridcolor": "white",
            "linecolor": "white",
            "ticks": ""
           }
          },
          "title": {
           "x": 0.05
          },
          "xaxis": {
           "automargin": true,
           "gridcolor": "white",
           "linecolor": "white",
           "ticks": "",
           "title": {
            "standoff": 15
           },
           "zerolinecolor": "white",
           "zerolinewidth": 2
          },
          "yaxis": {
           "automargin": true,
           "gridcolor": "white",
           "linecolor": "white",
           "ticks": "",
           "title": {
            "standoff": 15
           },
           "zerolinecolor": "white",
           "zerolinewidth": 2
          }
         }
        },
        "title": {
         "text": "Análisis del Contexto Familiar de Desertores"
        },
        "xaxis": {
         "anchor": "y",
         "domain": [
          0,
          0.45
         ]
        },
        "xaxis2": {
         "anchor": "y2",
         "domain": [
          0.55,
          1
         ]
        },
        "xaxis3": {
         "anchor": "y3",
         "domain": [
          0,
          0.45
         ]
        },
        "xaxis4": {
         "anchor": "y4",
         "domain": [
          0.55,
          1
         ]
        },
        "yaxis": {
         "anchor": "x",
         "domain": [
          0.625,
          1
         ]
        },
        "yaxis2": {
         "anchor": "x2",
         "domain": [
          0.625,
          1
         ]
        },
        "yaxis3": {
         "anchor": "x3",
         "domain": [
          0,
          0.375
         ]
        },
        "yaxis4": {
         "anchor": "x4",
         "domain": [
          0,
          0.375
         ]
        }
       }
      }
     },
     "metadata": {},
     "output_type": "display_data"
    },
    {
     "data": {
      "application/vnd.plotly.v1+json": {
       "config": {
        "plotlyServerURL": "https://plot.ly"
       },
       "data": [
        {
         "colorscale": [
          [
           0,
           "rgb(103,0,31)"
          ],
          [
           0.1,
           "rgb(178,24,43)"
          ],
          [
           0.2,
           "rgb(214,96,77)"
          ],
          [
           0.3,
           "rgb(244,165,130)"
          ],
          [
           0.4,
           "rgb(253,219,199)"
          ],
          [
           0.5,
           "rgb(247,247,247)"
          ],
          [
           0.6,
           "rgb(209,229,240)"
          ],
          [
           0.7,
           "rgb(146,197,222)"
          ],
          [
           0.8,
           "rgb(67,147,195)"
          ],
          [
           0.9,
           "rgb(33,102,172)"
          ],
          [
           1,
           "rgb(5,48,97)"
          ]
         ],
         "type": "heatmap",
         "x": [
          "Marital status",
          "Application mode",
          "Application order",
          "Course",
          "Daytime/evening attendance",
          "Previous qualification",
          "Nacionality",
          "Mother's qualification",
          "Father's qualification",
          "Mother's occupation",
          "Father's occupation",
          "Displaced",
          "Educational special needs",
          "Debtor",
          "Tuition fees up to date",
          "Gender",
          "Scholarship holder",
          "Age at enrollment",
          "International",
          "Curricular units 1st sem (credited)",
          "Curricular units 1st sem (enrolled)",
          "Curricular units 1st sem (evaluations)",
          "Curricular units 1st sem (approved)",
          "Curricular units 1st sem (grade)",
          "Curricular units 1st sem (without evaluations)",
          "Curricular units 2nd sem (credited)",
          "Curricular units 2nd sem (enrolled)",
          "Curricular units 2nd sem (evaluations)",
          "Curricular units 2nd sem (approved)",
          "Curricular units 2nd sem (grade)",
          "Curricular units 2nd sem (without evaluations)",
          "Unemployment rate",
          "Inflation rate",
          "GDP",
          "academic_load",
          "academic_performance",
          "grade_evolution"
         ],
         "y": [
          "Marital status",
          "Application mode",
          "Application order",
          "Course",
          "Daytime/evening attendance",
          "Previous qualification",
          "Nacionality",
          "Mother's qualification",
          "Father's qualification",
          "Mother's occupation",
          "Father's occupation",
          "Displaced",
          "Educational special needs",
          "Debtor",
          "Tuition fees up to date",
          "Gender",
          "Scholarship holder",
          "Age at enrollment",
          "International",
          "Curricular units 1st sem (credited)",
          "Curricular units 1st sem (enrolled)",
          "Curricular units 1st sem (evaluations)",
          "Curricular units 1st sem (approved)",
          "Curricular units 1st sem (grade)",
          "Curricular units 1st sem (without evaluations)",
          "Curricular units 2nd sem (credited)",
          "Curricular units 2nd sem (enrolled)",
          "Curricular units 2nd sem (evaluations)",
          "Curricular units 2nd sem (approved)",
          "Curricular units 2nd sem (grade)",
          "Curricular units 2nd sem (without evaluations)",
          "Unemployment rate",
          "Inflation rate",
          "GDP",
          "academic_load",
          "academic_performance",
          "grade_evolution"
         ],
         "z": {
          "bdata": "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",
          "dtype": "f8",
          "shape": "37, 37"
         },
         "zmax": 1,
         "zmin": -1
        }
       ],
       "layout": {
        "height": 1000,
        "template": {
         "data": {
          "bar": [
           {
            "error_x": {
             "color": "#2a3f5f"
            },
            "error_y": {
             "color": "#2a3f5f"
            },
            "marker": {
             "line": {
              "color": "#E5ECF6",
              "width": 0.5
             },
             "pattern": {
              "fillmode": "overlay",
              "size": 10,
              "solidity": 0.2
             }
            },
            "type": "bar"
           }
          ],
          "barpolar": [
           {
            "marker": {
             "line": {
              "color": "#E5ECF6",
              "width": 0.5
             },
             "pattern": {
              "fillmode": "overlay",
              "size": 10,
              "solidity": 0.2
             }
            },
            "type": "barpolar"
           }
          ],
          "carpet": [
           {
            "aaxis": {
             "endlinecolor": "#2a3f5f",
             "gridcolor": "white",
             "linecolor": "white",
             "minorgridcolor": "white",
             "startlinecolor": "#2a3f5f"
            },
            "baxis": {
             "endlinecolor": "#2a3f5f",
             "gridcolor": "white",
             "linecolor": "white",
             "minorgridcolor": "white",
             "startlinecolor": "#2a3f5f"
            },
            "type": "carpet"
           }
          ],
          "choropleth": [
           {
            "colorbar": {
             "outlinewidth": 0,
             "ticks": ""
            },
            "type": "choropleth"
           }
          ],
          "contour": [
           {
            "colorbar": {
             "outlinewidth": 0,
             "ticks": ""
            },
            "colorscale": [
             [
              0,
              "#0d0887"
             ],
             [
              0.1111111111111111,
              "#46039f"
             ],
             [
              0.2222222222222222,
              "#7201a8"
             ],
             [
              0.3333333333333333,
              "#9c179e"
             ],
             [
              0.4444444444444444,
              "#bd3786"
             ],
             [
              0.5555555555555556,
              "#d8576b"
             ],
             [
              0.6666666666666666,
              "#ed7953"
             ],
             [
              0.7777777777777778,
              "#fb9f3a"
             ],
             [
              0.8888888888888888,
              "#fdca26"
             ],
             [
              1,
              "#f0f921"
             ]
            ],
            "type": "contour"
           }
          ],
          "contourcarpet": [
           {
            "colorbar": {
             "outlinewidth": 0,
             "ticks": ""
            },
            "type": "contourcarpet"
           }
          ],
          "heatmap": [
           {
            "colorbar": {
             "outlinewidth": 0,
             "ticks": ""
            },
            "colorscale": [
             [
              0,
              "#0d0887"
             ],
             [
              0.1111111111111111,
              "#46039f"
             ],
             [
              0.2222222222222222,
              "#7201a8"
             ],
             [
              0.3333333333333333,
              "#9c179e"
             ],
             [
              0.4444444444444444,
              "#bd3786"
             ],
             [
              0.5555555555555556,
              "#d8576b"
             ],
             [
              0.6666666666666666,
              "#ed7953"
             ],
             [
              0.7777777777777778,
              "#fb9f3a"
             ],
             [
              0.8888888888888888,
              "#fdca26"
             ],
             [
              1,
              "#f0f921"
             ]
            ],
            "type": "heatmap"
           }
          ],
          "histogram": [
           {
            "marker": {
             "pattern": {
              "fillmode": "overlay",
              "size": 10,
              "solidity": 0.2
             }
            },
            "type": "histogram"
           }
          ],
          "histogram2d": [
           {
            "colorbar": {
             "outlinewidth": 0,
             "ticks": ""
            },
            "colorscale": [
             [
              0,
              "#0d0887"
             ],
             [
              0.1111111111111111,
              "#46039f"
             ],
             [
              0.2222222222222222,
              "#7201a8"
             ],
             [
              0.3333333333333333,
              "#9c179e"
             ],
             [
              0.4444444444444444,
              "#bd3786"
             ],
             [
              0.5555555555555556,
              "#d8576b"
             ],
             [
              0.6666666666666666,
              "#ed7953"
             ],
             [
              0.7777777777777778,
              "#fb9f3a"
             ],
             [
              0.8888888888888888,
              "#fdca26"
             ],
             [
              1,
              "#f0f921"
             ]
            ],
            "type": "histogram2d"
           }
          ],
          "histogram2dcontour": [
           {
            "colorbar": {
             "outlinewidth": 0,
             "ticks": ""
            },
            "colorscale": [
             [
              0,
              "#0d0887"
             ],
             [
              0.1111111111111111,
              "#46039f"
             ],
             [
              0.2222222222222222,
              "#7201a8"
             ],
             [
              0.3333333333333333,
              "#9c179e"
             ],
             [
              0.4444444444444444,
              "#bd3786"
             ],
             [
              0.5555555555555556,
              "#d8576b"
             ],
             [
              0.6666666666666666,
              "#ed7953"
             ],
             [
              0.7777777777777778,
              "#fb9f3a"
             ],
             [
              0.8888888888888888,
              "#fdca26"
             ],
             [
              1,
              "#f0f921"
             ]
            ],
            "type": "histogram2dcontour"
           }
          ],
          "mesh3d": [
           {
            "colorbar": {
             "outlinewidth": 0,
             "ticks": ""
            },
            "type": "mesh3d"
           }
          ],
          "parcoords": [
           {
            "line": {
             "colorbar": {
              "outlinewidth": 0,
              "ticks": ""
             }
            },
            "type": "parcoords"
           }
          ],
          "pie": [
           {
            "automargin": true,
            "type": "pie"
           }
          ],
          "scatter": [
           {
            "fillpattern": {
             "fillmode": "overlay",
             "size": 10,
             "solidity": 0.2
            },
            "type": "scatter"
           }
          ],
          "scatter3d": [
           {
            "line": {
             "colorbar": {
              "outlinewidth": 0,
              "ticks": ""
             }
            },
            "marker": {
             "colorbar": {
              "outlinewidth": 0,
              "ticks": ""
             }
            },
            "type": "scatter3d"
           }
          ],
          "scattercarpet": [
           {
            "marker": {
             "colorbar": {
              "outlinewidth": 0,
              "ticks": ""
             }
            },
            "type": "scattercarpet"
           }
          ],
          "scattergeo": [
           {
            "marker": {
             "colorbar": {
              "outlinewidth": 0,
              "ticks": ""
             }
            },
            "type": "scattergeo"
           }
          ],
          "scattergl": [
           {
            "marker": {
             "colorbar": {
              "outlinewidth": 0,
              "ticks": ""
             }
            },
            "type": "scattergl"
           }
          ],
          "scattermap": [
           {
            "marker": {
             "colorbar": {
              "outlinewidth": 0,
              "ticks": ""
             }
            },
            "type": "scattermap"
           }
          ],
          "scattermapbox": [
           {
            "marker": {
             "colorbar": {
              "outlinewidth": 0,
              "ticks": ""
             }
            },
            "type": "scattermapbox"
           }
          ],
          "scatterpolar": [
           {
            "marker": {
             "colorbar": {
              "outlinewidth": 0,
              "ticks": ""
             }
            },
            "type": "scatterpolar"
           }
          ],
          "scatterpolargl": [
           {
            "marker": {
             "colorbar": {
              "outlinewidth": 0,
              "ticks": ""
             }
            },
            "type": "scatterpolargl"
           }
          ],
          "scatterternary": [
           {
            "marker": {
             "colorbar": {
              "outlinewidth": 0,
              "ticks": ""
             }
            },
            "type": "scatterternary"
           }
          ],
          "surface": [
           {
            "colorbar": {
             "outlinewidth": 0,
             "ticks": ""
            },
            "colorscale": [
             [
              0,
              "#0d0887"
             ],
             [
              0.1111111111111111,
              "#46039f"
             ],
             [
              0.2222222222222222,
              "#7201a8"
             ],
             [
              0.3333333333333333,
              "#9c179e"
             ],
             [
              0.4444444444444444,
              "#bd3786"
             ],
             [
              0.5555555555555556,
              "#d8576b"
             ],
             [
              0.6666666666666666,
              "#ed7953"
             ],
             [
              0.7777777777777778,
              "#fb9f3a"
             ],
             [
              0.8888888888888888,
              "#fdca26"
             ],
             [
              1,
              "#f0f921"
             ]
            ],
            "type": "surface"
           }
          ],
          "table": [
           {
            "cells": {
             "fill": {
              "color": "#EBF0F8"
             },
             "line": {
              "color": "white"
             }
            },
            "header": {
             "fill": {
              "color": "#C8D4E3"
             },
             "line": {
              "color": "white"
             }
            },
            "type": "table"
           }
          ]
         },
         "layout": {
          "annotationdefaults": {
           "arrowcolor": "#2a3f5f",
           "arrowhead": 0,
           "arrowwidth": 1
          },
          "autotypenumbers": "strict",
          "coloraxis": {
           "colorbar": {
            "outlinewidth": 0,
            "ticks": ""
           }
          },
          "colorscale": {
           "diverging": [
            [
             0,
             "#8e0152"
            ],
            [
             0.1,
             "#c51b7d"
            ],
            [
             0.2,
             "#de77ae"
            ],
            [
             0.3,
             "#f1b6da"
            ],
            [
             0.4,
             "#fde0ef"
            ],
            [
             0.5,
             "#f7f7f7"
            ],
            [
             0.6,
             "#e6f5d0"
            ],
            [
             0.7,
             "#b8e186"
            ],
            [
             0.8,
             "#7fbc41"
            ],
            [
             0.9,
             "#4d9221"
            ],
            [
             1,
             "#276419"
            ]
           ],
           "sequential": [
            [
             0,
             "#0d0887"
            ],
            [
             0.1111111111111111,
             "#46039f"
            ],
            [
             0.2222222222222222,
             "#7201a8"
            ],
            [
             0.3333333333333333,
             "#9c179e"
            ],
            [
             0.4444444444444444,
             "#bd3786"
            ],
            [
             0.5555555555555556,
             "#d8576b"
            ],
            [
             0.6666666666666666,
             "#ed7953"
            ],
            [
             0.7777777777777778,
             "#fb9f3a"
            ],
            [
             0.8888888888888888,
             "#fdca26"
            ],
            [
             1,
             "#f0f921"
            ]
           ],
           "sequentialminus": [
            [
             0,
             "#0d0887"
            ],
            [
             0.1111111111111111,
             "#46039f"
            ],
            [
             0.2222222222222222,
             "#7201a8"
            ],
            [
             0.3333333333333333,
             "#9c179e"
            ],
            [
             0.4444444444444444,
             "#bd3786"
            ],
            [
             0.5555555555555556,
             "#d8576b"
            ],
            [
             0.6666666666666666,
             "#ed7953"
            ],
            [
             0.7777777777777778,
             "#fb9f3a"
            ],
            [
             0.8888888888888888,
             "#fdca26"
            ],
            [
             1,
             "#f0f921"
            ]
           ]
          },
          "colorway": [
           "#636efa",
           "#EF553B",
           "#00cc96",
           "#ab63fa",
           "#FFA15A",
           "#19d3f3",
           "#FF6692",
           "#B6E880",
           "#FF97FF",
           "#FECB52"
          ],
          "font": {
           "color": "#2a3f5f"
          },
          "geo": {
           "bgcolor": "white",
           "lakecolor": "white",
           "landcolor": "#E5ECF6",
           "showlakes": true,
           "showland": true,
           "subunitcolor": "white"
          },
          "hoverlabel": {
           "align": "left"
          },
          "hovermode": "closest",
          "mapbox": {
           "style": "light"
          },
          "paper_bgcolor": "white",
          "plot_bgcolor": "#E5ECF6",
          "polar": {
           "angularaxis": {
            "gridcolor": "white",
            "linecolor": "white",
            "ticks": ""
           },
           "bgcolor": "#E5ECF6",
           "radialaxis": {
            "gridcolor": "white",
            "linecolor": "white",
            "ticks": ""
           }
          },
          "scene": {
           "xaxis": {
            "backgroundcolor": "#E5ECF6",
            "gridcolor": "white",
            "gridwidth": 2,
            "linecolor": "white",
            "showbackground": true,
            "ticks": "",
            "zerolinecolor": "white"
           },
           "yaxis": {
            "backgroundcolor": "#E5ECF6",
            "gridcolor": "white",
            "gridwidth": 2,
            "linecolor": "white",
            "showbackground": true,
            "ticks": "",
            "zerolinecolor": "white"
           },
           "zaxis": {
            "backgroundcolor": "#E5ECF6",
            "gridcolor": "white",
            "gridwidth": 2,
            "linecolor": "white",
            "showbackground": true,
            "ticks": "",
            "zerolinecolor": "white"
           }
          },
          "shapedefaults": {
           "line": {
            "color": "#2a3f5f"
           }
          },
          "ternary": {
           "aaxis": {
            "gridcolor": "white",
            "linecolor": "white",
            "ticks": ""
           },
           "baxis": {
            "gridcolor": "white",
            "linecolor": "white",
            "ticks": ""
           },
           "bgcolor": "#E5ECF6",
           "caxis": {
            "gridcolor": "white",
            "linecolor": "white",
            "ticks": ""
           }
          },
          "title": {
           "x": 0.05
          },
          "xaxis": {
           "automargin": true,
           "gridcolor": "white",
           "linecolor": "white",
           "ticks": "",
           "title": {
            "standoff": 15
           },
           "zerolinecolor": "white",
           "zerolinewidth": 2
          },
          "yaxis": {
           "automargin": true,
           "gridcolor": "white",
           "linecolor": "white",
           "ticks": "",
           "title": {
            "standoff": 15
           },
           "zerolinecolor": "white",
           "zerolinewidth": 2
          }
         }
        },
        "title": {
         "text": "Matriz de Correlación para Desertores"
        },
        "width": 1000
       }
      }
     },
     "metadata": {},
     "output_type": "display_data"
    },
    {
     "data": {
      "application/vnd.plotly.v1+json": {
       "config": {
        "plotlyServerURL": "https://plot.ly"
       },
       "data": [
        {
         "type": "bar",
         "x": {
          "bdata": "AQIDBAUGBwgJCgsMDQ4PEBE=",
          "dtype": "i1"
         },
         "y": {
          "bdata": "qqqqqqqqUEDFHXFH3BFDQKEv6Av6gkBAnud5nud5REDbDwm8/ZA2QK1cppXLtDpADw8PDw8PS0C/s1Hf2ahLQBvKayivoUFA68n47VJPMkDDMAzDMAxDQGKU3s00zy5ADPqCvqAvQ0BYYyI9ULlBQOwNCvl6gz5AqqqqqqoiRkA9UDm7hV9JQA==",
          "dtype": "f8"
         }
        }
       ],
       "layout": {
        "template": {
         "data": {
          "bar": [
           {
            "error_x": {
             "color": "#2a3f5f"
            },
            "error_y": {
             "color": "#2a3f5f"
            },
            "marker": {
             "line": {
              "color": "#E5ECF6",
              "width": 0.5
             },
             "pattern": {
              "fillmode": "overlay",
              "size": 10,
              "solidity": 0.2
             }
            },
            "type": "bar"
           }
          ],
          "barpolar": [
           {
            "marker": {
             "line": {
              "color": "#E5ECF6",
              "width": 0.5
             },
             "pattern": {
              "fillmode": "overlay",
              "size": 10,
              "solidity": 0.2
             }
            },
            "type": "barpolar"
           }
          ],
          "carpet": [
           {
            "aaxis": {
             "endlinecolor": "#2a3f5f",
             "gridcolor": "white",
             "linecolor": "white",
             "minorgridcolor": "white",
             "startlinecolor": "#2a3f5f"
            },
            "baxis": {
             "endlinecolor": "#2a3f5f",
             "gridcolor": "white",
             "linecolor": "white",
             "minorgridcolor": "white",
             "startlinecolor": "#2a3f5f"
            },
            "type": "carpet"
           }
          ],
          "choropleth": [
           {
            "colorbar": {
             "outlinewidth": 0,
             "ticks": ""
            },
            "type": "choropleth"
           }
          ],
          "contour": [
           {
            "colorbar": {
             "outlinewidth": 0,
             "ticks": ""
            },
            "colorscale": [
             [
              0,
              "#0d0887"
             ],
             [
              0.1111111111111111,
              "#46039f"
             ],
             [
              0.2222222222222222,
              "#7201a8"
             ],
             [
              0.3333333333333333,
              "#9c179e"
             ],
             [
              0.4444444444444444,
              "#bd3786"
             ],
             [
              0.5555555555555556,
              "#d8576b"
             ],
             [
              0.6666666666666666,
              "#ed7953"
             ],
             [
              0.7777777777777778,
              "#fb9f3a"
             ],
             [
              0.8888888888888888,
              "#fdca26"
             ],
             [
              1,
              "#f0f921"
             ]
            ],
            "type": "contour"
           }
          ],
          "contourcarpet": [
           {
            "colorbar": {
             "outlinewidth": 0,
             "ticks": ""
            },
            "type": "contourcarpet"
           }
          ],
          "heatmap": [
           {
            "colorbar": {
             "outlinewidth": 0,
             "ticks": ""
            },
            "colorscale": [
             [
              0,
              "#0d0887"
             ],
             [
              0.1111111111111111,
              "#46039f"
             ],
             [
              0.2222222222222222,
              "#7201a8"
             ],
             [
              0.3333333333333333,
              "#9c179e"
             ],
             [
              0.4444444444444444,
              "#bd3786"
             ],
             [
              0.5555555555555556,
              "#d8576b"
             ],
             [
              0.6666666666666666,
              "#ed7953"
             ],
             [
              0.7777777777777778,
              "#fb9f3a"
             ],
             [
              0.8888888888888888,
              "#fdca26"
             ],
             [
              1,
              "#f0f921"
             ]
            ],
            "type": "heatmap"
           }
          ],
          "histogram": [
           {
            "marker": {
             "pattern": {
              "fillmode": "overlay",
              "size": 10,
              "solidity": 0.2
             }
            },
            "type": "histogram"
           }
          ],
          "histogram2d": [
           {
            "colorbar": {
             "outlinewidth": 0,
             "ticks": ""
            },
            "colorscale": [
             [
              0,
              "#0d0887"
             ],
             [
              0.1111111111111111,
              "#46039f"
             ],
             [
              0.2222222222222222,
              "#7201a8"
             ],
             [
              0.3333333333333333,
              "#9c179e"
             ],
             [
              0.4444444444444444,
              "#bd3786"
             ],
             [
              0.5555555555555556,
              "#d8576b"
             ],
             [
              0.6666666666666666,
              "#ed7953"
             ],
             [
              0.7777777777777778,
              "#fb9f3a"
             ],
             [
              0.8888888888888888,
              "#fdca26"
             ],
             [
              1,
              "#f0f921"
             ]
            ],
            "type": "histogram2d"
           }
          ],
          "histogram2dcontour": [
           {
            "colorbar": {
             "outlinewidth": 0,
             "ticks": ""
            },
            "colorscale": [
             [
              0,
              "#0d0887"
             ],
             [
              0.1111111111111111,
              "#46039f"
             ],
             [
              0.2222222222222222,
              "#7201a8"
             ],
             [
              0.3333333333333333,
              "#9c179e"
             ],
             [
              0.4444444444444444,
              "#bd3786"
             ],
             [
              0.5555555555555556,
              "#d8576b"
             ],
             [
              0.6666666666666666,
              "#ed7953"
             ],
             [
              0.7777777777777778,
              "#fb9f3a"
             ],
             [
              0.8888888888888888,
              "#fdca26"
             ],
             [
              1,
              "#f0f921"
             ]
            ],
            "type": "histogram2dcontour"
           }
          ],
          "mesh3d": [
           {
            "colorbar": {
             "outlinewidth": 0,
             "ticks": ""
            },
            "type": "mesh3d"
           }
          ],
          "parcoords": [
           {
            "line": {
             "colorbar": {
              "outlinewidth": 0,
              "ticks": ""
             }
            },
            "type": "parcoords"
           }
          ],
          "pie": [
           {
            "automargin": true,
            "type": "pie"
           }
          ],
          "scatter": [
           {
            "fillpattern": {
             "fillmode": "overlay",
             "size": 10,
             "solidity": 0.2
            },
            "type": "scatter"
           }
          ],
          "scatter3d": [
           {
            "line": {
             "colorbar": {
              "outlinewidth": 0,
              "ticks": ""
             }
            },
            "marker": {
             "colorbar": {
              "outlinewidth": 0,
              "ticks": ""
             }
            },
            "type": "scatter3d"
           }
          ],
          "scattercarpet": [
           {
            "marker": {
             "colorbar": {
              "outlinewidth": 0,
              "ticks": ""
             }
            },
            "type": "scattercarpet"
           }
          ],
          "scattergeo": [
           {
            "marker": {
             "colorbar": {
              "outlinewidth": 0,
              "ticks": ""
             }
            },
            "type": "scattergeo"
           }
          ],
          "scattergl": [
           {
            "marker": {
             "colorbar": {
              "outlinewidth": 0,
              "ticks": ""
             }
            },
            "type": "scattergl"
           }
          ],
          "scattermap": [
           {
            "marker": {
             "colorbar": {
              "outlinewidth": 0,
              "ticks": ""
             }
            },
            "type": "scattermap"
           }
          ],
          "scattermapbox": [
           {
            "marker": {
             "colorbar": {
              "outlinewidth": 0,
              "ticks": ""
             }
            },
            "type": "scattermapbox"
           }
          ],
          "scatterpolar": [
           {
            "marker": {
             "colorbar": {
              "outlinewidth": 0,
              "ticks": ""
             }
            },
            "type": "scatterpolar"
           }
          ],
          "scatterpolargl": [
           {
            "marker": {
             "colorbar": {
              "outlinewidth": 0,
              "ticks": ""
             }
            },
            "type": "scatterpolargl"
           }
          ],
          "scatterternary": [
           {
            "marker": {
             "colorbar": {
              "outlinewidth": 0,
              "ticks": ""
             }
            },
            "type": "scatterternary"
           }
          ],
          "surface": [
           {
            "colorbar": {
             "outlinewidth": 0,
             "ticks": ""
            },
            "colorscale": [
             [
              0,
              "#0d0887"
             ],
             [
              0.1111111111111111,
              "#46039f"
             ],
             [
              0.2222222222222222,
              "#7201a8"
             ],
             [
              0.3333333333333333,
              "#9c179e"
             ],
             [
              0.4444444444444444,
              "#bd3786"
             ],
             [
              0.5555555555555556,
              "#d8576b"
             ],
             [
              0.6666666666666666,
              "#ed7953"
             ],
             [
              0.7777777777777778,
              "#fb9f3a"
             ],
             [
              0.8888888888888888,
              "#fdca26"
             ],
             [
              1,
              "#f0f921"
             ]
            ],
            "type": "surface"
           }
          ],
          "table": [
           {
            "cells": {
             "fill": {
              "color": "#EBF0F8"
             },
             "line": {
              "color": "white"
             }
            },
            "header": {
             "fill": {
              "color": "#C8D4E3"
             },
             "line": {
              "color": "white"
             }
            },
            "type": "table"
           }
          ]
         },
         "layout": {
          "annotationdefaults": {
           "arrowcolor": "#2a3f5f",
           "arrowhead": 0,
           "arrowwidth": 1
          },
          "autotypenumbers": "strict",
          "coloraxis": {
           "colorbar": {
            "outlinewidth": 0,
            "ticks": ""
           }
          },
          "colorscale": {
           "diverging": [
            [
             0,
             "#8e0152"
            ],
            [
             0.1,
             "#c51b7d"
            ],
            [
             0.2,
             "#de77ae"
            ],
            [
             0.3,
             "#f1b6da"
            ],
            [
             0.4,
             "#fde0ef"
            ],
            [
             0.5,
             "#f7f7f7"
            ],
            [
             0.6,
             "#e6f5d0"
            ],
            [
             0.7,
             "#b8e186"
            ],
            [
             0.8,
             "#7fbc41"
            ],
            [
             0.9,
             "#4d9221"
            ],
            [
             1,
             "#276419"
            ]
           ],
           "sequential": [
            [
             0,
             "#0d0887"
            ],
            [
             0.1111111111111111,
             "#46039f"
            ],
            [
             0.2222222222222222,
             "#7201a8"
            ],
            [
             0.3333333333333333,
             "#9c179e"
            ],
            [
             0.4444444444444444,
             "#bd3786"
            ],
            [
             0.5555555555555556,
             "#d8576b"
            ],
            [
             0.6666666666666666,
             "#ed7953"
            ],
            [
             0.7777777777777778,
             "#fb9f3a"
            ],
            [
             0.8888888888888888,
             "#fdca26"
            ],
            [
             1,
             "#f0f921"
            ]
           ],
           "sequentialminus": [
            [
             0,
             "#0d0887"
            ],
            [
             0.1111111111111111,
             "#46039f"
            ],
            [
             0.2222222222222222,
             "#7201a8"
            ],
            [
             0.3333333333333333,
             "#9c179e"
            ],
            [
             0.4444444444444444,
             "#bd3786"
            ],
            [
             0.5555555555555556,
             "#d8576b"
            ],
            [
             0.6666666666666666,
             "#ed7953"
            ],
            [
             0.7777777777777778,
             "#fb9f3a"
            ],
            [
             0.8888888888888888,
             "#fdca26"
            ],
            [
             1,
             "#f0f921"
            ]
           ]
          },
          "colorway": [
           "#636efa",
           "#EF553B",
           "#00cc96",
           "#ab63fa",
           "#FFA15A",
           "#19d3f3",
           "#FF6692",
           "#B6E880",
           "#FF97FF",
           "#FECB52"
          ],
          "font": {
           "color": "#2a3f5f"
          },
          "geo": {
           "bgcolor": "white",
           "lakecolor": "white",
           "landcolor": "#E5ECF6",
           "showlakes": true,
           "showland": true,
           "subunitcolor": "white"
          },
          "hoverlabel": {
           "align": "left"
          },
          "hovermode": "closest",
          "mapbox": {
           "style": "light"
          },
          "paper_bgcolor": "white",
          "plot_bgcolor": "#E5ECF6",
          "polar": {
           "angularaxis": {
            "gridcolor": "white",
            "linecolor": "white",
            "ticks": ""
           },
           "bgcolor": "#E5ECF6",
           "radialaxis": {
            "gridcolor": "white",
            "linecolor": "white",
            "ticks": ""
           }
          },
          "scene": {
           "xaxis": {
            "backgroundcolor": "#E5ECF6",
            "gridcolor": "white",
            "gridwidth": 2,
            "linecolor": "white",
            "showbackground": true,
            "ticks": "",
            "zerolinecolor": "white"
           },
           "yaxis": {
            "backgroundcolor": "#E5ECF6",
            "gridcolor": "white",
            "gridwidth": 2,
            "linecolor": "white",
            "showbackground": true,
            "ticks": "",
            "zerolinecolor": "white"
           },
           "zaxis": {
            "backgroundcolor": "#E5ECF6",
            "gridcolor": "white",
            "gridwidth": 2,
            "linecolor": "white",
            "showbackground": true,
            "ticks": "",
            "zerolinecolor": "white"
           }
          },
          "shapedefaults": {
           "line": {
            "color": "#2a3f5f"
           }
          },
          "ternary": {
           "aaxis": {
            "gridcolor": "white",
            "linecolor": "white",
            "ticks": ""
           },
           "baxis": {
            "gridcolor": "white",
            "linecolor": "white",
            "ticks": ""
           },
           "bgcolor": "#E5ECF6",
           "caxis": {
            "gridcolor": "white",
            "linecolor": "white",
            "ticks": ""
           }
          },
          "title": {
           "x": 0.05
          },
          "xaxis": {
           "automargin": true,
           "gridcolor": "white",
           "linecolor": "white",
           "ticks": "",
           "title": {
            "standoff": 15
           },
           "zerolinecolor": "white",
           "zerolinewidth": 2
          },
          "yaxis": {
           "automargin": true,
           "gridcolor": "white",
           "linecolor": "white",
           "ticks": "",
           "title": {
            "standoff": 15
           },
           "zerolinecolor": "white",
           "zerolinewidth": 2
          }
         }
        },
        "title": {
         "text": "Porcentaje de Deserción por Curso"
        },
        "xaxis": {
         "title": {
          "text": "Curso"
         }
        },
        "yaxis": {
         "title": {
          "text": "Porcentaje de Deserción"
         }
        }
       }
      }
     },
     "metadata": {},
     "output_type": "display_data"
    },
    {
     "data": {
      "application/vnd.plotly.v1+json": {
       "config": {
        "plotlyServerURL": "https://plot.ly"
       },
       "data": [
        {
         "alignmentgroup": "True",
         "hovertemplate": "Course=%{x}<br>Curricular units 1st sem (grade)=%{y}<extra></extra>",
         "legendgroup": "",
         "marker": {
          "color": "#636efa"
         },
         "name": "",
         "notched": false,
         "offsetgroup": "",
         "orientation": "v",
         "showlegend": false,
         "type": "box",
         "x": {
          "bdata": "AgULChAPAQcJCA8PERELCAwJAgsJCxARBAwIEAwGAxAKBgwMCwINDAwOCwsQEA4QCgsMEAwPBQsJBgkQEQcLEQMDBgsOCwkIBgkEDw0KAwcJEAgFDgoICBAJBgcCCwILEQYPDAYJDA8GDgkGEAwGBgwODAQQAw4LDQwMDg4IDQYICQMRAwoQAxANBwkIDgUHDwcPBQcJBBEEBwkHBgMREBAIBQIIBgkQBRAPDg8EDwwDEA8GCgYJCAEJBwkNEREDEQcIDgEDCBEPCAsPBQwRBAQOEQIOEQ8GAg4GDAoPChAOCwoIBwcICQgCDwoEBw8HCQUOBgcHBwUNBQQEAgMRCQkOAhEMEQMKDAYKCQwDBg8JEQwHDg4OEQQRCQcRBwkFCgYPBQUOCg8JDgYFChEPDAwOCgUDEAsCCA8PEA4GCAIMEQULAgsOAgsMCQ8HCwwMBgkIBRAJCgMEDQIREQcOEQgREAoQCAcPDgkQCQsQBAQDDgwJCwwPCwsICAUQDwsCBwcFDgcJDQIFCgwICAcCCQcLAwYIEBAJBAsCBwQIAgkJDgcHDxEEBgYDCAwODwwLDAwJEQYODwwMEAcJEAMIAxELDAcCCAQRBA4GERALBAICCg8ECQMGAw8NDRAREQ4HDw4LAgwQBQgLDQwODg0CBwUHBgwMDwINDAcREQsIBwkFCAgPDgYIBAQFBwgCCQQMDxEMDAoFCREGBgQLDA4JEQ4MBQ8MDgwQCQ8ICAQRDAcGDgcLCAkRDgwDDQwCBAsEDwgPAw4GDwsLAgoOBQILAwsKEBAPEBAEBBACCxEJCBAMDQ8GCQ8DCA4QDAsPEA4MBgoLDAwCCwkLDgoGAwIQDwwECQ0DAgkPCgkCCwQPAgkLCwsHCgIGBxELAQUJCwQECQwREREDAhEDCwkRBwkCCQsJCBEMCQgHEQUKEQcRBQMEAhEIBwQOBgQLDwgOCREHCQoEBAsEAwkMDBERBwMKBQYRBAcJEQQHDwcEDgkOEBEHEQQHBw8LAgsRCAUJBg4EAwkEDgkDAgoQDw4QCgUJEAULEQ8MBgsEEAQNBQIQBgoPEREHCBAQERERCw0LBw4RAgQDDAQJAgsRDBEPEQMLDQwRBAcPCQsFAgQHBAkJAwkGCQgLBBERBwMRCQYMAwwQDw4CCQwHCAwGCAIRERENDwkPDAwCDwMMEQ0QAxERAwMDBA8GCREECg4CEQgRAw8GEAMQEAYCDBAFBRECEAYPAw8NCAYMEA8QDBAPDw0GCAMLDgsGAwoJDgYIEQsPAw4CBgILDBEJAgkQEQsQCwEOCAcIDAkCBA4FDwsKDw8RDwoECxEODREJBgMQDw0ICAMQDA8LBAEJAw0OCgQKDAwCDAYRBxEJCQcCCAsHDgQOBg8GCwwJDgQHBAQMDgkQCgsJDAkJDAwLBgoRBgkDCQwPDQUGCREGCQMJBxEEDAwODggCEREHEREJBQkLDAIODgIHCxECBAwHCxEREQkLBw4IDgoJBwQIBwcRBhEMBhEBAhEODwQJAgUHBgcOCgYDAwIPCwoQCgwFCQ8CEQkECQkHDgcCEQYJBwkFDgIJAQ4ICQ4FBAcOBBEFCgkHDhAMBgwRCg8PCAYGAwIKCggHDwcOBhAJEQUDAwoKCwQIAgsHBgoEDwkJAgQJBg8PBBEPBAQKDhEEDwYPDAYFCAwMDgYJDAcRDw4IEAkEDQYJDwwGCgQEEBEQDAwHBwYEEAsNDhELAw4MDAwCAwgMCAsGDwMLBgUCCQgDEQwNCgwNEAoFCgwQCBACDxANEQkKAgIPDgMGDgYMCgIQEQwMCRAOAw8EERERBwkHCxEJCQQLEQkCCQ8JCQkCAhEHCw8RAwkQCgIKDgoLCRAGAwsQEQQREREMCgoOEQkPEQYIDwgMDww=",
          "dtype": "i1"
         },
         "x0": " ",
         "xaxis": "x",
         "y": {
          "bdata": "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",
          "dtype": "f8"
         },
         "y0": " ",
         "yaxis": "y"
        }
       ],
       "layout": {
        "boxmode": "group",
        "legend": {
         "tracegroupgap": 0
        },
        "template": {
         "data": {
          "bar": [
           {
            "error_x": {
             "color": "#2a3f5f"
            },
            "error_y": {
             "color": "#2a3f5f"
            },
            "marker": {
             "line": {
              "color": "#E5ECF6",
              "width": 0.5
             },
             "pattern": {
              "fillmode": "overlay",
              "size": 10,
              "solidity": 0.2
             }
            },
            "type": "bar"
           }
          ],
          "barpolar": [
           {
            "marker": {
             "line": {
              "color": "#E5ECF6",
              "width": 0.5
             },
             "pattern": {
              "fillmode": "overlay",
              "size": 10,
              "solidity": 0.2
             }
            },
            "type": "barpolar"
           }
          ],
          "carpet": [
           {
            "aaxis": {
             "endlinecolor": "#2a3f5f",
             "gridcolor": "white",
             "linecolor": "white",
             "minorgridcolor": "white",
             "startlinecolor": "#2a3f5f"
            },
            "baxis": {
             "endlinecolor": "#2a3f5f",
             "gridcolor": "white",
             "linecolor": "white",
             "minorgridcolor": "white",
             "startlinecolor": "#2a3f5f"
            },
            "type": "carpet"
           }
          ],
          "choropleth": [
           {
            "colorbar": {
             "outlinewidth": 0,
             "ticks": ""
            },
            "type": "choropleth"
           }
          ],
          "contour": [
           {
            "colorbar": {
             "outlinewidth": 0,
             "ticks": ""
            },
            "colorscale": [
             [
              0,
              "#0d0887"
             ],
             [
              0.1111111111111111,
              "#46039f"
             ],
             [
              0.2222222222222222,
              "#7201a8"
             ],
             [
              0.3333333333333333,
              "#9c179e"
             ],
             [
              0.4444444444444444,
              "#bd3786"
             ],
             [
              0.5555555555555556,
              "#d8576b"
             ],
             [
              0.6666666666666666,
              "#ed7953"
             ],
             [
              0.7777777777777778,
              "#fb9f3a"
             ],
             [
              0.8888888888888888,
              "#fdca26"
             ],
             [
              1,
              "#f0f921"
             ]
            ],
            "type": "contour"
           }
          ],
          "contourcarpet": [
           {
            "colorbar": {
             "outlinewidth": 0,
             "ticks": ""
            },
            "type": "contourcarpet"
           }
          ],
          "heatmap": [
           {
            "colorbar": {
             "outlinewidth": 0,
             "ticks": ""
            },
            "colorscale": [
             [
              0,
              "#0d0887"
             ],
             [
              0.1111111111111111,
              "#46039f"
             ],
             [
              0.2222222222222222,
              "#7201a8"
             ],
             [
              0.3333333333333333,
              "#9c179e"
             ],
             [
              0.4444444444444444,
              "#bd3786"
             ],
             [
              0.5555555555555556,
              "#d8576b"
             ],
             [
              0.6666666666666666,
              "#ed7953"
             ],
             [
              0.7777777777777778,
              "#fb9f3a"
             ],
             [
              0.8888888888888888,
              "#fdca26"
             ],
             [
              1,
              "#f0f921"
             ]
            ],
            "type": "heatmap"
           }
          ],
          "histogram": [
           {
            "marker": {
             "pattern": {
              "fillmode": "overlay",
              "size": 10,
              "solidity": 0.2
             }
            },
            "type": "histogram"
           }
          ],
          "histogram2d": [
           {
            "colorbar": {
             "outlinewidth": 0,
             "ticks": ""
            },
            "colorscale": [
             [
              0,
              "#0d0887"
             ],
             [
              0.1111111111111111,
              "#46039f"
             ],
             [
              0.2222222222222222,
              "#7201a8"
             ],
             [
              0.3333333333333333,
              "#9c179e"
             ],
             [
              0.4444444444444444,
              "#bd3786"
             ],
             [
              0.5555555555555556,
              "#d8576b"
             ],
             [
              0.6666666666666666,
              "#ed7953"
             ],
             [
              0.7777777777777778,
              "#fb9f3a"
             ],
             [
              0.8888888888888888,
              "#fdca26"
             ],
             [
              1,
              "#f0f921"
             ]
            ],
            "type": "histogram2d"
           }
          ],
          "histogram2dcontour": [
           {
            "colorbar": {
             "outlinewidth": 0,
             "ticks": ""
            },
            "colorscale": [
             [
              0,
              "#0d0887"
             ],
             [
              0.1111111111111111,
              "#46039f"
             ],
             [
              0.2222222222222222,
              "#7201a8"
             ],
             [
              0.3333333333333333,
              "#9c179e"
             ],
             [
              0.4444444444444444,
              "#bd3786"
             ],
             [
              0.5555555555555556,
              "#d8576b"
             ],
             [
              0.6666666666666666,
              "#ed7953"
             ],
             [
              0.7777777777777778,
              "#fb9f3a"
             ],
             [
              0.8888888888888888,
              "#fdca26"
             ],
             [
              1,
              "#f0f921"
             ]
            ],
            "type": "histogram2dcontour"
           }
          ],
          "mesh3d": [
           {
            "colorbar": {
             "outlinewidth": 0,
             "ticks": ""
            },
            "type": "mesh3d"
           }
          ],
          "parcoords": [
           {
            "line": {
             "colorbar": {
              "outlinewidth": 0,
              "ticks": ""
             }
            },
            "type": "parcoords"
           }
          ],
          "pie": [
           {
            "automargin": true,
            "type": "pie"
           }
          ],
          "scatter": [
           {
            "fillpattern": {
             "fillmode": "overlay",
             "size": 10,
             "solidity": 0.2
            },
            "type": "scatter"
           }
          ],
          "scatter3d": [
           {
            "line": {
             "colorbar": {
              "outlinewidth": 0,
              "ticks": ""
             }
            },
            "marker": {
             "colorbar": {
              "outlinewidth": 0,
              "ticks": ""
             }
            },
            "type": "scatter3d"
           }
          ],
          "scattercarpet": [
           {
            "marker": {
             "colorbar": {
              "outlinewidth": 0,
              "ticks": ""
             }
            },
            "type": "scattercarpet"
           }
          ],
          "scattergeo": [
           {
            "marker": {
             "colorbar": {
              "outlinewidth": 0,
              "ticks": ""
             }
            },
            "type": "scattergeo"
           }
          ],
          "scattergl": [
           {
            "marker": {
             "colorbar": {
              "outlinewidth": 0,
              "ticks": ""
             }
            },
            "type": "scattergl"
           }
          ],
          "scattermap": [
           {
            "marker": {
             "colorbar": {
              "outlinewidth": 0,
              "ticks": ""
             }
            },
            "type": "scattermap"
           }
          ],
          "scattermapbox": [
           {
            "marker": {
             "colorbar": {
              "outlinewidth": 0,
              "ticks": ""
             }
            },
            "type": "scattermapbox"
           }
          ],
          "scatterpolar": [
           {
            "marker": {
             "colorbar": {
              "outlinewidth": 0,
              "ticks": ""
             }
            },
            "type": "scatterpolar"
           }
          ],
          "scatterpolargl": [
           {
            "marker": {
             "colorbar": {
              "outlinewidth": 0,
              "ticks": ""
             }
            },
            "type": "scatterpolargl"
           }
          ],
          "scatterternary": [
           {
            "marker": {
             "colorbar": {
              "outlinewidth": 0,
              "ticks": ""
             }
            },
            "type": "scatterternary"
           }
          ],
          "surface": [
           {
            "colorbar": {
             "outlinewidth": 0,
             "ticks": ""
            },
            "colorscale": [
             [
              0,
              "#0d0887"
             ],
             [
              0.1111111111111111,
              "#46039f"
             ],
             [
              0.2222222222222222,
              "#7201a8"
             ],
             [
              0.3333333333333333,
              "#9c179e"
             ],
             [
              0.4444444444444444,
              "#bd3786"
             ],
             [
              0.5555555555555556,
              "#d8576b"
             ],
             [
              0.6666666666666666,
              "#ed7953"
             ],
             [
              0.7777777777777778,
              "#fb9f3a"
             ],
             [
              0.8888888888888888,
              "#fdca26"
             ],
             [
              1,
              "#f0f921"
             ]
            ],
            "type": "surface"
           }
          ],
          "table": [
           {
            "cells": {
             "fill": {
              "color": "#EBF0F8"
             },
             "line": {
              "color": "white"
             }
            },
            "header": {
             "fill": {
              "color": "#C8D4E3"
             },
             "line": {
              "color": "white"
             }
            },
            "type": "table"
           }
          ]
         },
         "layout": {
          "annotationdefaults": {
           "arrowcolor": "#2a3f5f",
           "arrowhead": 0,
           "arrowwidth": 1
          },
          "autotypenumbers": "strict",
          "coloraxis": {
           "colorbar": {
            "outlinewidth": 0,
            "ticks": ""
           }
          },
          "colorscale": {
           "diverging": [
            [
             0,
             "#8e0152"
            ],
            [
             0.1,
             "#c51b7d"
            ],
            [
             0.2,
             "#de77ae"
            ],
            [
             0.3,
             "#f1b6da"
            ],
            [
             0.4,
             "#fde0ef"
            ],
            [
             0.5,
             "#f7f7f7"
            ],
            [
             0.6,
             "#e6f5d0"
            ],
            [
             0.7,
             "#b8e186"
            ],
            [
             0.8,
             "#7fbc41"
            ],
            [
             0.9,
             "#4d9221"
            ],
            [
             1,
             "#276419"
            ]
           ],
           "sequential": [
            [
             0,
             "#0d0887"
            ],
            [
             0.1111111111111111,
             "#46039f"
            ],
            [
             0.2222222222222222,
             "#7201a8"
            ],
            [
             0.3333333333333333,
             "#9c179e"
            ],
            [
             0.4444444444444444,
             "#bd3786"
            ],
            [
             0.5555555555555556,
             "#d8576b"
            ],
            [
             0.6666666666666666,
             "#ed7953"
            ],
            [
             0.7777777777777778,
             "#fb9f3a"
            ],
            [
             0.8888888888888888,
             "#fdca26"
            ],
            [
             1,
             "#f0f921"
            ]
           ],
           "sequentialminus": [
            [
             0,
             "#0d0887"
            ],
            [
             0.1111111111111111,
             "#46039f"
            ],
            [
             0.2222222222222222,
             "#7201a8"
            ],
            [
             0.3333333333333333,
             "#9c179e"
            ],
            [
             0.4444444444444444,
             "#bd3786"
            ],
            [
             0.5555555555555556,
             "#d8576b"
            ],
            [
             0.6666666666666666,
             "#ed7953"
            ],
            [
             0.7777777777777778,
             "#fb9f3a"
            ],
            [
             0.8888888888888888,
             "#fdca26"
            ],
            [
             1,
             "#f0f921"
            ]
           ]
          },
          "colorway": [
           "#636efa",
           "#EF553B",
           "#00cc96",
           "#ab63fa",
           "#FFA15A",
           "#19d3f3",
           "#FF6692",
           "#B6E880",
           "#FF97FF",
           "#FECB52"
          ],
          "font": {
           "color": "#2a3f5f"
          },
          "geo": {
           "bgcolor": "white",
           "lakecolor": "white",
           "landcolor": "#E5ECF6",
           "showlakes": true,
           "showland": true,
           "subunitcolor": "white"
          },
          "hoverlabel": {
           "align": "left"
          },
          "hovermode": "closest",
          "mapbox": {
           "style": "light"
          },
          "paper_bgcolor": "white",
          "plot_bgcolor": "#E5ECF6",
          "polar": {
           "angularaxis": {
            "gridcolor": "white",
            "linecolor": "white",
            "ticks": ""
           },
           "bgcolor": "#E5ECF6",
           "radialaxis": {
            "gridcolor": "white",
            "linecolor": "white",
            "ticks": ""
           }
          },
          "scene": {
           "xaxis": {
            "backgroundcolor": "#E5ECF6",
            "gridcolor": "white",
            "gridwidth": 2,
            "linecolor": "white",
            "showbackground": true,
            "ticks": "",
            "zerolinecolor": "white"
           },
           "yaxis": {
            "backgroundcolor": "#E5ECF6",
            "gridcolor": "white",
            "gridwidth": 2,
            "linecolor": "white",
            "showbackground": true,
            "ticks": "",
            "zerolinecolor": "white"
           },
           "zaxis": {
            "backgroundcolor": "#E5ECF6",
            "gridcolor": "white",
            "gridwidth": 2,
            "linecolor": "white",
            "showbackground": true,
            "ticks": "",
            "zerolinecolor": "white"
           }
          },
          "shapedefaults": {
           "line": {
            "color": "#2a3f5f"
           }
          },
          "ternary": {
           "aaxis": {
            "gridcolor": "white",
            "linecolor": "white",
            "ticks": ""
           },
           "baxis": {
            "gridcolor": "white",
            "linecolor": "white",
            "ticks": ""
           },
           "bgcolor": "#E5ECF6",
           "caxis": {
            "gridcolor": "white",
            "linecolor": "white",
            "ticks": ""
           }
          },
          "title": {
           "x": 0.05
          },
          "xaxis": {
           "automargin": true,
           "gridcolor": "white",
           "linecolor": "white",
           "ticks": "",
           "title": {
            "standoff": 15
           },
           "zerolinecolor": "white",
           "zerolinewidth": 2
          },
          "yaxis": {
           "automargin": true,
           "gridcolor": "white",
           "linecolor": "white",
           "ticks": "",
           "title": {
            "standoff": 15
           },
           "zerolinecolor": "white",
           "zerolinewidth": 2
          }
         }
        },
        "title": {
         "text": "Rendimiento de Desertores por Curso"
        },
        "xaxis": {
         "anchor": "y",
         "domain": [
          0,
          1
         ],
         "title": {
          "text": "Course"
         }
        },
        "yaxis": {
         "anchor": "x",
         "domain": [
          0,
          1
         ],
         "title": {
          "text": "Curricular units 1st sem (grade)"
         }
        }
       }
      }
     },
     "metadata": {},
     "output_type": "display_data"
    }
   ],
   "source": [
    "# Ejecutar análisis completo\n",
    "analysis.basic_statistics()\n",
    "analysis.demographic_analysis()\n",
    "analysis.academic_performance_analysis()\n",
    "analysis.economic_context_analysis()\n",
    "analysis.family_background_analysis()\n",
    "analysis.correlation_analysis()\n",
    "analysis.course_specific_analysis()"
   ]
  },
  {
   "cell_type": "code",
   "execution_count": 8,
   "metadata": {},
   "outputs": [
    {
     "name": "stdout",
     "output_type": "stream",
     "text": [
      "\n",
      "Insights principales:\n",
      "total_dropouts              1421.000000\n",
      "dropout_rate                   0.321203\n",
      "avg_dropout_age               26.068966\n",
      "dropout_scholarship_rate       0.094300\n",
      "avg_first_sem_grade            7.256656\n",
      "avg_second_sem_grade           5.899339\n",
      "dtype: float64\n"
     ]
    }
   ],
   "source": [
    "# Mostrar insights\n",
    "print(\"\\nInsights principales:\")\n",
    "print(analysis.generate_insights())"
   ]
  },
  {
   "cell_type": "markdown",
   "metadata": {},
   "source": [
    "## Modelando la desercion"
   ]
  },
  {
   "cell_type": "code",
   "execution_count": 9,
   "metadata": {},
   "outputs": [],
   "source": [
    "model = StudentDropoutModel()"
   ]
  },
  {
   "cell_type": "code",
   "execution_count": 10,
   "metadata": {},
   "outputs": [],
   "source": [
    "model.model_data_preparation()\n",
    "model.create_features()"
   ]
  },
  {
   "cell_type": "code",
   "execution_count": 11,
   "metadata": {},
   "outputs": [
    {
     "name": "stdout",
     "output_type": "stream",
     "text": [
      "\n",
      "Entrenamiento:\n",
      "--------------------------------------------------\n",
      "Training until validation scores don't improve for 30 rounds\n",
      "[50]\tvalid_0's binary_logloss: 0.343045\n",
      "[100]\tvalid_0's binary_logloss: 0.335648\n",
      "Early stopping, best iteration is:\n",
      "[78]\tvalid_0's binary_logloss: 0.329481\n",
      "\n",
      "Fold 1 Metricas:\n",
      "Precision en Valicacion: 0.8701\n",
      "Mejor Iteracion: 78\n",
      "Reporte de Clasificacion:\n",
      "              precision    recall  f1-score   support\n",
      "\n",
      "           0       0.81      0.79      0.80       230\n",
      "           1       0.90      0.91      0.90       478\n",
      "\n",
      "    accuracy                           0.87       708\n",
      "   macro avg       0.85      0.85      0.85       708\n",
      "weighted avg       0.87      0.87      0.87       708\n",
      "\n",
      "Training until validation scores don't improve for 30 rounds\n",
      "[50]\tvalid_0's binary_logloss: 0.325792\n",
      "[100]\tvalid_0's binary_logloss: 0.319929\n",
      "Early stopping, best iteration is:\n",
      "[71]\tvalid_0's binary_logloss: 0.318607\n",
      "\n",
      "Fold 2 Metricas:\n",
      "Precision en Valicacion: 0.8644\n",
      "Mejor Iteracion: 71\n",
      "Reporte de Clasificacion:\n",
      "              precision    recall  f1-score   support\n",
      "\n",
      "           0       0.79      0.80      0.79       230\n",
      "           1       0.90      0.90      0.90       478\n",
      "\n",
      "    accuracy                           0.86       708\n",
      "   macro avg       0.85      0.85      0.85       708\n",
      "weighted avg       0.86      0.86      0.86       708\n",
      "\n",
      "Training until validation scores don't improve for 30 rounds\n",
      "[50]\tvalid_0's binary_logloss: 0.331125\n",
      "[100]\tvalid_0's binary_logloss: 0.32152\n",
      "Early stopping, best iteration is:\n",
      "[97]\tvalid_0's binary_logloss: 0.320407\n",
      "\n",
      "Fold 3 Metricas:\n",
      "Precision en Valicacion: 0.8799\n",
      "Mejor Iteracion: 97\n",
      "Reporte de Clasificacion:\n",
      "              precision    recall  f1-score   support\n",
      "\n",
      "           0       0.84      0.78      0.81       230\n",
      "           1       0.90      0.93      0.91       478\n",
      "\n",
      "    accuracy                           0.88       708\n",
      "   macro avg       0.87      0.85      0.86       708\n",
      "weighted avg       0.88      0.88      0.88       708\n",
      "\n",
      "Training until validation scores don't improve for 30 rounds\n",
      "[50]\tvalid_0's binary_logloss: 0.36859\n",
      "Early stopping, best iteration is:\n",
      "[68]\tvalid_0's binary_logloss: 0.362601\n",
      "\n",
      "Fold 4 Metricas:\n",
      "Precision en Valicacion: 0.8460\n",
      "Mejor Iteracion: 68\n",
      "Reporte de Clasificacion:\n",
      "              precision    recall  f1-score   support\n",
      "\n",
      "           0       0.76      0.77      0.76       230\n",
      "           1       0.89      0.88      0.89       478\n",
      "\n",
      "    accuracy                           0.85       708\n",
      "   macro avg       0.82      0.83      0.82       708\n",
      "weighted avg       0.85      0.85      0.85       708\n",
      "\n",
      "Training until validation scores don't improve for 30 rounds\n",
      "[50]\tvalid_0's binary_logloss: 0.33397\n",
      "[100]\tvalid_0's binary_logloss: 0.324187\n",
      "Early stopping, best iteration is:\n",
      "[93]\tvalid_0's binary_logloss: 0.320692\n",
      "\n",
      "Fold 5 Metricas:\n",
      "Precision en Valicacion: 0.8670\n",
      "Mejor Iteracion: 93\n",
      "Reporte de Clasificacion:\n",
      "              precision    recall  f1-score   support\n",
      "\n",
      "           0       0.80      0.78      0.79       230\n",
      "           1       0.90      0.91      0.90       477\n",
      "\n",
      "    accuracy                           0.87       707\n",
      "   macro avg       0.85      0.85      0.85       707\n",
      "weighted avg       0.87      0.87      0.87       707\n",
      "\n",
      "\n",
      "Rendimiento general del modelo:\n",
      "--------------------------------------------------\n",
      "Precisión media del CV: 0.8655 ± 0.0111\n"
     ]
    }
   ],
   "source": [
    "predictions = model.train_model()"
   ]
  },
  {
   "cell_type": "code",
   "execution_count": 12,
   "metadata": {},
   "outputs": [],
   "source": [
    "results = model.get_results()"
   ]
  },
  {
   "cell_type": "code",
   "execution_count": 13,
   "metadata": {},
   "outputs": [
    {
     "name": "stdout",
     "output_type": "stream",
     "text": [
      "\n",
      "Muestra de predicciones:\n",
      "    True_Label  Predicted  Dropout_Prob  Graduate_Prob\n",
      "4            1          1      0.067417       0.932582\n",
      "9            0          0      0.815746       0.184254\n",
      "11           1          1      0.044144       0.955856\n",
      "16           1          0      0.650671       0.349329\n",
      "34           1          1      0.166873       0.833127\n"
     ]
    }
   ],
   "source": [
    "print(\"\\nMuestra de predicciones:\")\n",
    "print(results.head())"
   ]
  },
  {
   "cell_type": "code",
   "execution_count": 14,
   "metadata": {},
   "outputs": [],
   "source": [
    "def reporte_final_completo(results):\n",
    "    \"\"\"\n",
    "    Genera un reporte completo del modelo de clasificación, mostrando:\n",
    "      1) Distribución de clases.\n",
    "      2) Métricas globales.\n",
    "      3) Reporte de clasificación detallado.\n",
    "      4) Matriz de confusión.\n",
    "    \"\"\"\n",
    "\n",
    "    # Separar valores reales y predichos\n",
    "    y_true = results['True_Label']\n",
    "    y_pred = results['Predicted']\n",
    "\n",
    "    # 1) Mostrar la distribución de clases en y_true\n",
    "    print(\"========== DISTRIBUCIÓN DE CLASES (VALORES REALES) ==========\")\n",
    "    clase_0 = np.sum(y_true == 0)\n",
    "    clase_1 = np.sum(y_true == 1)\n",
    "    print(f\"Clase 0 (Desercion): {clase_0}\")\n",
    "    print(f\"Clase 1 (No Desercion): {clase_1}\\n\")\n",
    "\n",
    "    # 2) Cálculo de métricas globales\n",
    "    exactitud = accuracy_score(y_true, y_pred)\n",
    "    precision = precision_score(y_true, y_pred)\n",
    "    recall = recall_score(y_true, y_pred)\n",
    "    f1 = f1_score(y_true, y_pred)\n",
    "\n",
    "    # 3) Reporte de Clasificación\n",
    "    print(\"========== MÉTRICAS GLOBALES DEL MODELO ==========\")\n",
    "    print(f\"Exactitud : {exactitud:.2f}\")\n",
    "    print(f\"Precisión : {precision:.2f}\")\n",
    "    print(f\"Recall    : {recall:.2f}\")\n",
    "    print(f\"F1 Score  : {f1:.2f}\\n\")\n",
    "\n",
    "    print(\"========== REPORTE DE CLASIFICACIÓN ==========\")\n",
    "    print(classification_report(y_true, y_pred, digits=2, \n",
    "                                target_names=['Desercion (0)', 'No Desercion (1)']))\n",
    "\n",
    "    # 4) Matriz de Confusión\n",
    "    matriz_confusion = confusion_matrix(y_true, y_pred)\n",
    "    (tn, fp, fn, tp) = matriz_confusion.ravel()\n",
    "    \n",
    "    print(\"========== DETALLE DE LA MATRIZ DE CONFUSIÓN ==========\")\n",
    "    matriz_confusion_normalizada = (\n",
    "        matriz_confusion.astype('float') /\n",
    "        matriz_confusion.sum(axis=1)[:, np.newaxis]\n",
    "    )\n",
    "\n",
    "    # Crear anotaciones con proporción y número entero\n",
    "    anotaciones = np.empty_like(matriz_confusion).astype(str)\n",
    "    for i in range(matriz_confusion.shape[0]):\n",
    "        for j in range(matriz_confusion.shape[1]):\n",
    "            anotaciones[i, j] = f\"{matriz_confusion_normalizada[i, j]:.2f}\\n({matriz_confusion[i, j]})\"\n",
    "\n",
    "    plt.figure(figsize=(8, 6))\n",
    "    sns.heatmap(\n",
    "        matriz_confusion_normalizada,\n",
    "        annot=anotaciones,\n",
    "        fmt=\"\",\n",
    "        cmap=\"Blues\",\n",
    "        xticklabels=['Desercion', 'No Desercion'],\n",
    "        yticklabels=['Desercion', 'No Desercion']\n",
    "    )\n",
    "    plt.xlabel(\"Predicción\")\n",
    "    plt.ylabel(\"Etiqueta Verdadera\")\n",
    "    plt.title(\"Matriz de Confusión (Normalizada)\")\n",
    "    plt.show()"
   ]
  },
  {
   "cell_type": "code",
   "execution_count": 15,
   "metadata": {},
   "outputs": [
    {
     "name": "stdout",
     "output_type": "stream",
     "text": [
      "========== DISTRIBUCIÓN DE CLASES (VALORES REALES) ==========\n",
      "Clase 0 (Desercion): 271\n",
      "Clase 1 (No Desercion): 614\n",
      "\n",
      "========== MÉTRICAS GLOBALES DEL MODELO ==========\n",
      "Exactitud : 0.88\n",
      "Precisión : 0.91\n",
      "Recall    : 0.92\n",
      "F1 Score  : 0.92\n",
      "\n",
      "========== REPORTE DE CLASIFICACIÓN ==========\n",
      "                  precision    recall  f1-score   support\n",
      "\n",
      "   Desercion (0)       0.82      0.79      0.80       271\n",
      "No Desercion (1)       0.91      0.92      0.92       614\n",
      "\n",
      "        accuracy                           0.88       885\n",
      "       macro avg       0.86      0.85      0.86       885\n",
      "    weighted avg       0.88      0.88      0.88       885\n",
      "\n",
      "========== DETALLE DE LA MATRIZ DE CONFUSIÓN ==========\n"
     ]
    },
    {
     "data": {
      "image/png": "[encoded data removed]",
      "text/plain": [
       "<Figure size 800x600 with 2 Axes>"
      ]
     },
     "metadata": {},
     "output_type": "display_data"
    }
   ],
   "source": [
    "reporte_final_completo(results)"
   ]
  }
 ],
 "metadata": {
  "kernelspec": {
   "display_name": "torch_win39",
   "language": "python",
   "name": "python3"
  },
  "language_info": {
   "codemirror_mode": {
    "name": "ipython",
    "version": 3
   },
   "file_extension": ".py",
   "mimetype": "text/x-python",
   "name": "python",
   "nbconvert_exporter": "python",
   "pygments_lexer": "ipython3",
   "version": "3.9.21"
  }
 },
 "nbformat": 4,
 "nbformat_minor": 2
}
